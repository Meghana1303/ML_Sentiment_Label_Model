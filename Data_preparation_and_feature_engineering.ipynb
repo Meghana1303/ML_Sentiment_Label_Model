{
  "nbformat": 4,
  "nbformat_minor": 0,
  "metadata": {
    "colab": {
      "name": "Data preparation and feature engineering.ipynb",
      "version": "0.3.2",
      "provenance": [],
      "collapsed_sections": [],
      "include_colab_link": true
    },
    "kernelspec": {
      "name": "python3",
      "display_name": "Python 3"
    }
  },
  "cells": [
    {
      "cell_type": "markdown",
      "metadata": {
        "id": "view-in-github",
        "colab_type": "text"
      },
      "source": [
        "<a href=\"https://colab.research.google.com/github/Meghana1303/ML_Sentiment_Label_Model/blob/master/Data_preparation_and_feature_engineering.ipynb\" target=\"_parent\"><img src=\"https://colab.research.google.com/assets/colab-badge.svg\" alt=\"Open In Colab\"/></a>"
      ]
    },
    {
      "cell_type": "code",
      "metadata": {
        "id": "ivT0mxHORNWa",
        "colab_type": "code",
        "colab": {
          "resources": {
            "http://localhost:8080/nbextensions/google.colab/files.js": {
              "data": "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",
              "ok": true,
              "headers": [
                [
                  "content-type",
                  "application/javascript"
                ]
              ],
              "status": 200,
              "status_text": ""
            }
          },
          "base_uri": "https://localhost:8080/",
          "height": 91
        },
        "outputId": "0fa65032-3e8a-428d-db62-8b05174d0b7c"
      },
      "source": [
        "from google.colab import files\n",
        "\n",
        "uploaded = files.upload()\n",
        "\n",
        "for fn in uploaded.keys():\n",
        "  print('User uploaded file \"{name}\" with length {length} bytes'.format(\n",
        "      name=fn, length=len(uploaded[fn])))"
      ],
      "execution_count": 5,
      "outputs": [
        {
          "output_type": "display_data",
          "data": {
            "text/html": [
              "\n",
              "     <input type=\"file\" id=\"files-fb3cd3c9-1c53-4e1b-ae2e-11ba0828dbb4\" name=\"files[]\" multiple disabled />\n",
              "     <output id=\"result-fb3cd3c9-1c53-4e1b-ae2e-11ba0828dbb4\">\n",
              "      Upload widget is only available when the cell has been executed in the\n",
              "      current browser session. Please rerun this cell to enable.\n",
              "      </output>\n",
              "      <script src=\"/nbextensions/google.colab/files.js\"></script> "
            ],
            "text/plain": [
              "<IPython.core.display.HTML object>"
            ]
          },
          "metadata": {
            "tags": []
          }
        },
        {
          "output_type": "stream",
          "text": [
            "Saving Automobile price data _Raw_.csv to Automobile price data _Raw_.csv\n",
            "User uploaded file \"Automobile price data _Raw_.csv\" with length 26215 bytes\n"
          ],
          "name": "stdout"
        }
      ]
    },
    {
      "cell_type": "markdown",
      "metadata": {
        "id": "g7bdQMrGR8DU",
        "colab_type": "text"
      },
      "source": [
        "Data Preparation for Machine Learning\n",
        "Data preparation is a vital step in the machine learning pipeline. Just as visualization is necessary to understand the relationships in data, proper preparation or data munging is required to ensure machine learning models work optimally.\n",
        "\n",
        "The process of data preparation is highly interactive and iterative. A typical process includes at least the following steps:\n",
        "\n",
        "Visualization of the dataset to understand the relationships and identify possible problems with the data.\n",
        "Data cleaning and transformation to address the problems identified. It many cases, step 1 is then repeated to verify that the cleaning and transformation had the desired effect.\n",
        "Construction and evaluation of a machine learning models. Visualization of the results will often lead to understanding of further data preparation that is required; going back to step 1.\n",
        "In this lab you will learn the following:\n",
        "\n",
        "Recode character strings to eliminate characters that will not be processed correctly.\n",
        "Find and treat missing values.\n",
        "Set correct data type of each column.\n",
        "Transform categorical features to create categories with more cases and coding likely to be useful in predicting the label.\n",
        "Apply transformations to numeric features and the label to improve the distribution properties.\n",
        "Locate and treat duplicate cases."
      ]
    },
    {
      "cell_type": "code",
      "metadata": {
        "id": "gomKShbjRyT3",
        "colab_type": "code",
        "colab": {
          "resources": {
            "http://localhost:8080/nbextensions/google.colab/files.js": {
              "data": "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",
              "ok": true,
              "headers": [
                [
                  "content-type",
                  "application/javascript"
                ]
              ],
              "status": 200,
              "status_text": ""
            }
          },
          "base_uri": "https://localhost:8080/",
          "height": 91
        },
        "outputId": "0ea5cc86-b04e-4596-87dc-b0b94fd6f103"
      },
      "source": [
        "from google.colab import files\n",
        "\n",
        "uploaded = files.upload()\n",
        "\n",
        "for fn in uploaded.keys():\n",
        "  print('User uploaded file \"{name}\" with length {length} bytes'.format(\n",
        "      name=fn, length=len(uploaded[fn])))"
      ],
      "execution_count": 2,
      "outputs": [
        {
          "output_type": "display_data",
          "data": {
            "text/html": [
              "\n",
              "     <input type=\"file\" id=\"files-d3c82fce-9724-4437-bba0-e00ae34afaf0\" name=\"files[]\" multiple disabled />\n",
              "     <output id=\"result-d3c82fce-9724-4437-bba0-e00ae34afaf0\">\n",
              "      Upload widget is only available when the cell has been executed in the\n",
              "      current browser session. Please rerun this cell to enable.\n",
              "      </output>\n",
              "      <script src=\"/nbextensions/google.colab/files.js\"></script> "
            ],
            "text/plain": [
              "<IPython.core.display.HTML object>"
            ]
          },
          "metadata": {
            "tags": []
          }
        },
        {
          "output_type": "stream",
          "text": [
            "Saving German_Credit.csv to German_Credit.csv\n",
            "User uploaded file \"German_Credit.csv\" with length 88845 bytes\n"
          ],
          "name": "stdout"
        }
      ]
    },
    {
      "cell_type": "code",
      "metadata": {
        "id": "U-Y1ml8LRzQ0",
        "colab_type": "code",
        "colab": {}
      },
      "source": [
        "import pandas as pd\n",
        "import matplotlib.pyplot as plt\n",
        "import seaborn as sns\n",
        "import numpy as np\n",
        "import numpy.random as nr\n",
        "import math\n",
        "\n",
        "%matplotlib inline"
      ],
      "execution_count": 0,
      "outputs": []
    },
    {
      "cell_type": "code",
      "metadata": {
        "id": "Ol6qDwFTRzW_",
        "colab_type": "code",
        "colab": {
          "base_uri": "https://localhost:8080/",
          "height": 776
        },
        "outputId": "5aa399d8-ef7b-4cf8-deee-87c91aab925b"
      },
      "source": [
        "auto_prices = pd.read_csv('Automobile price data _Raw_.csv')\n",
        "auto_prices.head(20)"
      ],
      "execution_count": 6,
      "outputs": [
        {
          "output_type": "execute_result",
          "data": {
            "text/html": [
              "<div>\n",
              "<style scoped>\n",
              "    .dataframe tbody tr th:only-of-type {\n",
              "        vertical-align: middle;\n",
              "    }\n",
              "\n",
              "    .dataframe tbody tr th {\n",
              "        vertical-align: top;\n",
              "    }\n",
              "\n",
              "    .dataframe thead th {\n",
              "        text-align: right;\n",
              "    }\n",
              "</style>\n",
              "<table border=\"1\" class=\"dataframe\">\n",
              "  <thead>\n",
              "    <tr style=\"text-align: right;\">\n",
              "      <th></th>\n",
              "      <th>symboling</th>\n",
              "      <th>normalized-losses</th>\n",
              "      <th>make</th>\n",
              "      <th>fuel-type</th>\n",
              "      <th>aspiration</th>\n",
              "      <th>num-of-doors</th>\n",
              "      <th>body-style</th>\n",
              "      <th>drive-wheels</th>\n",
              "      <th>engine-location</th>\n",
              "      <th>wheel-base</th>\n",
              "      <th>...</th>\n",
              "      <th>engine-size</th>\n",
              "      <th>fuel-system</th>\n",
              "      <th>bore</th>\n",
              "      <th>stroke</th>\n",
              "      <th>compression-ratio</th>\n",
              "      <th>horsepower</th>\n",
              "      <th>peak-rpm</th>\n",
              "      <th>city-mpg</th>\n",
              "      <th>highway-mpg</th>\n",
              "      <th>price</th>\n",
              "    </tr>\n",
              "  </thead>\n",
              "  <tbody>\n",
              "    <tr>\n",
              "      <th>0</th>\n",
              "      <td>3</td>\n",
              "      <td>?</td>\n",
              "      <td>alfa-romero</td>\n",
              "      <td>gas</td>\n",
              "      <td>std</td>\n",
              "      <td>two</td>\n",
              "      <td>convertible</td>\n",
              "      <td>rwd</td>\n",
              "      <td>front</td>\n",
              "      <td>88.6</td>\n",
              "      <td>...</td>\n",
              "      <td>130</td>\n",
              "      <td>mpfi</td>\n",
              "      <td>3.47</td>\n",
              "      <td>2.68</td>\n",
              "      <td>9.0</td>\n",
              "      <td>111</td>\n",
              "      <td>5000</td>\n",
              "      <td>21</td>\n",
              "      <td>27</td>\n",
              "      <td>13495</td>\n",
              "    </tr>\n",
              "    <tr>\n",
              "      <th>1</th>\n",
              "      <td>3</td>\n",
              "      <td>?</td>\n",
              "      <td>alfa-romero</td>\n",
              "      <td>gas</td>\n",
              "      <td>std</td>\n",
              "      <td>two</td>\n",
              "      <td>convertible</td>\n",
              "      <td>rwd</td>\n",
              "      <td>front</td>\n",
              "      <td>88.6</td>\n",
              "      <td>...</td>\n",
              "      <td>130</td>\n",
              "      <td>mpfi</td>\n",
              "      <td>3.47</td>\n",
              "      <td>2.68</td>\n",
              "      <td>9.0</td>\n",
              "      <td>111</td>\n",
              "      <td>5000</td>\n",
              "      <td>21</td>\n",
              "      <td>27</td>\n",
              "      <td>16500</td>\n",
              "    </tr>\n",
              "    <tr>\n",
              "      <th>2</th>\n",
              "      <td>1</td>\n",
              "      <td>?</td>\n",
              "      <td>alfa-romero</td>\n",
              "      <td>gas</td>\n",
              "      <td>std</td>\n",
              "      <td>two</td>\n",
              "      <td>hatchback</td>\n",
              "      <td>rwd</td>\n",
              "      <td>front</td>\n",
              "      <td>94.5</td>\n",
              "      <td>...</td>\n",
              "      <td>152</td>\n",
              "      <td>mpfi</td>\n",
              "      <td>2.68</td>\n",
              "      <td>3.47</td>\n",
              "      <td>9.0</td>\n",
              "      <td>154</td>\n",
              "      <td>5000</td>\n",
              "      <td>19</td>\n",
              "      <td>26</td>\n",
              "      <td>16500</td>\n",
              "    </tr>\n",
              "    <tr>\n",
              "      <th>3</th>\n",
              "      <td>2</td>\n",
              "      <td>164</td>\n",
              "      <td>audi</td>\n",
              "      <td>gas</td>\n",
              "      <td>std</td>\n",
              "      <td>four</td>\n",
              "      <td>sedan</td>\n",
              "      <td>fwd</td>\n",
              "      <td>front</td>\n",
              "      <td>99.8</td>\n",
              "      <td>...</td>\n",
              "      <td>109</td>\n",
              "      <td>mpfi</td>\n",
              "      <td>3.19</td>\n",
              "      <td>3.40</td>\n",
              "      <td>10.0</td>\n",
              "      <td>102</td>\n",
              "      <td>5500</td>\n",
              "      <td>24</td>\n",
              "      <td>30</td>\n",
              "      <td>13950</td>\n",
              "    </tr>\n",
              "    <tr>\n",
              "      <th>4</th>\n",
              "      <td>2</td>\n",
              "      <td>164</td>\n",
              "      <td>audi</td>\n",
              "      <td>gas</td>\n",
              "      <td>std</td>\n",
              "      <td>four</td>\n",
              "      <td>sedan</td>\n",
              "      <td>4wd</td>\n",
              "      <td>front</td>\n",
              "      <td>99.4</td>\n",
              "      <td>...</td>\n",
              "      <td>136</td>\n",
              "      <td>mpfi</td>\n",
              "      <td>3.19</td>\n",
              "      <td>3.40</td>\n",
              "      <td>8.0</td>\n",
              "      <td>115</td>\n",
              "      <td>5500</td>\n",
              "      <td>18</td>\n",
              "      <td>22</td>\n",
              "      <td>17450</td>\n",
              "    </tr>\n",
              "    <tr>\n",
              "      <th>5</th>\n",
              "      <td>2</td>\n",
              "      <td>?</td>\n",
              "      <td>audi</td>\n",
              "      <td>gas</td>\n",
              "      <td>std</td>\n",
              "      <td>two</td>\n",
              "      <td>sedan</td>\n",
              "      <td>fwd</td>\n",
              "      <td>front</td>\n",
              "      <td>99.8</td>\n",
              "      <td>...</td>\n",
              "      <td>136</td>\n",
              "      <td>mpfi</td>\n",
              "      <td>3.19</td>\n",
              "      <td>3.40</td>\n",
              "      <td>8.5</td>\n",
              "      <td>110</td>\n",
              "      <td>5500</td>\n",
              "      <td>19</td>\n",
              "      <td>25</td>\n",
              "      <td>15250</td>\n",
              "    </tr>\n",
              "    <tr>\n",
              "      <th>6</th>\n",
              "      <td>1</td>\n",
              "      <td>158</td>\n",
              "      <td>audi</td>\n",
              "      <td>gas</td>\n",
              "      <td>std</td>\n",
              "      <td>four</td>\n",
              "      <td>sedan</td>\n",
              "      <td>fwd</td>\n",
              "      <td>front</td>\n",
              "      <td>105.8</td>\n",
              "      <td>...</td>\n",
              "      <td>136</td>\n",
              "      <td>mpfi</td>\n",
              "      <td>3.19</td>\n",
              "      <td>3.40</td>\n",
              "      <td>8.5</td>\n",
              "      <td>110</td>\n",
              "      <td>5500</td>\n",
              "      <td>19</td>\n",
              "      <td>25</td>\n",
              "      <td>17710</td>\n",
              "    </tr>\n",
              "    <tr>\n",
              "      <th>7</th>\n",
              "      <td>1</td>\n",
              "      <td>?</td>\n",
              "      <td>audi</td>\n",
              "      <td>gas</td>\n",
              "      <td>std</td>\n",
              "      <td>four</td>\n",
              "      <td>wagon</td>\n",
              "      <td>fwd</td>\n",
              "      <td>front</td>\n",
              "      <td>105.8</td>\n",
              "      <td>...</td>\n",
              "      <td>136</td>\n",
              "      <td>mpfi</td>\n",
              "      <td>3.19</td>\n",
              "      <td>3.40</td>\n",
              "      <td>8.5</td>\n",
              "      <td>110</td>\n",
              "      <td>5500</td>\n",
              "      <td>19</td>\n",
              "      <td>25</td>\n",
              "      <td>18920</td>\n",
              "    </tr>\n",
              "    <tr>\n",
              "      <th>8</th>\n",
              "      <td>1</td>\n",
              "      <td>158</td>\n",
              "      <td>audi</td>\n",
              "      <td>gas</td>\n",
              "      <td>turbo</td>\n",
              "      <td>four</td>\n",
              "      <td>sedan</td>\n",
              "      <td>fwd</td>\n",
              "      <td>front</td>\n",
              "      <td>105.8</td>\n",
              "      <td>...</td>\n",
              "      <td>131</td>\n",
              "      <td>mpfi</td>\n",
              "      <td>3.13</td>\n",
              "      <td>3.40</td>\n",
              "      <td>8.3</td>\n",
              "      <td>140</td>\n",
              "      <td>5500</td>\n",
              "      <td>17</td>\n",
              "      <td>20</td>\n",
              "      <td>23875</td>\n",
              "    </tr>\n",
              "    <tr>\n",
              "      <th>9</th>\n",
              "      <td>0</td>\n",
              "      <td>?</td>\n",
              "      <td>audi</td>\n",
              "      <td>gas</td>\n",
              "      <td>turbo</td>\n",
              "      <td>two</td>\n",
              "      <td>hatchback</td>\n",
              "      <td>4wd</td>\n",
              "      <td>front</td>\n",
              "      <td>99.5</td>\n",
              "      <td>...</td>\n",
              "      <td>131</td>\n",
              "      <td>mpfi</td>\n",
              "      <td>3.13</td>\n",
              "      <td>3.40</td>\n",
              "      <td>7.0</td>\n",
              "      <td>160</td>\n",
              "      <td>5500</td>\n",
              "      <td>16</td>\n",
              "      <td>22</td>\n",
              "      <td>?</td>\n",
              "    </tr>\n",
              "    <tr>\n",
              "      <th>10</th>\n",
              "      <td>2</td>\n",
              "      <td>192</td>\n",
              "      <td>bmw</td>\n",
              "      <td>gas</td>\n",
              "      <td>std</td>\n",
              "      <td>two</td>\n",
              "      <td>sedan</td>\n",
              "      <td>rwd</td>\n",
              "      <td>front</td>\n",
              "      <td>101.2</td>\n",
              "      <td>...</td>\n",
              "      <td>108</td>\n",
              "      <td>mpfi</td>\n",
              "      <td>3.50</td>\n",
              "      <td>2.80</td>\n",
              "      <td>8.8</td>\n",
              "      <td>101</td>\n",
              "      <td>5800</td>\n",
              "      <td>23</td>\n",
              "      <td>29</td>\n",
              "      <td>16430</td>\n",
              "    </tr>\n",
              "    <tr>\n",
              "      <th>11</th>\n",
              "      <td>0</td>\n",
              "      <td>192</td>\n",
              "      <td>bmw</td>\n",
              "      <td>gas</td>\n",
              "      <td>std</td>\n",
              "      <td>four</td>\n",
              "      <td>sedan</td>\n",
              "      <td>rwd</td>\n",
              "      <td>front</td>\n",
              "      <td>101.2</td>\n",
              "      <td>...</td>\n",
              "      <td>108</td>\n",
              "      <td>mpfi</td>\n",
              "      <td>3.50</td>\n",
              "      <td>2.80</td>\n",
              "      <td>8.8</td>\n",
              "      <td>101</td>\n",
              "      <td>5800</td>\n",
              "      <td>23</td>\n",
              "      <td>29</td>\n",
              "      <td>16925</td>\n",
              "    </tr>\n",
              "    <tr>\n",
              "      <th>12</th>\n",
              "      <td>0</td>\n",
              "      <td>188</td>\n",
              "      <td>bmw</td>\n",
              "      <td>gas</td>\n",
              "      <td>std</td>\n",
              "      <td>two</td>\n",
              "      <td>sedan</td>\n",
              "      <td>rwd</td>\n",
              "      <td>front</td>\n",
              "      <td>101.2</td>\n",
              "      <td>...</td>\n",
              "      <td>164</td>\n",
              "      <td>mpfi</td>\n",
              "      <td>3.31</td>\n",
              "      <td>3.19</td>\n",
              "      <td>9.0</td>\n",
              "      <td>121</td>\n",
              "      <td>4250</td>\n",
              "      <td>21</td>\n",
              "      <td>28</td>\n",
              "      <td>20970</td>\n",
              "    </tr>\n",
              "    <tr>\n",
              "      <th>13</th>\n",
              "      <td>0</td>\n",
              "      <td>188</td>\n",
              "      <td>bmw</td>\n",
              "      <td>gas</td>\n",
              "      <td>std</td>\n",
              "      <td>four</td>\n",
              "      <td>sedan</td>\n",
              "      <td>rwd</td>\n",
              "      <td>front</td>\n",
              "      <td>101.2</td>\n",
              "      <td>...</td>\n",
              "      <td>164</td>\n",
              "      <td>mpfi</td>\n",
              "      <td>3.31</td>\n",
              "      <td>3.19</td>\n",
              "      <td>9.0</td>\n",
              "      <td>121</td>\n",
              "      <td>4250</td>\n",
              "      <td>21</td>\n",
              "      <td>28</td>\n",
              "      <td>21105</td>\n",
              "    </tr>\n",
              "    <tr>\n",
              "      <th>14</th>\n",
              "      <td>1</td>\n",
              "      <td>?</td>\n",
              "      <td>bmw</td>\n",
              "      <td>gas</td>\n",
              "      <td>std</td>\n",
              "      <td>four</td>\n",
              "      <td>sedan</td>\n",
              "      <td>rwd</td>\n",
              "      <td>front</td>\n",
              "      <td>103.5</td>\n",
              "      <td>...</td>\n",
              "      <td>164</td>\n",
              "      <td>mpfi</td>\n",
              "      <td>3.31</td>\n",
              "      <td>3.19</td>\n",
              "      <td>9.0</td>\n",
              "      <td>121</td>\n",
              "      <td>4250</td>\n",
              "      <td>20</td>\n",
              "      <td>25</td>\n",
              "      <td>24565</td>\n",
              "    </tr>\n",
              "    <tr>\n",
              "      <th>15</th>\n",
              "      <td>0</td>\n",
              "      <td>?</td>\n",
              "      <td>bmw</td>\n",
              "      <td>gas</td>\n",
              "      <td>std</td>\n",
              "      <td>four</td>\n",
              "      <td>sedan</td>\n",
              "      <td>rwd</td>\n",
              "      <td>front</td>\n",
              "      <td>103.5</td>\n",
              "      <td>...</td>\n",
              "      <td>209</td>\n",
              "      <td>mpfi</td>\n",
              "      <td>3.62</td>\n",
              "      <td>3.39</td>\n",
              "      <td>8.0</td>\n",
              "      <td>182</td>\n",
              "      <td>5400</td>\n",
              "      <td>16</td>\n",
              "      <td>22</td>\n",
              "      <td>30760</td>\n",
              "    </tr>\n",
              "    <tr>\n",
              "      <th>16</th>\n",
              "      <td>0</td>\n",
              "      <td>?</td>\n",
              "      <td>bmw</td>\n",
              "      <td>gas</td>\n",
              "      <td>std</td>\n",
              "      <td>two</td>\n",
              "      <td>sedan</td>\n",
              "      <td>rwd</td>\n",
              "      <td>front</td>\n",
              "      <td>103.5</td>\n",
              "      <td>...</td>\n",
              "      <td>209</td>\n",
              "      <td>mpfi</td>\n",
              "      <td>3.62</td>\n",
              "      <td>3.39</td>\n",
              "      <td>8.0</td>\n",
              "      <td>182</td>\n",
              "      <td>5400</td>\n",
              "      <td>16</td>\n",
              "      <td>22</td>\n",
              "      <td>41315</td>\n",
              "    </tr>\n",
              "    <tr>\n",
              "      <th>17</th>\n",
              "      <td>0</td>\n",
              "      <td>?</td>\n",
              "      <td>bmw</td>\n",
              "      <td>gas</td>\n",
              "      <td>std</td>\n",
              "      <td>four</td>\n",
              "      <td>sedan</td>\n",
              "      <td>rwd</td>\n",
              "      <td>front</td>\n",
              "      <td>110.0</td>\n",
              "      <td>...</td>\n",
              "      <td>209</td>\n",
              "      <td>mpfi</td>\n",
              "      <td>3.62</td>\n",
              "      <td>3.39</td>\n",
              "      <td>8.0</td>\n",
              "      <td>182</td>\n",
              "      <td>5400</td>\n",
              "      <td>15</td>\n",
              "      <td>20</td>\n",
              "      <td>36880</td>\n",
              "    </tr>\n",
              "    <tr>\n",
              "      <th>18</th>\n",
              "      <td>2</td>\n",
              "      <td>121</td>\n",
              "      <td>chevrolet</td>\n",
              "      <td>gas</td>\n",
              "      <td>std</td>\n",
              "      <td>two</td>\n",
              "      <td>hatchback</td>\n",
              "      <td>fwd</td>\n",
              "      <td>front</td>\n",
              "      <td>88.4</td>\n",
              "      <td>...</td>\n",
              "      <td>61</td>\n",
              "      <td>2bbl</td>\n",
              "      <td>2.91</td>\n",
              "      <td>3.03</td>\n",
              "      <td>9.5</td>\n",
              "      <td>48</td>\n",
              "      <td>5100</td>\n",
              "      <td>47</td>\n",
              "      <td>53</td>\n",
              "      <td>5151</td>\n",
              "    </tr>\n",
              "    <tr>\n",
              "      <th>19</th>\n",
              "      <td>1</td>\n",
              "      <td>98</td>\n",
              "      <td>chevrolet</td>\n",
              "      <td>gas</td>\n",
              "      <td>std</td>\n",
              "      <td>two</td>\n",
              "      <td>hatchback</td>\n",
              "      <td>fwd</td>\n",
              "      <td>front</td>\n",
              "      <td>94.5</td>\n",
              "      <td>...</td>\n",
              "      <td>90</td>\n",
              "      <td>2bbl</td>\n",
              "      <td>3.03</td>\n",
              "      <td>3.11</td>\n",
              "      <td>9.6</td>\n",
              "      <td>70</td>\n",
              "      <td>5400</td>\n",
              "      <td>38</td>\n",
              "      <td>43</td>\n",
              "      <td>6295</td>\n",
              "    </tr>\n",
              "  </tbody>\n",
              "</table>\n",
              "<p>20 rows × 26 columns</p>\n",
              "</div>"
            ],
            "text/plain": [
              "    symboling normalized-losses         make fuel-type aspiration  \\\n",
              "0           3                 ?  alfa-romero       gas        std   \n",
              "1           3                 ?  alfa-romero       gas        std   \n",
              "2           1                 ?  alfa-romero       gas        std   \n",
              "3           2               164         audi       gas        std   \n",
              "4           2               164         audi       gas        std   \n",
              "5           2                 ?         audi       gas        std   \n",
              "6           1               158         audi       gas        std   \n",
              "7           1                 ?         audi       gas        std   \n",
              "8           1               158         audi       gas      turbo   \n",
              "9           0                 ?         audi       gas      turbo   \n",
              "10          2               192          bmw       gas        std   \n",
              "11          0               192          bmw       gas        std   \n",
              "12          0               188          bmw       gas        std   \n",
              "13          0               188          bmw       gas        std   \n",
              "14          1                 ?          bmw       gas        std   \n",
              "15          0                 ?          bmw       gas        std   \n",
              "16          0                 ?          bmw       gas        std   \n",
              "17          0                 ?          bmw       gas        std   \n",
              "18          2               121    chevrolet       gas        std   \n",
              "19          1                98    chevrolet       gas        std   \n",
              "\n",
              "   num-of-doors   body-style drive-wheels engine-location  wheel-base  ...  \\\n",
              "0           two  convertible          rwd           front        88.6  ...   \n",
              "1           two  convertible          rwd           front        88.6  ...   \n",
              "2           two    hatchback          rwd           front        94.5  ...   \n",
              "3          four        sedan          fwd           front        99.8  ...   \n",
              "4          four        sedan          4wd           front        99.4  ...   \n",
              "5           two        sedan          fwd           front        99.8  ...   \n",
              "6          four        sedan          fwd           front       105.8  ...   \n",
              "7          four        wagon          fwd           front       105.8  ...   \n",
              "8          four        sedan          fwd           front       105.8  ...   \n",
              "9           two    hatchback          4wd           front        99.5  ...   \n",
              "10          two        sedan          rwd           front       101.2  ...   \n",
              "11         four        sedan          rwd           front       101.2  ...   \n",
              "12          two        sedan          rwd           front       101.2  ...   \n",
              "13         four        sedan          rwd           front       101.2  ...   \n",
              "14         four        sedan          rwd           front       103.5  ...   \n",
              "15         four        sedan          rwd           front       103.5  ...   \n",
              "16          two        sedan          rwd           front       103.5  ...   \n",
              "17         four        sedan          rwd           front       110.0  ...   \n",
              "18          two    hatchback          fwd           front        88.4  ...   \n",
              "19          two    hatchback          fwd           front        94.5  ...   \n",
              "\n",
              "    engine-size  fuel-system  bore  stroke compression-ratio horsepower  \\\n",
              "0           130         mpfi  3.47    2.68               9.0        111   \n",
              "1           130         mpfi  3.47    2.68               9.0        111   \n",
              "2           152         mpfi  2.68    3.47               9.0        154   \n",
              "3           109         mpfi  3.19    3.40              10.0        102   \n",
              "4           136         mpfi  3.19    3.40               8.0        115   \n",
              "5           136         mpfi  3.19    3.40               8.5        110   \n",
              "6           136         mpfi  3.19    3.40               8.5        110   \n",
              "7           136         mpfi  3.19    3.40               8.5        110   \n",
              "8           131         mpfi  3.13    3.40               8.3        140   \n",
              "9           131         mpfi  3.13    3.40               7.0        160   \n",
              "10          108         mpfi  3.50    2.80               8.8        101   \n",
              "11          108         mpfi  3.50    2.80               8.8        101   \n",
              "12          164         mpfi  3.31    3.19               9.0        121   \n",
              "13          164         mpfi  3.31    3.19               9.0        121   \n",
              "14          164         mpfi  3.31    3.19               9.0        121   \n",
              "15          209         mpfi  3.62    3.39               8.0        182   \n",
              "16          209         mpfi  3.62    3.39               8.0        182   \n",
              "17          209         mpfi  3.62    3.39               8.0        182   \n",
              "18           61         2bbl  2.91    3.03               9.5         48   \n",
              "19           90         2bbl  3.03    3.11               9.6         70   \n",
              "\n",
              "    peak-rpm city-mpg highway-mpg  price  \n",
              "0       5000       21          27  13495  \n",
              "1       5000       21          27  16500  \n",
              "2       5000       19          26  16500  \n",
              "3       5500       24          30  13950  \n",
              "4       5500       18          22  17450  \n",
              "5       5500       19          25  15250  \n",
              "6       5500       19          25  17710  \n",
              "7       5500       19          25  18920  \n",
              "8       5500       17          20  23875  \n",
              "9       5500       16          22      ?  \n",
              "10      5800       23          29  16430  \n",
              "11      5800       23          29  16925  \n",
              "12      4250       21          28  20970  \n",
              "13      4250       21          28  21105  \n",
              "14      4250       20          25  24565  \n",
              "15      5400       16          22  30760  \n",
              "16      5400       16          22  41315  \n",
              "17      5400       15          20  36880  \n",
              "18      5100       47          53   5151  \n",
              "19      5400       38          43   6295  \n",
              "\n",
              "[20 rows x 26 columns]"
            ]
          },
          "metadata": {
            "tags": []
          },
          "execution_count": 6
        }
      ]
    },
    {
      "cell_type": "code",
      "metadata": {
        "id": "xvvmJhOJRzb6",
        "colab_type": "code",
        "colab": {}
      },
      "source": [
        "auto_prices.columns = [str.replace('-', '_') for str in auto_prices.columns]"
      ],
      "execution_count": 0,
      "outputs": []
    },
    {
      "cell_type": "code",
      "metadata": {
        "id": "jL8wzrIIRzew",
        "colab_type": "code",
        "colab": {
          "base_uri": "https://localhost:8080/",
          "height": 468
        },
        "outputId": "f22d03d4-c35d-48d8-facf-cdb50b0b94ae"
      },
      "source": [
        "(auto_prices.astype(np.object) == '?').any()"
      ],
      "execution_count": 8,
      "outputs": [
        {
          "output_type": "execute_result",
          "data": {
            "text/plain": [
              "symboling            False\n",
              "normalized_losses     True\n",
              "make                 False\n",
              "fuel_type            False\n",
              "aspiration           False\n",
              "num_of_doors          True\n",
              "body_style           False\n",
              "drive_wheels         False\n",
              "engine_location      False\n",
              "wheel_base           False\n",
              "length               False\n",
              "width                False\n",
              "height               False\n",
              "curb_weight          False\n",
              "engine_type          False\n",
              "num_of_cylinders     False\n",
              "engine_size          False\n",
              "fuel_system          False\n",
              "bore                  True\n",
              "stroke                True\n",
              "compression_ratio    False\n",
              "horsepower            True\n",
              "peak_rpm              True\n",
              "city_mpg             False\n",
              "highway_mpg          False\n",
              "price                 True\n",
              "dtype: bool"
            ]
          },
          "metadata": {
            "tags": []
          },
          "execution_count": 8
        }
      ]
    },
    {
      "cell_type": "code",
      "metadata": {
        "id": "fwg0zkv2RzkG",
        "colab_type": "code",
        "colab": {
          "base_uri": "https://localhost:8080/",
          "height": 468
        },
        "outputId": "d8189048-5bba-4b07-a407-4c0703374016"
      },
      "source": [
        "auto_prices.dtypes"
      ],
      "execution_count": 9,
      "outputs": [
        {
          "output_type": "execute_result",
          "data": {
            "text/plain": [
              "symboling              int64\n",
              "normalized_losses     object\n",
              "make                  object\n",
              "fuel_type             object\n",
              "aspiration            object\n",
              "num_of_doors          object\n",
              "body_style            object\n",
              "drive_wheels          object\n",
              "engine_location       object\n",
              "wheel_base           float64\n",
              "length               float64\n",
              "width                float64\n",
              "height               float64\n",
              "curb_weight            int64\n",
              "engine_type           object\n",
              "num_of_cylinders      object\n",
              "engine_size            int64\n",
              "fuel_system           object\n",
              "bore                  object\n",
              "stroke                object\n",
              "compression_ratio    float64\n",
              "horsepower            object\n",
              "peak_rpm              object\n",
              "city_mpg               int64\n",
              "highway_mpg            int64\n",
              "price                 object\n",
              "dtype: object"
            ]
          },
          "metadata": {
            "tags": []
          },
          "execution_count": 9
        }
      ]
    },
    {
      "cell_type": "code",
      "metadata": {
        "id": "xdmsH_ANRzoN",
        "colab_type": "code",
        "colab": {
          "base_uri": "https://localhost:8080/",
          "height": 284
        },
        "outputId": "8ecd13fd-a20d-403d-943c-4fd1b461af79"
      },
      "source": [
        "for col in auto_prices.columns:\n",
        "    if auto_prices[col].dtype == object:\n",
        "        count = 0\n",
        "        count = [count + 1 for x in auto_prices[col] if x == '?']\n",
        "        print(col + ' ' + str(sum(count)))"
      ],
      "execution_count": 10,
      "outputs": [
        {
          "output_type": "stream",
          "text": [
            "normalized_losses 41\n",
            "make 0\n",
            "fuel_type 0\n",
            "aspiration 0\n",
            "num_of_doors 2\n",
            "body_style 0\n",
            "drive_wheels 0\n",
            "engine_location 0\n",
            "engine_type 0\n",
            "num_of_cylinders 0\n",
            "fuel_system 0\n",
            "bore 4\n",
            "stroke 4\n",
            "horsepower 2\n",
            "peak_rpm 2\n",
            "price 4\n"
          ],
          "name": "stdout"
        }
      ]
    },
    {
      "cell_type": "code",
      "metadata": {
        "id": "wVeKyPj6Svke",
        "colab_type": "code",
        "colab": {
          "base_uri": "https://localhost:8080/",
          "height": 33
        },
        "outputId": "a395c886-a684-4d4c-c76e-87605939dc85"
      },
      "source": [
        "## Drop column with too many missing values\n",
        "auto_prices.drop('normalized_losses', axis = 1, inplace = True)\n",
        "## Remove rows with missing values, accounting for mising values coded as '?'\n",
        "cols = ['price', 'bore', 'stroke',\n",
        "          'horsepower', 'peak_rpm']\n",
        "for column in cols:\n",
        "    auto_prices.loc[auto_prices[column] == '?', column] = np.nan\n",
        "auto_prices.dropna(axis = 0, inplace = True)\n",
        "auto_prices.shape    "
      ],
      "execution_count": 11,
      "outputs": [
        {
          "output_type": "execute_result",
          "data": {
            "text/plain": [
              "(195, 25)"
            ]
          },
          "metadata": {
            "tags": []
          },
          "execution_count": 11
        }
      ]
    },
    {
      "cell_type": "code",
      "metadata": {
        "id": "mJj30j6LSwL_",
        "colab_type": "code",
        "colab": {
          "base_uri": "https://localhost:8080/",
          "height": 117
        },
        "outputId": "c7f889c1-04a5-483a-9a31-aec6010843db"
      },
      "source": [
        "for column in cols:\n",
        "    auto_prices[column] = pd.to_numeric(auto_prices[column])\n",
        "auto_prices[cols].dtypes"
      ],
      "execution_count": 12,
      "outputs": [
        {
          "output_type": "execute_result",
          "data": {
            "text/plain": [
              "price           int64\n",
              "bore          float64\n",
              "stroke        float64\n",
              "horsepower      int64\n",
              "peak_rpm        int64\n",
              "dtype: object"
            ]
          },
          "metadata": {
            "tags": []
          },
          "execution_count": 12
        }
      ]
    },
    {
      "cell_type": "code",
      "metadata": {
        "id": "wjGIk5epSwPd",
        "colab_type": "code",
        "colab": {
          "base_uri": "https://localhost:8080/",
          "height": 134
        },
        "outputId": "d7b79991-3b17-4590-f9ee-259ef5bcf271"
      },
      "source": [
        "auto_prices['num_of_cylinders'].value_counts()"
      ],
      "execution_count": 13,
      "outputs": [
        {
          "output_type": "execute_result",
          "data": {
            "text/plain": [
              "four      155\n",
              "six        24\n",
              "five       10\n",
              "eight       4\n",
              "twelve      1\n",
              "three       1\n",
              "Name: num_of_cylinders, dtype: int64"
            ]
          },
          "metadata": {
            "tags": []
          },
          "execution_count": 13
        }
      ]
    },
    {
      "cell_type": "code",
      "metadata": {
        "id": "D0A3w1axSwS4",
        "colab_type": "code",
        "colab": {
          "base_uri": "https://localhost:8080/",
          "height": 84
        },
        "outputId": "6d7ebf89-ac73-4f12-d3f0-03ea571b8ed2"
      },
      "source": [
        "cylinder_categories = {'three':'three_four', 'four':'three_four', \n",
        "                    'five':'five_six', 'six':'five_six',\n",
        "                    'eight':'eight_twelve', 'twelve':'eight_twelve'}\n",
        "auto_prices['num_of_cylinders'] = [cylinder_categories[x] for x in auto_prices['num_of_cylinders']]\n",
        "auto_prices['num_of_cylinders'].value_counts()"
      ],
      "execution_count": 14,
      "outputs": [
        {
          "output_type": "execute_result",
          "data": {
            "text/plain": [
              "three_four      156\n",
              "five_six         34\n",
              "eight_twelve      5\n",
              "Name: num_of_cylinders, dtype: int64"
            ]
          },
          "metadata": {
            "tags": []
          },
          "execution_count": 14
        }
      ]
    },
    {
      "cell_type": "code",
      "metadata": {
        "id": "FclA-lDzSwXU",
        "colab_type": "code",
        "colab": {
          "base_uri": "https://localhost:8080/",
          "height": 285
        },
        "outputId": "2eb25e69-10c7-441b-acc4-e506b14cecb0"
      },
      "source": [
        "def plot_box(auto_prices, col, col_y = 'price'):\n",
        "    sns.set_style(\"whitegrid\")\n",
        "    sns.boxplot(col, col_y, data=auto_prices)\n",
        "    plt.xlabel(col) # Set text for the x axis\n",
        "    plt.ylabel(col_y)# Set text for y axis\n",
        "    plt.show()\n",
        "    \n",
        "plot_box(auto_prices, 'num_of_cylinders')    "
      ],
      "execution_count": 15,
      "outputs": [
        {
          "output_type": "display_data",
          "data": {
            "image/png": "[encoded data removed]",
            "text/plain": [
              "<Figure size 432x288 with 1 Axes>"
            ]
          },
          "metadata": {
            "tags": []
          }
        }
      ]
    },
    {
      "cell_type": "code",
      "metadata": {
        "id": "MYMhXbuPTDBB",
        "colab_type": "code",
        "colab": {
          "base_uri": "https://localhost:8080/",
          "height": 117
        },
        "outputId": "a57cd3e9-610e-4c70-d70e-66510f214b91"
      },
      "source": [
        "auto_prices['body_style'].value_counts()"
      ],
      "execution_count": 16,
      "outputs": [
        {
          "output_type": "execute_result",
          "data": {
            "text/plain": [
              "sedan          94\n",
              "hatchback      63\n",
              "wagon          24\n",
              "hardtop         8\n",
              "convertible     6\n",
              "Name: body_style, dtype: int64"
            ]
          },
          "metadata": {
            "tags": []
          },
          "execution_count": 16
        }
      ]
    },
    {
      "cell_type": "code",
      "metadata": {
        "id": "Bw4aXow2TGbW",
        "colab_type": "code",
        "colab": {
          "base_uri": "https://localhost:8080/",
          "height": 100
        },
        "outputId": "a9c81d11-9be3-4190-aea9-a46783ea6a7c"
      },
      "source": [
        "body_cats = {'sedan':'sedan', 'hatchback':'hatchback', 'wagon':'wagon', \n",
        "             'hardtop':'hardtop_convert', 'convertible':'hardtop_convert'}\n",
        "auto_prices['body_style'] = [body_cats[x] for x in auto_prices['body_style']]\n",
        "auto_prices['body_style'].value_counts()"
      ],
      "execution_count": 17,
      "outputs": [
        {
          "output_type": "execute_result",
          "data": {
            "text/plain": [
              "sedan              94\n",
              "hatchback          63\n",
              "wagon              24\n",
              "hardtop_convert    14\n",
              "Name: body_style, dtype: int64"
            ]
          },
          "metadata": {
            "tags": []
          },
          "execution_count": 17
        }
      ]
    },
    {
      "cell_type": "code",
      "metadata": {
        "id": "jX5Jhg2rTG9v",
        "colab_type": "code",
        "colab": {
          "base_uri": "https://localhost:8080/",
          "height": 285
        },
        "outputId": "72a713cd-4b33-40c8-8f09-cef12e0f4fbd"
      },
      "source": [
        "def plot_box(auto_prices, col, col_y = 'price'):\n",
        "    sns.set_style(\"whitegrid\")\n",
        "    sns.boxplot(col, col_y, data=auto_prices)\n",
        "    plt.xlabel(col) # Set text for the x axis\n",
        "    plt.ylabel(col_y)# Set text for y axis\n",
        "    plt.show()\n",
        "    \n",
        "plot_box(auto_prices, 'body_style')    "
      ],
      "execution_count": 18,
      "outputs": [
        {
          "output_type": "display_data",
          "data": {
            "image/png": "[encoded data removed]",
            "text/plain": [
              "<Figure size 432x288 with 1 Axes>"
            ]
          },
          "metadata": {
            "tags": []
          }
        }
      ]
    },
    {
      "cell_type": "code",
      "metadata": {
        "id": "cY_RrYykTHBA",
        "colab_type": "code",
        "colab": {
          "base_uri": "https://localhost:8080/",
          "height": 294
        },
        "outputId": "9b35b7b5-9e86-48c9-f19b-4b10035a46ea"
      },
      "source": [
        "def hist_plot(vals, lab):\n",
        "    ## Distribution plot of values\n",
        "    sns.distplot(vals)\n",
        "    plt.title('Histogram of ' + lab)\n",
        "    plt.xlabel('Value')\n",
        "    plt.ylabel('Density')\n",
        "    \n",
        "#labels = np.array(auto_prices['price'])\n",
        "hist_plot(auto_prices['price'], 'prices')"
      ],
      "execution_count": 19,
      "outputs": [
        {
          "output_type": "display_data",
          "data": {
            "image/png": "[encoded data removed]",
            "text/plain": [
              "<Figure size 432x288 with 1 Axes>"
            ]
          },
          "metadata": {
            "tags": []
          }
        }
      ]
    },
    {
      "cell_type": "code",
      "metadata": {
        "id": "w4TGBdJMTHEO",
        "colab_type": "code",
        "colab": {
          "base_uri": "https://localhost:8080/",
          "height": 294
        },
        "outputId": "2660de04-d403-4fdb-a8fe-967be878b4e5"
      },
      "source": [
        "auto_prices['log_price'] = np.log(auto_prices['price'])\n",
        "hist_plot(auto_prices['log_price'], 'log prices')"
      ],
      "execution_count": 20,
      "outputs": [
        {
          "output_type": "display_data",
          "data": {
            "image/png": "[encoded data removed]",
            "text/plain": [
              "<Figure size 432x288 with 1 Axes>"
            ]
          },
          "metadata": {
            "tags": []
          }
        }
      ]
    },
    {
      "cell_type": "code",
      "metadata": {
        "id": "sZ1roVw7TTP7",
        "colab_type": "code",
        "colab": {
          "base_uri": "https://localhost:8080/",
          "height": 1132
        },
        "outputId": "88a41f29-c713-43af-ca98-390de2652bcf"
      },
      "source": [
        "def plot_scatter_shape(auto_prices, cols, shape_col = 'fuel_type', col_y = 'log_price', alpha = 0.2):\n",
        "    shapes = ['+', 'o', 's', 'x', '^'] # pick distinctive shapes\n",
        "    unique_cats = auto_prices[shape_col].unique()\n",
        "    for col in cols: # loop over the columns to plot\n",
        "        sns.set_style(\"whitegrid\")\n",
        "        for i, cat in enumerate(unique_cats): # loop over the unique categories\n",
        "            temp = auto_prices[auto_prices[shape_col] == cat]\n",
        "            sns.regplot(col, col_y, data=temp, marker = shapes[i], label = cat,\n",
        "                        scatter_kws={\"alpha\":alpha}, fit_reg = False, color = 'blue')\n",
        "        plt.title('Scatter plot of ' + col_y + ' vs. ' + col) # Give the plot a main title\n",
        "        plt.xlabel(col) # Set text for the x axis\n",
        "        plt.ylabel(col_y)# Set text for y axis\n",
        "        plt.legend()\n",
        "        plt.show()\n",
        "            \n",
        "num_cols = ['curb_weight', 'engine_size', 'horsepower', 'city_mpg']\n",
        "plot_scatter_shape(auto_prices, num_cols)   "
      ],
      "execution_count": 21,
      "outputs": [
        {
          "output_type": "display_data",
          "data": {
            "image/png": "[encoded data removed]",
            "text/plain": [
              "<Figure size 432x288 with 1 Axes>"
            ]
          },
          "metadata": {
            "tags": []
          }
        },
        {
          "output_type": "display_data",
          "data": {
            "image/png": "[encoded data removed]",
            "text/plain": [
              "<Figure size 432x288 with 1 Axes>"
            ]
          },
          "metadata": {
            "tags": []
          }
        },
        {
          "output_type": "display_data",
          "data": {
            "image/png": "[encoded data removed]",
            "text/plain": [
              "<Figure size 432x288 with 1 Axes>"
            ]
          },
          "metadata": {
            "tags": []
          }
        },
        {
          "output_type": "display_data",
          "data": {
            "image/png": "[encoded data removed]",
            "text/plain": [
              "<Figure size 432x288 with 1 Axes>"
            ]
          },
          "metadata": {
            "tags": []
          }
        }
      ]
    },
    {
      "cell_type": "code",
      "metadata": {
        "id": "HT6fHdrfTTxB",
        "colab_type": "code",
        "colab": {
          "base_uri": "https://localhost:8080/",
          "height": 225
        },
        "outputId": "a0780fc3-3f9b-4268-ae07-85b447a3387f"
      },
      "source": [
        "credit = pd.read_csv('German_Credit.csv', header=None)\n",
        "credit.head()"
      ],
      "execution_count": 22,
      "outputs": [
        {
          "output_type": "execute_result",
          "data": {
            "text/html": [
              "<div>\n",
              "<style scoped>\n",
              "    .dataframe tbody tr th:only-of-type {\n",
              "        vertical-align: middle;\n",
              "    }\n",
              "\n",
              "    .dataframe tbody tr th {\n",
              "        vertical-align: top;\n",
              "    }\n",
              "\n",
              "    .dataframe thead th {\n",
              "        text-align: right;\n",
              "    }\n",
              "</style>\n",
              "<table border=\"1\" class=\"dataframe\">\n",
              "  <thead>\n",
              "    <tr style=\"text-align: right;\">\n",
              "      <th></th>\n",
              "      <th>0</th>\n",
              "      <th>1</th>\n",
              "      <th>2</th>\n",
              "      <th>3</th>\n",
              "      <th>4</th>\n",
              "      <th>5</th>\n",
              "      <th>6</th>\n",
              "      <th>7</th>\n",
              "      <th>8</th>\n",
              "      <th>9</th>\n",
              "      <th>...</th>\n",
              "      <th>12</th>\n",
              "      <th>13</th>\n",
              "      <th>14</th>\n",
              "      <th>15</th>\n",
              "      <th>16</th>\n",
              "      <th>17</th>\n",
              "      <th>18</th>\n",
              "      <th>19</th>\n",
              "      <th>20</th>\n",
              "      <th>21</th>\n",
              "    </tr>\n",
              "  </thead>\n",
              "  <tbody>\n",
              "    <tr>\n",
              "      <th>0</th>\n",
              "      <td>1122334</td>\n",
              "      <td>A11</td>\n",
              "      <td>6</td>\n",
              "      <td>A34</td>\n",
              "      <td>A43</td>\n",
              "      <td>1169</td>\n",
              "      <td>A65</td>\n",
              "      <td>A75</td>\n",
              "      <td>4</td>\n",
              "      <td>A93</td>\n",
              "      <td>...</td>\n",
              "      <td>A121</td>\n",
              "      <td>67</td>\n",
              "      <td>A143</td>\n",
              "      <td>A152</td>\n",
              "      <td>2</td>\n",
              "      <td>A173</td>\n",
              "      <td>1</td>\n",
              "      <td>A192</td>\n",
              "      <td>A201</td>\n",
              "      <td>1</td>\n",
              "    </tr>\n",
              "    <tr>\n",
              "      <th>1</th>\n",
              "      <td>6156361</td>\n",
              "      <td>A12</td>\n",
              "      <td>48</td>\n",
              "      <td>A32</td>\n",
              "      <td>A43</td>\n",
              "      <td>5951</td>\n",
              "      <td>A61</td>\n",
              "      <td>A73</td>\n",
              "      <td>2</td>\n",
              "      <td>A92</td>\n",
              "      <td>...</td>\n",
              "      <td>A121</td>\n",
              "      <td>22</td>\n",
              "      <td>A143</td>\n",
              "      <td>A152</td>\n",
              "      <td>1</td>\n",
              "      <td>A173</td>\n",
              "      <td>1</td>\n",
              "      <td>A191</td>\n",
              "      <td>A201</td>\n",
              "      <td>2</td>\n",
              "    </tr>\n",
              "    <tr>\n",
              "      <th>2</th>\n",
              "      <td>2051359</td>\n",
              "      <td>A14</td>\n",
              "      <td>12</td>\n",
              "      <td>A34</td>\n",
              "      <td>A46</td>\n",
              "      <td>2096</td>\n",
              "      <td>A61</td>\n",
              "      <td>A74</td>\n",
              "      <td>2</td>\n",
              "      <td>A93</td>\n",
              "      <td>...</td>\n",
              "      <td>A121</td>\n",
              "      <td>49</td>\n",
              "      <td>A143</td>\n",
              "      <td>A152</td>\n",
              "      <td>1</td>\n",
              "      <td>A172</td>\n",
              "      <td>2</td>\n",
              "      <td>A191</td>\n",
              "      <td>A201</td>\n",
              "      <td>1</td>\n",
              "    </tr>\n",
              "    <tr>\n",
              "      <th>3</th>\n",
              "      <td>8740590</td>\n",
              "      <td>A11</td>\n",
              "      <td>42</td>\n",
              "      <td>A32</td>\n",
              "      <td>A42</td>\n",
              "      <td>7882</td>\n",
              "      <td>A61</td>\n",
              "      <td>A74</td>\n",
              "      <td>2</td>\n",
              "      <td>A93</td>\n",
              "      <td>...</td>\n",
              "      <td>A122</td>\n",
              "      <td>45</td>\n",
              "      <td>A143</td>\n",
              "      <td>A153</td>\n",
              "      <td>1</td>\n",
              "      <td>A173</td>\n",
              "      <td>2</td>\n",
              "      <td>A191</td>\n",
              "      <td>A201</td>\n",
              "      <td>1</td>\n",
              "    </tr>\n",
              "    <tr>\n",
              "      <th>4</th>\n",
              "      <td>3924540</td>\n",
              "      <td>A11</td>\n",
              "      <td>24</td>\n",
              "      <td>A33</td>\n",
              "      <td>A40</td>\n",
              "      <td>4870</td>\n",
              "      <td>A61</td>\n",
              "      <td>A73</td>\n",
              "      <td>3</td>\n",
              "      <td>A93</td>\n",
              "      <td>...</td>\n",
              "      <td>A124</td>\n",
              "      <td>53</td>\n",
              "      <td>A143</td>\n",
              "      <td>A153</td>\n",
              "      <td>2</td>\n",
              "      <td>A173</td>\n",
              "      <td>2</td>\n",
              "      <td>A191</td>\n",
              "      <td>A201</td>\n",
              "      <td>2</td>\n",
              "    </tr>\n",
              "  </tbody>\n",
              "</table>\n",
              "<p>5 rows × 22 columns</p>\n",
              "</div>"
            ],
            "text/plain": [
              "        0    1   2    3    4     5    6    7   8    9   ...    12  13    14  \\\n",
              "0  1122334  A11   6  A34  A43  1169  A65  A75   4  A93  ...  A121  67  A143   \n",
              "1  6156361  A12  48  A32  A43  5951  A61  A73   2  A92  ...  A121  22  A143   \n",
              "2  2051359  A14  12  A34  A46  2096  A61  A74   2  A93  ...  A121  49  A143   \n",
              "3  8740590  A11  42  A32  A42  7882  A61  A74   2  A93  ...  A122  45  A143   \n",
              "4  3924540  A11  24  A33  A40  4870  A61  A73   3  A93  ...  A124  53  A143   \n",
              "\n",
              "     15 16    17  18    19    20 21  \n",
              "0  A152  2  A173   1  A192  A201  1  \n",
              "1  A152  1  A173   1  A191  A201  2  \n",
              "2  A152  1  A172   2  A191  A201  1  \n",
              "3  A153  1  A173   2  A191  A201  1  \n",
              "4  A153  2  A173   2  A191  A201  2  \n",
              "\n",
              "[5 rows x 22 columns]"
            ]
          },
          "metadata": {
            "tags": []
          },
          "execution_count": 22
        }
      ]
    },
    {
      "cell_type": "code",
      "metadata": {
        "id": "7TkbLBFwTT1U",
        "colab_type": "code",
        "colab": {
          "base_uri": "https://localhost:8080/",
          "height": 245
        },
        "outputId": "2b45b175-bd41-4470-8809-6b779de6a006"
      },
      "source": [
        "credit.columns = ['customer_id', 'checking_account_status', 'loan_duration_mo', 'credit_history', \n",
        "                  'purpose', 'loan_amount', 'savings_account_balance', \n",
        "                  'time_employed_yrs', 'payment_pcnt_income','gender_status', \n",
        "                  'other_signators', 'time_in_residence', 'property', 'age_yrs',\n",
        "                  'other_credit_outstanding', 'home_ownership', 'number_loans', \n",
        "                  'job_category', 'dependents', 'telephone', 'foreign_worker', \n",
        "                  'bad_credit']\n",
        "credit.head()"
      ],
      "execution_count": 23,
      "outputs": [
        {
          "output_type": "execute_result",
          "data": {
            "text/html": [
              "<div>\n",
              "<style scoped>\n",
              "    .dataframe tbody tr th:only-of-type {\n",
              "        vertical-align: middle;\n",
              "    }\n",
              "\n",
              "    .dataframe tbody tr th {\n",
              "        vertical-align: top;\n",
              "    }\n",
              "\n",
              "    .dataframe thead th {\n",
              "        text-align: right;\n",
              "    }\n",
              "</style>\n",
              "<table border=\"1\" class=\"dataframe\">\n",
              "  <thead>\n",
              "    <tr style=\"text-align: right;\">\n",
              "      <th></th>\n",
              "      <th>customer_id</th>\n",
              "      <th>checking_account_status</th>\n",
              "      <th>loan_duration_mo</th>\n",
              "      <th>credit_history</th>\n",
              "      <th>purpose</th>\n",
              "      <th>loan_amount</th>\n",
              "      <th>savings_account_balance</th>\n",
              "      <th>time_employed_yrs</th>\n",
              "      <th>payment_pcnt_income</th>\n",
              "      <th>gender_status</th>\n",
              "      <th>...</th>\n",
              "      <th>property</th>\n",
              "      <th>age_yrs</th>\n",
              "      <th>other_credit_outstanding</th>\n",
              "      <th>home_ownership</th>\n",
              "      <th>number_loans</th>\n",
              "      <th>job_category</th>\n",
              "      <th>dependents</th>\n",
              "      <th>telephone</th>\n",
              "      <th>foreign_worker</th>\n",
              "      <th>bad_credit</th>\n",
              "    </tr>\n",
              "  </thead>\n",
              "  <tbody>\n",
              "    <tr>\n",
              "      <th>0</th>\n",
              "      <td>1122334</td>\n",
              "      <td>A11</td>\n",
              "      <td>6</td>\n",
              "      <td>A34</td>\n",
              "      <td>A43</td>\n",
              "      <td>1169</td>\n",
              "      <td>A65</td>\n",
              "      <td>A75</td>\n",
              "      <td>4</td>\n",
              "      <td>A93</td>\n",
              "      <td>...</td>\n",
              "      <td>A121</td>\n",
              "      <td>67</td>\n",
              "      <td>A143</td>\n",
              "      <td>A152</td>\n",
              "      <td>2</td>\n",
              "      <td>A173</td>\n",
              "      <td>1</td>\n",
              "      <td>A192</td>\n",
              "      <td>A201</td>\n",
              "      <td>1</td>\n",
              "    </tr>\n",
              "    <tr>\n",
              "      <th>1</th>\n",
              "      <td>6156361</td>\n",
              "      <td>A12</td>\n",
              "      <td>48</td>\n",
              "      <td>A32</td>\n",
              "      <td>A43</td>\n",
              "      <td>5951</td>\n",
              "      <td>A61</td>\n",
              "      <td>A73</td>\n",
              "      <td>2</td>\n",
              "      <td>A92</td>\n",
              "      <td>...</td>\n",
              "      <td>A121</td>\n",
              "      <td>22</td>\n",
              "      <td>A143</td>\n",
              "      <td>A152</td>\n",
              "      <td>1</td>\n",
              "      <td>A173</td>\n",
              "      <td>1</td>\n",
              "      <td>A191</td>\n",
              "      <td>A201</td>\n",
              "      <td>2</td>\n",
              "    </tr>\n",
              "    <tr>\n",
              "      <th>2</th>\n",
              "      <td>2051359</td>\n",
              "      <td>A14</td>\n",
              "      <td>12</td>\n",
              "      <td>A34</td>\n",
              "      <td>A46</td>\n",
              "      <td>2096</td>\n",
              "      <td>A61</td>\n",
              "      <td>A74</td>\n",
              "      <td>2</td>\n",
              "      <td>A93</td>\n",
              "      <td>...</td>\n",
              "      <td>A121</td>\n",
              "      <td>49</td>\n",
              "      <td>A143</td>\n",
              "      <td>A152</td>\n",
              "      <td>1</td>\n",
              "      <td>A172</td>\n",
              "      <td>2</td>\n",
              "      <td>A191</td>\n",
              "      <td>A201</td>\n",
              "      <td>1</td>\n",
              "    </tr>\n",
              "    <tr>\n",
              "      <th>3</th>\n",
              "      <td>8740590</td>\n",
              "      <td>A11</td>\n",
              "      <td>42</td>\n",
              "      <td>A32</td>\n",
              "      <td>A42</td>\n",
              "      <td>7882</td>\n",
              "      <td>A61</td>\n",
              "      <td>A74</td>\n",
              "      <td>2</td>\n",
              "      <td>A93</td>\n",
              "      <td>...</td>\n",
              "      <td>A122</td>\n",
              "      <td>45</td>\n",
              "      <td>A143</td>\n",
              "      <td>A153</td>\n",
              "      <td>1</td>\n",
              "      <td>A173</td>\n",
              "      <td>2</td>\n",
              "      <td>A191</td>\n",
              "      <td>A201</td>\n",
              "      <td>1</td>\n",
              "    </tr>\n",
              "    <tr>\n",
              "      <th>4</th>\n",
              "      <td>3924540</td>\n",
              "      <td>A11</td>\n",
              "      <td>24</td>\n",
              "      <td>A33</td>\n",
              "      <td>A40</td>\n",
              "      <td>4870</td>\n",
              "      <td>A61</td>\n",
              "      <td>A73</td>\n",
              "      <td>3</td>\n",
              "      <td>A93</td>\n",
              "      <td>...</td>\n",
              "      <td>A124</td>\n",
              "      <td>53</td>\n",
              "      <td>A143</td>\n",
              "      <td>A153</td>\n",
              "      <td>2</td>\n",
              "      <td>A173</td>\n",
              "      <td>2</td>\n",
              "      <td>A191</td>\n",
              "      <td>A201</td>\n",
              "      <td>2</td>\n",
              "    </tr>\n",
              "  </tbody>\n",
              "</table>\n",
              "<p>5 rows × 22 columns</p>\n",
              "</div>"
            ],
            "text/plain": [
              "   customer_id checking_account_status  loan_duration_mo credit_history  \\\n",
              "0      1122334                     A11                 6            A34   \n",
              "1      6156361                     A12                48            A32   \n",
              "2      2051359                     A14                12            A34   \n",
              "3      8740590                     A11                42            A32   \n",
              "4      3924540                     A11                24            A33   \n",
              "\n",
              "  purpose  loan_amount savings_account_balance time_employed_yrs  \\\n",
              "0     A43         1169                     A65               A75   \n",
              "1     A43         5951                     A61               A73   \n",
              "2     A46         2096                     A61               A74   \n",
              "3     A42         7882                     A61               A74   \n",
              "4     A40         4870                     A61               A73   \n",
              "\n",
              "   payment_pcnt_income gender_status  ... property  age_yrs  \\\n",
              "0                    4           A93  ...     A121       67   \n",
              "1                    2           A92  ...     A121       22   \n",
              "2                    2           A93  ...     A121       49   \n",
              "3                    2           A93  ...     A122       45   \n",
              "4                    3           A93  ...     A124       53   \n",
              "\n",
              "  other_credit_outstanding  home_ownership number_loans job_category  \\\n",
              "0                     A143            A152            2         A173   \n",
              "1                     A143            A152            1         A173   \n",
              "2                     A143            A152            1         A172   \n",
              "3                     A143            A153            1         A173   \n",
              "4                     A143            A153            2         A173   \n",
              "\n",
              "   dependents telephone  foreign_worker bad_credit  \n",
              "0           1      A192            A201          1  \n",
              "1           1      A191            A201          2  \n",
              "2           2      A191            A201          1  \n",
              "3           2      A191            A201          1  \n",
              "4           2      A191            A201          2  \n",
              "\n",
              "[5 rows x 22 columns]"
            ]
          },
          "metadata": {
            "tags": []
          },
          "execution_count": 23
        }
      ]
    },
    {
      "cell_type": "code",
      "metadata": {
        "id": "SDy6UudQTT5b",
        "colab_type": "code",
        "colab": {
          "base_uri": "https://localhost:8080/",
          "height": 396
        },
        "outputId": "960da2e9-b376-498e-8786-8d55d399dbe9"
      },
      "source": [
        "code_list = [['checking_account_status', \n",
        "              {'A11' : '< 0 DM', \n",
        "               'A12' : '0 - 200 DM', \n",
        "               'A13' : '> 200 DM or salary assignment', \n",
        "               'A14' : 'none'}],\n",
        "            ['credit_history',\n",
        "            {'A30' : 'no credit - paid', \n",
        "             'A31' : 'all loans at bank paid', \n",
        "             'A32' : 'current loans paid', \n",
        "             'A33' : 'past payment delays', \n",
        "             'A34' : 'critical account - other non-bank loans'}],\n",
        "            ['purpose',\n",
        "            {'A40' : 'car (new)', \n",
        "             'A41' : 'car (used)',\n",
        "             'A42' : 'furniture/equipment',\n",
        "             'A43' : 'radio/television', \n",
        "             'A44' : 'domestic appliances', \n",
        "             'A45' : 'repairs', \n",
        "             'A46' : 'education', \n",
        "             'A47' : 'vacation',\n",
        "             'A48' : 'retraining',\n",
        "             'A49' : 'business', \n",
        "             'A410' : 'other' }],\n",
        "            ['savings_account_balance',\n",
        "            {'A61' : '< 100 DM', \n",
        "             'A62' : '100 - 500 DM', \n",
        "             'A63' : '500 - 1000 DM', \n",
        "             'A64' : '>= 1000 DM',\n",
        "             'A65' : 'unknown/none' }],\n",
        "            ['time_employed_yrs',\n",
        "            {'A71' : 'unemployed',\n",
        "             'A72' : '< 1 year', \n",
        "             'A73' : '1 - 4 years', \n",
        "             'A74' : '4 - 7 years', \n",
        "             'A75' : '>= 7 years'}],\n",
        "            ['gender_status',\n",
        "            {'A91' : 'male-divorced/separated', \n",
        "             'A92' : 'female-divorced/separated/married',\n",
        "             'A93' : 'male-single', \n",
        "             'A94' : 'male-married/widowed', \n",
        "             'A95' : 'female-single'}],\n",
        "            ['other_signators',\n",
        "            {'A101' : 'none', \n",
        "             'A102' : 'co-applicant', \n",
        "             'A103' : 'guarantor'}],\n",
        "            ['property',\n",
        "            {'A121' : 'real estate',\n",
        "             'A122' : 'building society savings/life insurance', \n",
        "             'A123' : 'car or other',\n",
        "             'A124' : 'unknown-none' }],\n",
        "            ['other_credit_outstanding',\n",
        "            {'A141' : 'bank', \n",
        "             'A142' : 'stores', \n",
        "             'A143' : 'none'}],\n",
        "             ['home_ownership',\n",
        "            {'A151' : 'rent', \n",
        "             'A152' : 'own', \n",
        "             'A153' : 'for free'}],\n",
        "            ['job_category',\n",
        "            {'A171' : 'unemployed-unskilled-non-resident', \n",
        "             'A172' : 'unskilled-resident', \n",
        "             'A173' : 'skilled',\n",
        "             'A174' : 'highly skilled'}],\n",
        "            ['telephone', \n",
        "            {'A191' : 'none', \n",
        "             'A192' : 'yes'}],\n",
        "            ['foreign_worker',\n",
        "            {'A201' : 'yes', \n",
        "             'A202' : 'no'}],\n",
        "            ['bad_credit',\n",
        "            {2 : 1,\n",
        "             1 : 0}]]\n",
        "\n",
        "for col_dic in code_list:\n",
        "    col = col_dic[0]\n",
        "    dic = col_dic[1]\n",
        "    credit[col] = [dic[x] for x in credit[col]]\n",
        "    \n",
        "credit.head()    "
      ],
      "execution_count": 24,
      "outputs": [
        {
          "output_type": "execute_result",
          "data": {
            "text/html": [
              "<div>\n",
              "<style scoped>\n",
              "    .dataframe tbody tr th:only-of-type {\n",
              "        vertical-align: middle;\n",
              "    }\n",
              "\n",
              "    .dataframe tbody tr th {\n",
              "        vertical-align: top;\n",
              "    }\n",
              "\n",
              "    .dataframe thead th {\n",
              "        text-align: right;\n",
              "    }\n",
              "</style>\n",
              "<table border=\"1\" class=\"dataframe\">\n",
              "  <thead>\n",
              "    <tr style=\"text-align: right;\">\n",
              "      <th></th>\n",
              "      <th>customer_id</th>\n",
              "      <th>checking_account_status</th>\n",
              "      <th>loan_duration_mo</th>\n",
              "      <th>credit_history</th>\n",
              "      <th>purpose</th>\n",
              "      <th>loan_amount</th>\n",
              "      <th>savings_account_balance</th>\n",
              "      <th>time_employed_yrs</th>\n",
              "      <th>payment_pcnt_income</th>\n",
              "      <th>gender_status</th>\n",
              "      <th>...</th>\n",
              "      <th>property</th>\n",
              "      <th>age_yrs</th>\n",
              "      <th>other_credit_outstanding</th>\n",
              "      <th>home_ownership</th>\n",
              "      <th>number_loans</th>\n",
              "      <th>job_category</th>\n",
              "      <th>dependents</th>\n",
              "      <th>telephone</th>\n",
              "      <th>foreign_worker</th>\n",
              "      <th>bad_credit</th>\n",
              "    </tr>\n",
              "  </thead>\n",
              "  <tbody>\n",
              "    <tr>\n",
              "      <th>0</th>\n",
              "      <td>1122334</td>\n",
              "      <td>&lt; 0 DM</td>\n",
              "      <td>6</td>\n",
              "      <td>critical account - other non-bank loans</td>\n",
              "      <td>radio/television</td>\n",
              "      <td>1169</td>\n",
              "      <td>unknown/none</td>\n",
              "      <td>&gt;= 7 years</td>\n",
              "      <td>4</td>\n",
              "      <td>male-single</td>\n",
              "      <td>...</td>\n",
              "      <td>real estate</td>\n",
              "      <td>67</td>\n",
              "      <td>none</td>\n",
              "      <td>own</td>\n",
              "      <td>2</td>\n",
              "      <td>skilled</td>\n",
              "      <td>1</td>\n",
              "      <td>yes</td>\n",
              "      <td>yes</td>\n",
              "      <td>0</td>\n",
              "    </tr>\n",
              "    <tr>\n",
              "      <th>1</th>\n",
              "      <td>6156361</td>\n",
              "      <td>0 - 200 DM</td>\n",
              "      <td>48</td>\n",
              "      <td>current loans paid</td>\n",
              "      <td>radio/television</td>\n",
              "      <td>5951</td>\n",
              "      <td>&lt; 100 DM</td>\n",
              "      <td>1 - 4 years</td>\n",
              "      <td>2</td>\n",
              "      <td>female-divorced/separated/married</td>\n",
              "      <td>...</td>\n",
              "      <td>real estate</td>\n",
              "      <td>22</td>\n",
              "      <td>none</td>\n",
              "      <td>own</td>\n",
              "      <td>1</td>\n",
              "      <td>skilled</td>\n",
              "      <td>1</td>\n",
              "      <td>none</td>\n",
              "      <td>yes</td>\n",
              "      <td>1</td>\n",
              "    </tr>\n",
              "    <tr>\n",
              "      <th>2</th>\n",
              "      <td>2051359</td>\n",
              "      <td>none</td>\n",
              "      <td>12</td>\n",
              "      <td>critical account - other non-bank loans</td>\n",
              "      <td>education</td>\n",
              "      <td>2096</td>\n",
              "      <td>&lt; 100 DM</td>\n",
              "      <td>4 - 7 years</td>\n",
              "      <td>2</td>\n",
              "      <td>male-single</td>\n",
              "      <td>...</td>\n",
              "      <td>real estate</td>\n",
              "      <td>49</td>\n",
              "      <td>none</td>\n",
              "      <td>own</td>\n",
              "      <td>1</td>\n",
              "      <td>unskilled-resident</td>\n",
              "      <td>2</td>\n",
              "      <td>none</td>\n",
              "      <td>yes</td>\n",
              "      <td>0</td>\n",
              "    </tr>\n",
              "    <tr>\n",
              "      <th>3</th>\n",
              "      <td>8740590</td>\n",
              "      <td>&lt; 0 DM</td>\n",
              "      <td>42</td>\n",
              "      <td>current loans paid</td>\n",
              "      <td>furniture/equipment</td>\n",
              "      <td>7882</td>\n",
              "      <td>&lt; 100 DM</td>\n",
              "      <td>4 - 7 years</td>\n",
              "      <td>2</td>\n",
              "      <td>male-single</td>\n",
              "      <td>...</td>\n",
              "      <td>building society savings/life insurance</td>\n",
              "      <td>45</td>\n",
              "      <td>none</td>\n",
              "      <td>for free</td>\n",
              "      <td>1</td>\n",
              "      <td>skilled</td>\n",
              "      <td>2</td>\n",
              "      <td>none</td>\n",
              "      <td>yes</td>\n",
              "      <td>0</td>\n",
              "    </tr>\n",
              "    <tr>\n",
              "      <th>4</th>\n",
              "      <td>3924540</td>\n",
              "      <td>&lt; 0 DM</td>\n",
              "      <td>24</td>\n",
              "      <td>past payment delays</td>\n",
              "      <td>car (new)</td>\n",
              "      <td>4870</td>\n",
              "      <td>&lt; 100 DM</td>\n",
              "      <td>1 - 4 years</td>\n",
              "      <td>3</td>\n",
              "      <td>male-single</td>\n",
              "      <td>...</td>\n",
              "      <td>unknown-none</td>\n",
              "      <td>53</td>\n",
              "      <td>none</td>\n",
              "      <td>for free</td>\n",
              "      <td>2</td>\n",
              "      <td>skilled</td>\n",
              "      <td>2</td>\n",
              "      <td>none</td>\n",
              "      <td>yes</td>\n",
              "      <td>1</td>\n",
              "    </tr>\n",
              "  </tbody>\n",
              "</table>\n",
              "<p>5 rows × 22 columns</p>\n",
              "</div>"
            ],
            "text/plain": [
              "   customer_id checking_account_status  loan_duration_mo  \\\n",
              "0      1122334                  < 0 DM                 6   \n",
              "1      6156361              0 - 200 DM                48   \n",
              "2      2051359                    none                12   \n",
              "3      8740590                  < 0 DM                42   \n",
              "4      3924540                  < 0 DM                24   \n",
              "\n",
              "                            credit_history              purpose  loan_amount  \\\n",
              "0  critical account - other non-bank loans     radio/television         1169   \n",
              "1                       current loans paid     radio/television         5951   \n",
              "2  critical account - other non-bank loans            education         2096   \n",
              "3                       current loans paid  furniture/equipment         7882   \n",
              "4                      past payment delays            car (new)         4870   \n",
              "\n",
              "  savings_account_balance time_employed_yrs  payment_pcnt_income  \\\n",
              "0            unknown/none        >= 7 years                    4   \n",
              "1                < 100 DM       1 - 4 years                    2   \n",
              "2                < 100 DM       4 - 7 years                    2   \n",
              "3                < 100 DM       4 - 7 years                    2   \n",
              "4                < 100 DM       1 - 4 years                    3   \n",
              "\n",
              "                       gender_status  ...  \\\n",
              "0                        male-single  ...   \n",
              "1  female-divorced/separated/married  ...   \n",
              "2                        male-single  ...   \n",
              "3                        male-single  ...   \n",
              "4                        male-single  ...   \n",
              "\n",
              "                                  property  age_yrs other_credit_outstanding  \\\n",
              "0                              real estate       67                     none   \n",
              "1                              real estate       22                     none   \n",
              "2                              real estate       49                     none   \n",
              "3  building society savings/life insurance       45                     none   \n",
              "4                             unknown-none       53                     none   \n",
              "\n",
              "   home_ownership number_loans        job_category  dependents telephone  \\\n",
              "0             own            2             skilled           1       yes   \n",
              "1             own            1             skilled           1      none   \n",
              "2             own            1  unskilled-resident           2      none   \n",
              "3        for free            1             skilled           2      none   \n",
              "4        for free            2             skilled           2      none   \n",
              "\n",
              "   foreign_worker bad_credit  \n",
              "0             yes          0  \n",
              "1             yes          1  \n",
              "2             yes          0  \n",
              "3             yes          0  \n",
              "4             yes          1  \n",
              "\n",
              "[5 rows x 22 columns]"
            ]
          },
          "metadata": {
            "tags": []
          },
          "execution_count": 24
        }
      ]
    },
    {
      "cell_type": "code",
      "metadata": {
        "id": "Lpd5UdoHf0wT",
        "colab_type": "code",
        "colab": {
          "base_uri": "https://localhost:8080/",
          "height": 50
        },
        "outputId": "c46bd03d-48f1-4520-f87b-14ff81eff2bf"
      },
      "source": [
        "print(credit.shape)\n",
        "print(credit.customer_id.unique().shape)"
      ],
      "execution_count": 25,
      "outputs": [
        {
          "output_type": "stream",
          "text": [
            "(1012, 22)\n",
            "(1000,)\n"
          ],
          "name": "stdout"
        }
      ]
    },
    {
      "cell_type": "code",
      "metadata": {
        "id": "qXQaVChaf94T",
        "colab_type": "code",
        "colab": {
          "base_uri": "https://localhost:8080/",
          "height": 50
        },
        "outputId": "97e25e91-a008-4e81-8e50-fa0d08836832"
      },
      "source": [
        "credit.drop_duplicates(subset = 'customer_id', keep = 'first', inplace = True)\n",
        "print(credit.shape)\n",
        "print(credit.customer_id.unique().shape)"
      ],
      "execution_count": 26,
      "outputs": [
        {
          "output_type": "stream",
          "text": [
            "(1000, 22)\n",
            "(1000,)\n"
          ],
          "name": "stdout"
        }
      ]
    },
    {
      "cell_type": "code",
      "metadata": {
        "id": "6QxF9Z0-gBs2",
        "colab_type": "code",
        "colab": {}
      },
      "source": [
        "credit[['log_loan_duration_mo', 'log_loan_amount', 'log_age_yrs']] = credit[['loan_duration_mo', 'loan_amount', 'age_yrs']].applymap(math.log)"
      ],
      "execution_count": 0,
      "outputs": []
    },
    {
      "cell_type": "code",
      "metadata": {
        "id": "TPBcarmJgFAI",
        "colab_type": "code",
        "colab": {
          "base_uri": "https://localhost:8080/",
          "height": 1718
        },
        "outputId": "03d82377-ff26-4c4d-deb7-ef05b0669e24"
      },
      "source": [
        "num_cols = ['log_loan_duration_mo', 'log_loan_amount', 'log_age_yrs',\n",
        "                   'loan_duration_mo', 'loan_amount', 'age_yrs']\n",
        "\n",
        "for col in num_cols:\n",
        "    print(col)\n",
        "    _ = plt.figure(figsize = (10,4))\n",
        "    sns.violinplot(x= 'bad_credit', y = col, hue = 'bad_credit', \n",
        "                   data = credit)\n",
        "    plt.ylabel('value')\n",
        "    plt.xlabel(col)\n",
        "    plt.show()"
      ],
      "execution_count": 28,
      "outputs": [
        {
          "output_type": "stream",
          "text": [
            "log_loan_duration_mo\n"
          ],
          "name": "stdout"
        },
        {
          "output_type": "display_data",
          "data": {
            "image/png": "[encoded data removed]",
            "text/plain": [
              "<Figure size 720x288 with 1 Axes>"
            ]
          },
          "metadata": {
            "tags": []
          }
        },
        {
          "output_type": "stream",
          "text": [
            "log_loan_amount\n"
          ],
          "name": "stdout"
        },
        {
          "output_type": "display_data",
          "data": {
            "image/png": "[encoded data removed]",
            "text/plain": [
              "<Figure size 720x288 with 1 Axes>"
            ]
          },
          "metadata": {
            "tags": []
          }
        },
        {
          "output_type": "stream",
          "text": [
            "log_age_yrs\n"
          ],
          "name": "stdout"
        },
        {
          "output_type": "display_data",
          "data": {
            "image/png": "[encoded data removed]",
            "text/plain": [
              "<Figure size 720x288 with 1 Axes>"
            ]
          },
          "metadata": {
            "tags": []
          }
        },
        {
          "output_type": "stream",
          "text": [
            "loan_duration_mo\n"
          ],
          "name": "stdout"
        },
        {
          "output_type": "display_data",
          "data": {
            "image/png": "[encoded data removed]",
            "text/plain": [
              "<Figure size 720x288 with 1 Axes>"
            ]
          },
          "metadata": {
            "tags": []
          }
        },
        {
          "output_type": "stream",
          "text": [
            "loan_amount\n"
          ],
          "name": "stdout"
        },
        {
          "output_type": "display_data",
          "data": {
            "image/png": "[encoded data removed]",
            "text/plain": [
              "<Figure size 720x288 with 1 Axes>"
            ]
          },
          "metadata": {
            "tags": []
          }
        },
        {
          "output_type": "stream",
          "text": [
            "age_yrs\n"
          ],
          "name": "stdout"
        },
        {
          "output_type": "display_data",
          "data": {
            "image/png": "[encoded data removed]",
            "text/plain": [
              "<Figure size 720x288 with 1 Axes>"
            ]
          },
          "metadata": {
            "tags": []
          }
        }
      ]
    },
    {
      "cell_type": "code",
      "metadata": {
        "id": "LTVQ_R_1gIgk",
        "colab_type": "code",
        "colab": {}
      },
      "source": [
        ""
      ],
      "execution_count": 0,
      "outputs": []
    }
  ]
}