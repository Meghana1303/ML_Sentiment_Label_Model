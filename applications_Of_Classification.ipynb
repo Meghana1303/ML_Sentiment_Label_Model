{
  "nbformat": 4,
  "nbformat_minor": 0,
  "metadata": {
    "colab": {
      "name": "applications Of Classification.ipynb",
      "version": "0.3.2",
      "provenance": [],
      "collapsed_sections": [],
      "include_colab_link": true
    },
    "kernelspec": {
      "name": "python3",
      "display_name": "Python 3"
    }
  },
  "cells": [
    {
      "cell_type": "markdown",
      "metadata": {
        "id": "view-in-github",
        "colab_type": "text"
      },
      "source": [
        "<a href=\"https://colab.research.google.com/github/Meghana1303/ML_Sentiment_Label_Model/blob/master/applications_Of_Classification.ipynb\" target=\"_parent\"><img src=\"https://colab.research.google.com/assets/colab-badge.svg\" alt=\"Open In Colab\"/></a>"
      ]
    },
    {
      "cell_type": "code",
      "metadata": {
        "id": "Fz25mbHdrOCU",
        "colab_type": "code",
        "colab": {}
      },
      "source": [
        "import pandas as pd\n",
        "import matplotlib.pyplot as plt\n",
        "import seaborn as sns\n",
        "import numpy as np\n",
        "import numpy.random as nr\n",
        "import math\n",
        "from sklearn import preprocessing\n",
        "import sklearn.model_selection as ms\n",
        "from sklearn import linear_model\n",
        "import sklearn.metrics as sklm\n",
        "\n",
        "%matplotlib inline"
      ],
      "execution_count": 0,
      "outputs": []
    },
    {
      "cell_type": "code",
      "metadata": {
        "id": "YauHUGs9rWBl",
        "colab_type": "code",
        "colab": {
          "base_uri": "https://localhost:8080/",
          "height": 311
        },
        "outputId": "82f77088-1488-4a5a-d6f1-1cca6747e532"
      },
      "source": [
        "xseq = np.arange(-7, 7, 0.1)\n",
        "\n",
        "logistic = [math.exp(v)/(1 + math.exp(v)) for v in xseq]\n",
        "\n",
        "plt.plot(xseq, logistic, color = 'red')\n",
        "plt.plot([-7,7], [0.5,0.5], color = 'blue')\n",
        "plt.plot([0,0], [0,1], color = 'blue')\n",
        "plt.title('Logistic function for two-class classification')\n",
        "plt.ylabel('log likelihood')\n",
        "plt.xlabel('Value of output from linear regression')"
      ],
      "execution_count": 2,
      "outputs": [
        {
          "output_type": "execute_result",
          "data": {
            "text/plain": [
              "Text(0.5, 0, 'Value of output from linear regression')"
            ]
          },
          "metadata": {
            "tags": []
          },
          "execution_count": 2
        },
        {
          "output_type": "display_data",
          "data": {
            "image/png": "[encoded data removed]",
            "text/plain": [
              "<Figure size 432x288 with 1 Axes>"
            ]
          },
          "metadata": {
            "tags": []
          }
        }
      ]
    },
    {
      "cell_type": "code",
      "metadata": {
        "id": "Knd71X4arWFN",
        "colab_type": "code",
        "colab": {
          "resources": {
            "http://localhost:8080/nbextensions/google.colab/files.js": {
              "data": "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",
              "ok": true,
              "headers": [
                [
                  "content-type",
                  "application/javascript"
                ]
              ],
              "status": 200,
              "status_text": ""
            }
          },
          "base_uri": "https://localhost:8080/",
          "height": 91
        },
        "outputId": "e5d43d5b-4f47-417a-fe3c-139d4d70d36e"
      },
      "source": [
        "from google.colab import files\n",
        "\n",
        "uploaded = files.upload()\n",
        "\n",
        "for fn in uploaded.keys():\n",
        "  print('User uploaded file \"{name}\" with length {length} bytes'.format(\n",
        "      name=fn, length=len(uploaded[fn])))"
      ],
      "execution_count": 7,
      "outputs": [
        {
          "output_type": "display_data",
          "data": {
            "text/html": [
              "\n",
              "     <input type=\"file\" id=\"files-b88da834-7ca5-4ce6-aa36-48f0388884a5\" name=\"files[]\" multiple disabled />\n",
              "     <output id=\"result-b88da834-7ca5-4ce6-aa36-48f0388884a5\">\n",
              "      Upload widget is only available when the cell has been executed in the\n",
              "      current browser session. Please rerun this cell to enable.\n",
              "      </output>\n",
              "      <script src=\"/nbextensions/google.colab/files.js\"></script> "
            ],
            "text/plain": [
              "<IPython.core.display.HTML object>"
            ]
          },
          "metadata": {
            "tags": []
          }
        },
        {
          "output_type": "stream",
          "text": [
            "Saving German_Credit_Preped.csv to German_Credit_Preped.csv\n",
            "User uploaded file \"German_Credit_Preped.csv\" with length 173738 bytes\n"
          ],
          "name": "stdout"
        }
      ]
    },
    {
      "cell_type": "code",
      "metadata": {
        "id": "jvps1eJ1rWJo",
        "colab_type": "code",
        "colab": {
          "base_uri": "https://localhost:8080/",
          "height": 413
        },
        "outputId": "9b27d3c6-39dd-4c66-e49c-f9f7d048f547"
      },
      "source": [
        "credit = pd.read_csv('German_Credit_Preped.csv')\n",
        "print(credit.shape)\n",
        "credit.head()"
      ],
      "execution_count": 8,
      "outputs": [
        {
          "output_type": "stream",
          "text": [
            "(1000, 22)\n"
          ],
          "name": "stdout"
        },
        {
          "output_type": "execute_result",
          "data": {
            "text/html": [
              "<div>\n",
              "<style scoped>\n",
              "    .dataframe tbody tr th:only-of-type {\n",
              "        vertical-align: middle;\n",
              "    }\n",
              "\n",
              "    .dataframe tbody tr th {\n",
              "        vertical-align: top;\n",
              "    }\n",
              "\n",
              "    .dataframe thead th {\n",
              "        text-align: right;\n",
              "    }\n",
              "</style>\n",
              "<table border=\"1\" class=\"dataframe\">\n",
              "  <thead>\n",
              "    <tr style=\"text-align: right;\">\n",
              "      <th></th>\n",
              "      <th>customer_id</th>\n",
              "      <th>checking_account_status</th>\n",
              "      <th>loan_duration_mo</th>\n",
              "      <th>credit_history</th>\n",
              "      <th>purpose</th>\n",
              "      <th>loan_amount</th>\n",
              "      <th>savings_account_balance</th>\n",
              "      <th>time_employed_yrs</th>\n",
              "      <th>payment_pcnt_income</th>\n",
              "      <th>gender_status</th>\n",
              "      <th>...</th>\n",
              "      <th>property</th>\n",
              "      <th>age_yrs</th>\n",
              "      <th>other_credit_outstanding</th>\n",
              "      <th>home_ownership</th>\n",
              "      <th>number_loans</th>\n",
              "      <th>job_category</th>\n",
              "      <th>dependents</th>\n",
              "      <th>telephone</th>\n",
              "      <th>foreign_worker</th>\n",
              "      <th>bad_credit</th>\n",
              "    </tr>\n",
              "  </thead>\n",
              "  <tbody>\n",
              "    <tr>\n",
              "      <th>0</th>\n",
              "      <td>1122334</td>\n",
              "      <td>&lt; 0 DM</td>\n",
              "      <td>6</td>\n",
              "      <td>critical account - other non-bank loans</td>\n",
              "      <td>radio/television</td>\n",
              "      <td>1169</td>\n",
              "      <td>unknown/none</td>\n",
              "      <td>&gt;= 7 years</td>\n",
              "      <td>4</td>\n",
              "      <td>male-single</td>\n",
              "      <td>...</td>\n",
              "      <td>real estate</td>\n",
              "      <td>67</td>\n",
              "      <td>none</td>\n",
              "      <td>own</td>\n",
              "      <td>2</td>\n",
              "      <td>skilled</td>\n",
              "      <td>1</td>\n",
              "      <td>yes</td>\n",
              "      <td>yes</td>\n",
              "      <td>0</td>\n",
              "    </tr>\n",
              "    <tr>\n",
              "      <th>1</th>\n",
              "      <td>6156361</td>\n",
              "      <td>0 - 200 DM</td>\n",
              "      <td>48</td>\n",
              "      <td>current loans paid</td>\n",
              "      <td>radio/television</td>\n",
              "      <td>5951</td>\n",
              "      <td>&lt; 100 DM</td>\n",
              "      <td>1 - 4 years</td>\n",
              "      <td>2</td>\n",
              "      <td>female-divorced/separated/married</td>\n",
              "      <td>...</td>\n",
              "      <td>real estate</td>\n",
              "      <td>22</td>\n",
              "      <td>none</td>\n",
              "      <td>own</td>\n",
              "      <td>1</td>\n",
              "      <td>skilled</td>\n",
              "      <td>1</td>\n",
              "      <td>none</td>\n",
              "      <td>yes</td>\n",
              "      <td>1</td>\n",
              "    </tr>\n",
              "    <tr>\n",
              "      <th>2</th>\n",
              "      <td>2051359</td>\n",
              "      <td>none</td>\n",
              "      <td>12</td>\n",
              "      <td>critical account - other non-bank loans</td>\n",
              "      <td>education</td>\n",
              "      <td>2096</td>\n",
              "      <td>&lt; 100 DM</td>\n",
              "      <td>4 - 7 years</td>\n",
              "      <td>2</td>\n",
              "      <td>male-single</td>\n",
              "      <td>...</td>\n",
              "      <td>real estate</td>\n",
              "      <td>49</td>\n",
              "      <td>none</td>\n",
              "      <td>own</td>\n",
              "      <td>1</td>\n",
              "      <td>unskilled-resident</td>\n",
              "      <td>2</td>\n",
              "      <td>none</td>\n",
              "      <td>yes</td>\n",
              "      <td>0</td>\n",
              "    </tr>\n",
              "    <tr>\n",
              "      <th>3</th>\n",
              "      <td>8740590</td>\n",
              "      <td>&lt; 0 DM</td>\n",
              "      <td>42</td>\n",
              "      <td>current loans paid</td>\n",
              "      <td>furniture/equipment</td>\n",
              "      <td>7882</td>\n",
              "      <td>&lt; 100 DM</td>\n",
              "      <td>4 - 7 years</td>\n",
              "      <td>2</td>\n",
              "      <td>male-single</td>\n",
              "      <td>...</td>\n",
              "      <td>building society savings/life insurance</td>\n",
              "      <td>45</td>\n",
              "      <td>none</td>\n",
              "      <td>for free</td>\n",
              "      <td>1</td>\n",
              "      <td>skilled</td>\n",
              "      <td>2</td>\n",
              "      <td>none</td>\n",
              "      <td>yes</td>\n",
              "      <td>0</td>\n",
              "    </tr>\n",
              "    <tr>\n",
              "      <th>4</th>\n",
              "      <td>3924540</td>\n",
              "      <td>&lt; 0 DM</td>\n",
              "      <td>24</td>\n",
              "      <td>past payment delays</td>\n",
              "      <td>car (new)</td>\n",
              "      <td>4870</td>\n",
              "      <td>&lt; 100 DM</td>\n",
              "      <td>1 - 4 years</td>\n",
              "      <td>3</td>\n",
              "      <td>male-single</td>\n",
              "      <td>...</td>\n",
              "      <td>unknown-none</td>\n",
              "      <td>53</td>\n",
              "      <td>none</td>\n",
              "      <td>for free</td>\n",
              "      <td>2</td>\n",
              "      <td>skilled</td>\n",
              "      <td>2</td>\n",
              "      <td>none</td>\n",
              "      <td>yes</td>\n",
              "      <td>1</td>\n",
              "    </tr>\n",
              "  </tbody>\n",
              "</table>\n",
              "<p>5 rows × 22 columns</p>\n",
              "</div>"
            ],
            "text/plain": [
              "   customer_id checking_account_status  loan_duration_mo  \\\n",
              "0      1122334                  < 0 DM                 6   \n",
              "1      6156361              0 - 200 DM                48   \n",
              "2      2051359                    none                12   \n",
              "3      8740590                  < 0 DM                42   \n",
              "4      3924540                  < 0 DM                24   \n",
              "\n",
              "                            credit_history              purpose  loan_amount  \\\n",
              "0  critical account - other non-bank loans     radio/television         1169   \n",
              "1                       current loans paid     radio/television         5951   \n",
              "2  critical account - other non-bank loans            education         2096   \n",
              "3                       current loans paid  furniture/equipment         7882   \n",
              "4                      past payment delays            car (new)         4870   \n",
              "\n",
              "  savings_account_balance time_employed_yrs  payment_pcnt_income  \\\n",
              "0            unknown/none        >= 7 years                    4   \n",
              "1                < 100 DM       1 - 4 years                    2   \n",
              "2                < 100 DM       4 - 7 years                    2   \n",
              "3                < 100 DM       4 - 7 years                    2   \n",
              "4                < 100 DM       1 - 4 years                    3   \n",
              "\n",
              "                       gender_status  ...  \\\n",
              "0                        male-single  ...   \n",
              "1  female-divorced/separated/married  ...   \n",
              "2                        male-single  ...   \n",
              "3                        male-single  ...   \n",
              "4                        male-single  ...   \n",
              "\n",
              "                                  property  age_yrs other_credit_outstanding  \\\n",
              "0                              real estate       67                     none   \n",
              "1                              real estate       22                     none   \n",
              "2                              real estate       49                     none   \n",
              "3  building society savings/life insurance       45                     none   \n",
              "4                             unknown-none       53                     none   \n",
              "\n",
              "   home_ownership number_loans        job_category  dependents telephone  \\\n",
              "0             own            2             skilled           1       yes   \n",
              "1             own            1             skilled           1      none   \n",
              "2             own            1  unskilled-resident           2      none   \n",
              "3        for free            1             skilled           2      none   \n",
              "4        for free            2             skilled           2      none   \n",
              "\n",
              "   foreign_worker bad_credit  \n",
              "0             yes          0  \n",
              "1             yes          1  \n",
              "2             yes          0  \n",
              "3             yes          0  \n",
              "4             yes          1  \n",
              "\n",
              "[5 rows x 22 columns]"
            ]
          },
          "metadata": {
            "tags": []
          },
          "execution_count": 8
        }
      ]
    },
    {
      "cell_type": "code",
      "metadata": {
        "id": "Pykadqq_rWNJ",
        "colab_type": "code",
        "colab": {
          "base_uri": "https://localhost:8080/",
          "height": 84
        },
        "outputId": "9582f8fc-0664-4d21-c1b1-9288c38e91a2"
      },
      "source": [
        "credit_counts = credit[['credit_history', 'bad_credit']].groupby('bad_credit').count()\n",
        "print(credit_counts)"
      ],
      "execution_count": 9,
      "outputs": [
        {
          "output_type": "stream",
          "text": [
            "            credit_history\n",
            "bad_credit                \n",
            "0                      700\n",
            "1                      300\n"
          ],
          "name": "stdout"
        }
      ]
    },
    {
      "cell_type": "code",
      "metadata": {
        "id": "ktqFDO9DrWQU",
        "colab_type": "code",
        "colab": {}
      },
      "source": [
        "labels = np.array(credit['bad_credit'])"
      ],
      "execution_count": 0,
      "outputs": []
    },
    {
      "cell_type": "code",
      "metadata": {
        "id": "In1H-w43rWS-",
        "colab_type": "code",
        "colab": {
          "base_uri": "https://localhost:8080/",
          "height": 522
        },
        "outputId": "e454e1dc-e84b-40cd-d841-b1da3cd308e8"
      },
      "source": [
        "def encode_string(cat_features):\n",
        "    ## First encode the strings to numeric categories\n",
        "    enc = preprocessing.LabelEncoder()\n",
        "    enc.fit(cat_features)\n",
        "    enc_cat_features = enc.transform(cat_features)\n",
        "    ## Now, apply one hot encoding\n",
        "    ohe = preprocessing.OneHotEncoder()\n",
        "    encoded = ohe.fit(enc_cat_features.reshape(-1,1))\n",
        "    return encoded.transform(enc_cat_features.reshape(-1,1)).toarray()\n",
        "\n",
        "categorical_columns = ['credit_history', 'purpose', 'gender_status', \n",
        "                       'time_in_residence', 'property']\n",
        "\n",
        "Features = encode_string(credit['checking_account_status'])\n",
        "for col in categorical_columns:\n",
        "    temp = encode_string(credit[col])\n",
        "    Features = np.concatenate([Features, temp], axis = 1)\n",
        "\n",
        "print(Features.shape)\n",
        "print(Features[:2, :])"
      ],
      "execution_count": 11,
      "outputs": [
        {
          "output_type": "stream",
          "text": [
            "(1000, 31)\n",
            "[[0. 1. 0. 0. 0. 1. 0. 0. 0. 0. 0. 0. 0. 0. 0. 0. 1. 0. 0. 0. 0. 0. 1. 0.\n",
            "  0. 0. 1. 0. 0. 1. 0.]\n",
            " [1. 0. 0. 0. 0. 0. 1. 0. 0. 0. 0. 0. 0. 0. 0. 0. 1. 0. 0. 1. 0. 0. 0. 0.\n",
            "  1. 0. 0. 0. 0. 1. 0.]]\n"
          ],
          "name": "stdout"
        },
        {
          "output_type": "stream",
          "text": [
            "/usr/local/lib/python3.6/dist-packages/sklearn/preprocessing/_encoders.py:371: FutureWarning: The handling of integer data will change in version 0.22. Currently, the categories are determined based on the range [0, max(values)], while in the future they will be determined based on the unique values.\n",
            "If you want the future behaviour and silence this warning, you can specify \"categories='auto'\".\n",
            "In case you used a LabelEncoder before this OneHotEncoder to convert the categories to integers, then you can now use the OneHotEncoder directly.\n",
            "  warnings.warn(msg, FutureWarning)\n",
            "/usr/local/lib/python3.6/dist-packages/sklearn/preprocessing/_encoders.py:371: FutureWarning: The handling of integer data will change in version 0.22. Currently, the categories are determined based on the range [0, max(values)], while in the future they will be determined based on the unique values.\n",
            "If you want the future behaviour and silence this warning, you can specify \"categories='auto'\".\n",
            "In case you used a LabelEncoder before this OneHotEncoder to convert the categories to integers, then you can now use the OneHotEncoder directly.\n",
            "  warnings.warn(msg, FutureWarning)\n",
            "/usr/local/lib/python3.6/dist-packages/sklearn/preprocessing/_encoders.py:371: FutureWarning: The handling of integer data will change in version 0.22. Currently, the categories are determined based on the range [0, max(values)], while in the future they will be determined based on the unique values.\n",
            "If you want the future behaviour and silence this warning, you can specify \"categories='auto'\".\n",
            "In case you used a LabelEncoder before this OneHotEncoder to convert the categories to integers, then you can now use the OneHotEncoder directly.\n",
            "  warnings.warn(msg, FutureWarning)\n",
            "/usr/local/lib/python3.6/dist-packages/sklearn/preprocessing/_encoders.py:371: FutureWarning: The handling of integer data will change in version 0.22. Currently, the categories are determined based on the range [0, max(values)], while in the future they will be determined based on the unique values.\n",
            "If you want the future behaviour and silence this warning, you can specify \"categories='auto'\".\n",
            "In case you used a LabelEncoder before this OneHotEncoder to convert the categories to integers, then you can now use the OneHotEncoder directly.\n",
            "  warnings.warn(msg, FutureWarning)\n",
            "/usr/local/lib/python3.6/dist-packages/sklearn/preprocessing/_encoders.py:371: FutureWarning: The handling of integer data will change in version 0.22. Currently, the categories are determined based on the range [0, max(values)], while in the future they will be determined based on the unique values.\n",
            "If you want the future behaviour and silence this warning, you can specify \"categories='auto'\".\n",
            "In case you used a LabelEncoder before this OneHotEncoder to convert the categories to integers, then you can now use the OneHotEncoder directly.\n",
            "  warnings.warn(msg, FutureWarning)\n",
            "/usr/local/lib/python3.6/dist-packages/sklearn/preprocessing/_encoders.py:371: FutureWarning: The handling of integer data will change in version 0.22. Currently, the categories are determined based on the range [0, max(values)], while in the future they will be determined based on the unique values.\n",
            "If you want the future behaviour and silence this warning, you can specify \"categories='auto'\".\n",
            "In case you used a LabelEncoder before this OneHotEncoder to convert the categories to integers, then you can now use the OneHotEncoder directly.\n",
            "  warnings.warn(msg, FutureWarning)\n"
          ],
          "name": "stderr"
        }
      ]
    },
    {
      "cell_type": "code",
      "metadata": {
        "id": "i6sF6Rq6rWVV",
        "colab_type": "code",
        "colab": {
          "base_uri": "https://localhost:8080/",
          "height": 201
        },
        "outputId": "3f4d0536-8796-44f0-9748-77ee8c4bdb37"
      },
      "source": [
        "Features = np.concatenate([Features, np.array(credit[['loan_duration_mo', 'loan_amount', \n",
        "                            'payment_pcnt_income', 'age_yrs']])], axis = 1)\n",
        "print(Features.shape)\n",
        "print(Features[:2, :])"
      ],
      "execution_count": 12,
      "outputs": [
        {
          "output_type": "stream",
          "text": [
            "(1000, 35)\n",
            "[[0.000e+00 1.000e+00 0.000e+00 0.000e+00 0.000e+00 1.000e+00 0.000e+00\n",
            "  0.000e+00 0.000e+00 0.000e+00 0.000e+00 0.000e+00 0.000e+00 0.000e+00\n",
            "  0.000e+00 0.000e+00 1.000e+00 0.000e+00 0.000e+00 0.000e+00 0.000e+00\n",
            "  0.000e+00 1.000e+00 0.000e+00 0.000e+00 0.000e+00 1.000e+00 0.000e+00\n",
            "  0.000e+00 1.000e+00 0.000e+00 6.000e+00 1.169e+03 4.000e+00 6.700e+01]\n",
            " [1.000e+00 0.000e+00 0.000e+00 0.000e+00 0.000e+00 0.000e+00 1.000e+00\n",
            "  0.000e+00 0.000e+00 0.000e+00 0.000e+00 0.000e+00 0.000e+00 0.000e+00\n",
            "  0.000e+00 0.000e+00 1.000e+00 0.000e+00 0.000e+00 1.000e+00 0.000e+00\n",
            "  0.000e+00 0.000e+00 0.000e+00 1.000e+00 0.000e+00 0.000e+00 0.000e+00\n",
            "  0.000e+00 1.000e+00 0.000e+00 4.800e+01 5.951e+03 2.000e+00 2.200e+01]]\n"
          ],
          "name": "stdout"
        }
      ]
    },
    {
      "cell_type": "code",
      "metadata": {
        "id": "z9ZO_RLorWXp",
        "colab_type": "code",
        "colab": {}
      },
      "source": [
        "## Randomly sample cases to create independent training and test data\n",
        "nr.seed(9988)\n",
        "indx = range(Features.shape[0])\n",
        "indx = ms.train_test_split(indx, test_size = 300)\n",
        "X_train = Features[indx[0],:]\n",
        "y_train = np.ravel(labels[indx[0]])\n",
        "X_test = Features[indx[1],:]\n",
        "y_test = np.ravel(labels[indx[1]])"
      ],
      "execution_count": 0,
      "outputs": []
    },
    {
      "cell_type": "code",
      "metadata": {
        "id": "_bUaeATDrWaK",
        "colab_type": "code",
        "colab": {
          "base_uri": "https://localhost:8080/",
          "height": 418
        },
        "outputId": "9c966235-092c-43fb-87c2-8d0600808d5c"
      },
      "source": [
        "scaler = preprocessing.StandardScaler().fit(X_train[:,34:])\n",
        "X_train[:,34:] = scaler.transform(X_train[:,34:])\n",
        "X_test[:,34:] = scaler.transform(X_test[:,34:])\n",
        "X_train[:2,]"
      ],
      "execution_count": 14,
      "outputs": [
        {
          "output_type": "execute_result",
          "data": {
            "text/plain": [
              "array([[ 1.00000000e+00,  0.00000000e+00,  0.00000000e+00,\n",
              "         0.00000000e+00,  0.00000000e+00,  1.00000000e+00,\n",
              "         0.00000000e+00,  0.00000000e+00,  0.00000000e+00,\n",
              "         0.00000000e+00,  0.00000000e+00,  0.00000000e+00,\n",
              "         0.00000000e+00,  0.00000000e+00,  0.00000000e+00,\n",
              "         0.00000000e+00,  1.00000000e+00,  0.00000000e+00,\n",
              "         0.00000000e+00,  0.00000000e+00,  0.00000000e+00,\n",
              "         0.00000000e+00,  1.00000000e+00,  0.00000000e+00,\n",
              "         1.00000000e+00,  0.00000000e+00,  0.00000000e+00,\n",
              "         0.00000000e+00,  0.00000000e+00,  1.00000000e+00,\n",
              "         0.00000000e+00,  3.90000000e+01,  4.93300000e+03,\n",
              "         2.00000000e+00, -9.33823618e-01],\n",
              "       [ 0.00000000e+00,  1.00000000e+00,  0.00000000e+00,\n",
              "         0.00000000e+00,  0.00000000e+00,  0.00000000e+00,\n",
              "         1.00000000e+00,  0.00000000e+00,  0.00000000e+00,\n",
              "         0.00000000e+00,  0.00000000e+00,  0.00000000e+00,\n",
              "         0.00000000e+00,  0.00000000e+00,  1.00000000e+00,\n",
              "         0.00000000e+00,  0.00000000e+00,  0.00000000e+00,\n",
              "         0.00000000e+00,  1.00000000e+00,  0.00000000e+00,\n",
              "         0.00000000e+00,  0.00000000e+00,  0.00000000e+00,\n",
              "         1.00000000e+00,  0.00000000e+00,  0.00000000e+00,\n",
              "         1.00000000e+00,  0.00000000e+00,  0.00000000e+00,\n",
              "         0.00000000e+00,  2.40000000e+01,  7.72100000e+03,\n",
              "         1.00000000e+00, -4.95232278e-01]])"
            ]
          },
          "metadata": {
            "tags": []
          },
          "execution_count": 14
        }
      ]
    },
    {
      "cell_type": "code",
      "metadata": {
        "id": "0dNFCtlNs8qc",
        "colab_type": "code",
        "colab": {
          "base_uri": "https://localhost:8080/",
          "height": 137
        },
        "outputId": "332f9405-dc59-4dfb-fdbf-d6bae66c207c"
      },
      "source": [
        "logistic_mod = linear_model.LogisticRegression() \n",
        "logistic_mod.fit(X_train, y_train)"
      ],
      "execution_count": 15,
      "outputs": [
        {
          "output_type": "stream",
          "text": [
            "/usr/local/lib/python3.6/dist-packages/sklearn/linear_model/logistic.py:433: FutureWarning: Default solver will be changed to 'lbfgs' in 0.22. Specify a solver to silence this warning.\n",
            "  FutureWarning)\n"
          ],
          "name": "stderr"
        },
        {
          "output_type": "execute_result",
          "data": {
            "text/plain": [
              "LogisticRegression(C=1.0, class_weight=None, dual=False, fit_intercept=True,\n",
              "          intercept_scaling=1, max_iter=100, multi_class='warn',\n",
              "          n_jobs=None, penalty='l2', random_state=None, solver='warn',\n",
              "          tol=0.0001, verbose=0, warm_start=False)"
            ]
          },
          "metadata": {
            "tags": []
          },
          "execution_count": 15
        }
      ]
    },
    {
      "cell_type": "code",
      "metadata": {
        "id": "AJnekXncs_14",
        "colab_type": "code",
        "colab": {
          "base_uri": "https://localhost:8080/",
          "height": 184
        },
        "outputId": "02d18612-8d44-470d-997e-81c5d20e7eae"
      },
      "source": [
        "print(logistic_mod.intercept_)\n",
        "print(logistic_mod.coef_)"
      ],
      "execution_count": 16,
      "outputs": [
        {
          "output_type": "stream",
          "text": [
            "[-0.76726255]\n",
            "[[-1.59657103e-02  7.39174970e-01 -2.94096299e-01 -1.19637551e+00\n",
            "   3.97874665e-01 -1.12452732e+00 -4.21865254e-01  7.52535502e-01\n",
            "  -3.71280141e-01 -6.79210161e-02  4.94529273e-01 -6.47572388e-01\n",
            "   1.06890390e-01  1.34905351e-01  1.96724468e-02 -2.45605977e-01\n",
            "  -4.09764729e-01  6.00288185e-02 -2.12424720e-01 -1.09391358e-01\n",
            "   5.01018369e-02 -8.89492662e-02 -6.19023763e-01 -5.57311328e-01\n",
            "   2.16341814e-01 -3.80659900e-01 -4.56331364e-02 -2.70121984e-01\n",
            "  -1.02929314e-01 -5.25299151e-01  1.31087899e-01  2.29032336e-02\n",
            "   5.97063112e-05  2.04544582e-01 -1.83369465e-01]]\n"
          ],
          "name": "stdout"
        }
      ]
    },
    {
      "cell_type": "code",
      "metadata": {
        "id": "4elsb7aMtDEI",
        "colab_type": "code",
        "colab": {
          "base_uri": "https://localhost:8080/",
          "height": 268
        },
        "outputId": "9f83e6e7-a9a5-49bc-ff16-a7214c76b9ac"
      },
      "source": [
        "probabilities = logistic_mod.predict_proba(X_test)\n",
        "print(probabilities[:15,:])"
      ],
      "execution_count": 17,
      "outputs": [
        {
          "output_type": "stream",
          "text": [
            "[[0.84581429 0.15418571]\n",
            " [0.40084163 0.59915837]\n",
            " [0.94197442 0.05802558]\n",
            " [0.31667386 0.68332614]\n",
            " [0.54804901 0.45195099]\n",
            " [0.97411768 0.02588232]\n",
            " [0.94822229 0.05177771]\n",
            " [0.62809343 0.37190657]\n",
            " [0.87424984 0.12575016]\n",
            " [0.92513055 0.07486945]\n",
            " [0.55946337 0.44053663]\n",
            " [0.40218548 0.59781452]\n",
            " [0.50481467 0.49518533]\n",
            " [0.67347627 0.32652373]\n",
            " [0.34061712 0.65938288]]\n"
          ],
          "name": "stdout"
        }
      ]
    },
    {
      "cell_type": "code",
      "metadata": {
        "id": "WLtLKPILtGbP",
        "colab_type": "code",
        "colab": {
          "base_uri": "https://localhost:8080/",
          "height": 50
        },
        "outputId": "c43a8f2e-fafc-4317-995d-568430b18de1"
      },
      "source": [
        "def score_model(probs, threshold):\n",
        "    return np.array([1 if x > threshold else 0 for x in probs[:,1]])\n",
        "scores = score_model(probabilities, 0.5)\n",
        "print(np.array(scores[:15]))\n",
        "print(y_test[:15])"
      ],
      "execution_count": 18,
      "outputs": [
        {
          "output_type": "stream",
          "text": [
            "[0 1 0 1 0 0 0 0 0 0 0 1 0 0 1]\n",
            "[0 0 0 1 0 0 0 0 1 0 0 1 1 0 1]\n"
          ],
          "name": "stdout"
        }
      ]
    },
    {
      "cell_type": "code",
      "metadata": {
        "id": "2Yj5SfSDtJlR",
        "colab_type": "code",
        "colab": {
          "base_uri": "https://localhost:8080/",
          "height": 217
        },
        "outputId": "4693f7f4-9c64-4f80-c5a5-9562f95ea861"
      },
      "source": [
        "def print_metrics(labels, scores):\n",
        "    metrics = sklm.precision_recall_fscore_support(labels, scores)\n",
        "    conf = sklm.confusion_matrix(labels, scores)\n",
        "    print('                 Confusion matrix')\n",
        "    print('                 Score positive    Score negative')\n",
        "    print('Actual positive    %6d' % conf[0,0] + '             %5d' % conf[0,1])\n",
        "    print('Actual negative    %6d' % conf[1,0] + '             %5d' % conf[1,1])\n",
        "    print('')\n",
        "    print('Accuracy  %0.2f' % sklm.accuracy_score(labels, scores))\n",
        "    print(' ')\n",
        "    print('           Positive      Negative')\n",
        "    print('Num case   %6d' % metrics[3][0] + '        %6d' % metrics[3][1])\n",
        "    print('Precision  %6.2f' % metrics[0][0] + '        %6.2f' % metrics[0][1])\n",
        "    print('Recall     %6.2f' % metrics[1][0] + '        %6.2f' % metrics[1][1])\n",
        "    print('F1         %6.2f' % metrics[2][0] + '        %6.2f' % metrics[2][1])\n",
        "\n",
        "\n",
        "    \n",
        "print_metrics(y_test, scores)"
      ],
      "execution_count": 19,
      "outputs": [
        {
          "output_type": "stream",
          "text": [
            "                 Confusion matrix\n",
            "                 Score positive    Score negative\n",
            "Actual positive       182                30\n",
            "Actual negative        39                49\n",
            "\n",
            "Accuracy  0.77\n",
            " \n",
            "           Positive      Negative\n",
            "Num case      212            88\n",
            "Precision    0.82          0.62\n",
            "Recall       0.86          0.56\n",
            "F1           0.84          0.59\n"
          ],
          "name": "stdout"
        }
      ]
    },
    {
      "cell_type": "code",
      "metadata": {
        "id": "JAm4nWsutOEh",
        "colab_type": "code",
        "colab": {
          "base_uri": "https://localhost:8080/",
          "height": 294
        },
        "outputId": "336c778a-d23f-489d-d89e-9ce5bf27a989"
      },
      "source": [
        "def plot_auc(labels, probs):\n",
        "    ## Compute the false positive rate, true positive rate\n",
        "    ## and threshold along with the AUC\n",
        "    fpr, tpr, threshold = sklm.roc_curve(labels, probs[:,1])\n",
        "    auc = sklm.auc(fpr, tpr)\n",
        "    \n",
        "    ## Plot the result\n",
        "    plt.title('Receiver Operating Characteristic')\n",
        "    plt.plot(fpr, tpr, color = 'orange', label = 'AUC = %0.2f' % auc)\n",
        "    plt.legend(loc = 'lower right')\n",
        "    plt.plot([0, 1], [0, 1],'r--')\n",
        "    plt.xlim([0, 1])\n",
        "    plt.ylim([0, 1])\n",
        "    plt.ylabel('True Positive Rate')\n",
        "    plt.xlabel('False Positive Rate')\n",
        "    plt.show()\n",
        "    \n",
        "plot_auc(y_test, probabilities)"
      ],
      "execution_count": 20,
      "outputs": [
        {
          "output_type": "display_data",
          "data": {
            "image/png": "[encoded data removed]",
            "text/plain": [
              "<Figure size 432x288 with 1 Axes>"
            ]
          },
          "metadata": {
            "tags": []
          }
        }
      ]
    },
    {
      "cell_type": "code",
      "metadata": {
        "id": "YFkQMOZVtR86",
        "colab_type": "code",
        "colab": {
          "base_uri": "https://localhost:8080/",
          "height": 549
        },
        "outputId": "0a48a172-b107-400d-c3c1-2c9b8d491961"
      },
      "source": [
        "probs_positive = np.concatenate((np.ones((probabilities.shape[0], 1)), \n",
        "                                 np.zeros((probabilities.shape[0], 1))),\n",
        "                                 axis = 1)\n",
        "scores_positive = score_model(probs_positive, 0.5)\n",
        "print_metrics(y_test, scores_positive)  \n",
        "plot_auc(y_test, probs_positive)"
      ],
      "execution_count": 21,
      "outputs": [
        {
          "output_type": "stream",
          "text": [
            "/usr/local/lib/python3.6/dist-packages/sklearn/metrics/classification.py:1143: UndefinedMetricWarning: Precision and F-score are ill-defined and being set to 0.0 in labels with no predicted samples.\n",
            "  'precision', 'predicted', average, warn_for)\n"
          ],
          "name": "stderr"
        },
        {
          "output_type": "stream",
          "text": [
            "                 Confusion matrix\n",
            "                 Score positive    Score negative\n",
            "Actual positive       212                 0\n",
            "Actual negative        88                 0\n",
            "\n",
            "Accuracy  0.71\n",
            " \n",
            "           Positive      Negative\n",
            "Num case      212            88\n",
            "Precision    0.71          0.00\n",
            "Recall       1.00          0.00\n",
            "F1           0.83          0.00\n"
          ],
          "name": "stdout"
        },
        {
          "output_type": "display_data",
          "data": {
            "image/png": "[encoded data removed]",
            "text/plain": [
              "<Figure size 432x288 with 1 Axes>"
            ]
          },
          "metadata": {
            "tags": []
          }
        }
      ]
    },
    {
      "cell_type": "code",
      "metadata": {
        "id": "kZeotA3CtVCA",
        "colab_type": "code",
        "colab": {
          "base_uri": "https://localhost:8080/",
          "height": 137
        },
        "outputId": "4bf6f99a-9fe6-4fb9-95f8-c52b4b02bc41"
      },
      "source": [
        "logistic_mod = linear_model.LogisticRegression(class_weight = {0:0.45, 1:0.55}) \n",
        "logistic_mod.fit(X_train, y_train)"
      ],
      "execution_count": 22,
      "outputs": [
        {
          "output_type": "stream",
          "text": [
            "/usr/local/lib/python3.6/dist-packages/sklearn/linear_model/logistic.py:433: FutureWarning: Default solver will be changed to 'lbfgs' in 0.22. Specify a solver to silence this warning.\n",
            "  FutureWarning)\n"
          ],
          "name": "stderr"
        },
        {
          "output_type": "execute_result",
          "data": {
            "text/plain": [
              "LogisticRegression(C=1.0, class_weight={0: 0.45, 1: 0.55}, dual=False,\n",
              "          fit_intercept=True, intercept_scaling=1, max_iter=100,\n",
              "          multi_class='warn', n_jobs=None, penalty='l2', random_state=None,\n",
              "          solver='warn', tol=0.0001, verbose=0, warm_start=False)"
            ]
          },
          "metadata": {
            "tags": []
          },
          "execution_count": 22
        }
      ]
    },
    {
      "cell_type": "code",
      "metadata": {
        "id": "DKlMidoAtYHs",
        "colab_type": "code",
        "colab": {
          "base_uri": "https://localhost:8080/",
          "height": 268
        },
        "outputId": "8a799905-2871-4fe0-ea06-7345b39cb476"
      },
      "source": [
        "probabilities = logistic_mod.predict_proba(X_test)\n",
        "print(probabilities[:15,:])"
      ],
      "execution_count": 23,
      "outputs": [
        {
          "output_type": "stream",
          "text": [
            "[[0.81671216 0.18328784]\n",
            " [0.35302546 0.64697454]\n",
            " [0.93010458 0.06989542]\n",
            " [0.28865367 0.71134633]\n",
            " [0.52038782 0.47961218]\n",
            " [0.96256847 0.03743153]\n",
            " [0.9303719  0.0696281 ]\n",
            " [0.57751695 0.42248305]\n",
            " [0.8500501  0.1499499 ]\n",
            " [0.89861855 0.10138145]\n",
            " [0.51975823 0.48024177]\n",
            " [0.37132182 0.62867818]\n",
            " [0.46768254 0.53231746]\n",
            " [0.6440636  0.3559364 ]\n",
            " [0.31003428 0.68996572]]\n"
          ],
          "name": "stdout"
        }
      ]
    },
    {
      "cell_type": "code",
      "metadata": {
        "id": "WAC6j4QztasE",
        "colab_type": "code",
        "colab": {
          "base_uri": "https://localhost:8080/",
          "height": 495
        },
        "outputId": "f9448310-a451-4850-cddd-2eac02af3d6f"
      },
      "source": [
        "scores = score_model(probabilities, 0.5)\n",
        "print_metrics(y_test, scores)  \n",
        "plot_auc(y_test, probabilities)"
      ],
      "execution_count": 24,
      "outputs": [
        {
          "output_type": "stream",
          "text": [
            "                 Confusion matrix\n",
            "                 Score positive    Score negative\n",
            "Actual positive       176                36\n",
            "Actual negative        33                55\n",
            "\n",
            "Accuracy  0.77\n",
            " \n",
            "           Positive      Negative\n",
            "Num case      212            88\n",
            "Precision    0.84          0.60\n",
            "Recall       0.83          0.62\n",
            "F1           0.84          0.61\n"
          ],
          "name": "stdout"
        },
        {
          "output_type": "display_data",
          "data": {
            "image/png": "[encoded data removed]",
            "text/plain": [
              "<Figure size 432x288 with 1 Axes>"
            ]
          },
          "metadata": {
            "tags": []
          }
        }
      ]
    },
    {
      "cell_type": "code",
      "metadata": {
        "id": "RSAZKGdPtda-",
        "colab_type": "code",
        "colab": {
          "base_uri": "https://localhost:8080/",
          "height": 1188
        },
        "outputId": "e118eab6-4d15-458e-b93a-4b2a61515227"
      },
      "source": [
        "def test_threshold(probs, labels, threshold):\n",
        "    scores = score_model(probs, threshold)\n",
        "    print('')\n",
        "    print('For threshold = ' + str(threshold))\n",
        "    print_metrics(labels, scores)\n",
        "\n",
        "thresholds = [0.45, 0.40, 0.35, 0.3, 0.25]\n",
        "for t in thresholds:\n",
        "    test_threshold(probabilities, y_test, t)"
      ],
      "execution_count": 25,
      "outputs": [
        {
          "output_type": "stream",
          "text": [
            "\n",
            "For threshold = 0.45\n",
            "                 Confusion matrix\n",
            "                 Score positive    Score negative\n",
            "Actual positive       164                48\n",
            "Actual negative        30                58\n",
            "\n",
            "Accuracy  0.74\n",
            " \n",
            "           Positive      Negative\n",
            "Num case      212            88\n",
            "Precision    0.85          0.55\n",
            "Recall       0.77          0.66\n",
            "F1           0.81          0.60\n",
            "\n",
            "For threshold = 0.4\n",
            "                 Confusion matrix\n",
            "                 Score positive    Score negative\n",
            "Actual positive       151                61\n",
            "Actual negative        26                62\n",
            "\n",
            "Accuracy  0.71\n",
            " \n",
            "           Positive      Negative\n",
            "Num case      212            88\n",
            "Precision    0.85          0.50\n",
            "Recall       0.71          0.70\n",
            "F1           0.78          0.59\n",
            "\n",
            "For threshold = 0.35\n",
            "                 Confusion matrix\n",
            "                 Score positive    Score negative\n",
            "Actual positive       142                70\n",
            "Actual negative        22                66\n",
            "\n",
            "Accuracy  0.69\n",
            " \n",
            "           Positive      Negative\n",
            "Num case      212            88\n",
            "Precision    0.87          0.49\n",
            "Recall       0.67          0.75\n",
            "F1           0.76          0.59\n",
            "\n",
            "For threshold = 0.3\n",
            "                 Confusion matrix\n",
            "                 Score positive    Score negative\n",
            "Actual positive       124                88\n",
            "Actual negative        19                69\n",
            "\n",
            "Accuracy  0.64\n",
            " \n",
            "           Positive      Negative\n",
            "Num case      212            88\n",
            "Precision    0.87          0.44\n",
            "Recall       0.58          0.78\n",
            "F1           0.70          0.56\n",
            "\n",
            "For threshold = 0.25\n",
            "                 Confusion matrix\n",
            "                 Score positive    Score negative\n",
            "Actual positive       117                95\n",
            "Actual negative        17                71\n",
            "\n",
            "Accuracy  0.63\n",
            " \n",
            "           Positive      Negative\n",
            "Num case      212            88\n",
            "Precision    0.87          0.43\n",
            "Recall       0.55          0.81\n",
            "F1           0.68          0.56\n"
          ],
          "name": "stdout"
        }
      ]
    },
    {
      "cell_type": "code",
      "metadata": {
        "id": "NKjro9uStglM",
        "colab_type": "code",
        "colab": {}
      },
      "source": [
        ""
      ],
      "execution_count": 0,
      "outputs": []
    }
  ]
}