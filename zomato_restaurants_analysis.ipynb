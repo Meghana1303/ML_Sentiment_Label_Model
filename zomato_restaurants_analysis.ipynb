{
  "nbformat": 4,
  "nbformat_minor": 0,
  "metadata": {
    "colab": {
      "name": "Copy of zomato restaurants analysis.ipynb",
      "version": "0.3.2",
      "provenance": [],
      "collapsed_sections": [],
      "include_colab_link": true
    },
    "kernelspec": {
      "name": "python3",
      "display_name": "Python 3"
    }
  },
  "cells": [
    {
      "cell_type": "markdown",
      "metadata": {
        "id": "view-in-github",
        "colab_type": "text"
      },
      "source": [
        "<a href=\"https://colab.research.google.com/github/Meghana1303/ML_Sentiment_Label_Model/blob/master/zomato_restaurants_analysis.ipynb\" target=\"_parent\"><img src=\"https://colab.research.google.com/assets/colab-badge.svg\" alt=\"Open In Colab\"/></a>"
      ]
    },
    {
      "metadata": {
        "id": "dmu20VnMhd9B",
        "colab_type": "code",
        "outputId": "ff5281f7-33a1-4d65-a182-290c7b080df4",
        "colab": {
          "resources": {
            "http://localhost:8080/nbextensions/google.colab/files.js": {
              "data": "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",
              "ok": true,
              "headers": [
                [
                  "content-type",
                  "application/javascript"
                ]
              ],
              "status": 200,
              "status_text": ""
            }
          },
          "base_uri": "https://localhost:8080/",
          "height": 91
        }
      },
      "cell_type": "code",
      "source": [
        "from google.colab import files\n",
        "\n",
        "uploaded = files.upload()\n",
        "\n",
        "for fn in uploaded.keys():\n",
        "  print('User uploaded file \"{name}\" with length {length} bytes'.format(\n",
        "      name=fn, length=len(uploaded[fn])))"
      ],
      "execution_count": 0,
      "outputs": [
        {
          "output_type": "display_data",
          "data": {
            "text/html": [
              "\n",
              "     <input type=\"file\" id=\"files-b0887931-bd4c-4f63-90a6-659eac82e976\" name=\"files[]\" multiple disabled />\n",
              "     <output id=\"result-b0887931-bd4c-4f63-90a6-659eac82e976\">\n",
              "      Upload widget is only available when the cell has been executed in the\n",
              "      current browser session. Please rerun this cell to enable.\n",
              "      </output>\n",
              "      <script src=\"/nbextensions/google.colab/files.js\"></script> "
            ],
            "text/plain": [
              "<IPython.core.display.HTML object>"
            ]
          },
          "metadata": {
            "tags": []
          }
        },
        {
          "output_type": "stream",
          "text": [
            "Saving ZOMATO.csv to ZOMATO.csv\n",
            "User uploaded file \"ZOMATO.csv\" with length 2257318 bytes\n"
          ],
          "name": "stdout"
        }
      ]
    },
    {
      "metadata": {
        "id": "n-n9mpLAhinL",
        "colab_type": "code",
        "colab": {}
      },
      "cell_type": "code",
      "source": [
        "import pandas as pd\n",
        "import numpy as np\n",
        "import io\n",
        "from pandas import Series,DataFrame\n"
      ],
      "execution_count": 0,
      "outputs": []
    },
    {
      "metadata": {
        "id": "6F0tZIWShirz",
        "colab_type": "code",
        "colab": {}
      },
      "cell_type": "code",
      "source": [
        "ZOMATO_df=pd.read_csv(io.StringIO(uploaded['ZOMATO.csv'].decode('ISO-8859-1')))"
      ],
      "execution_count": 0,
      "outputs": []
    },
    {
      "metadata": {
        "id": "EYgq4MWjhiwZ",
        "colab_type": "code",
        "outputId": "e6c7dd86-4dc5-4c20-a129-a4f051cb1534",
        "colab": {
          "base_uri": "https://localhost:8080/",
          "height": 782
        }
      },
      "cell_type": "code",
      "source": [
        "ZOMATO_df.head()"
      ],
      "execution_count": 0,
      "outputs": [
        {
          "output_type": "execute_result",
          "data": {
            "text/html": [
              "<div>\n",
              "<style scoped>\n",
              "    .dataframe tbody tr th:only-of-type {\n",
              "        vertical-align: middle;\n",
              "    }\n",
              "\n",
              "    .dataframe tbody tr th {\n",
              "        vertical-align: top;\n",
              "    }\n",
              "\n",
              "    .dataframe thead th {\n",
              "        text-align: right;\n",
              "    }\n",
              "</style>\n",
              "<table border=\"1\" class=\"dataframe\">\n",
              "  <thead>\n",
              "    <tr style=\"text-align: right;\">\n",
              "      <th></th>\n",
              "      <th>Restaurant ID</th>\n",
              "      <th>Restaurant Name</th>\n",
              "      <th>Country Code</th>\n",
              "      <th>City</th>\n",
              "      <th>Address</th>\n",
              "      <th>Locality</th>\n",
              "      <th>Locality Verbose</th>\n",
              "      <th>Longitude</th>\n",
              "      <th>Latitude</th>\n",
              "      <th>Cuisines</th>\n",
              "      <th>...</th>\n",
              "      <th>Currency</th>\n",
              "      <th>Has Table booking</th>\n",
              "      <th>Has Online delivery</th>\n",
              "      <th>Is delivering now</th>\n",
              "      <th>Switch to order menu</th>\n",
              "      <th>Price range</th>\n",
              "      <th>Aggregate rating</th>\n",
              "      <th>Rating color</th>\n",
              "      <th>Rating text</th>\n",
              "      <th>Votes</th>\n",
              "    </tr>\n",
              "  </thead>\n",
              "  <tbody>\n",
              "    <tr>\n",
              "      <th>0</th>\n",
              "      <td>6317637</td>\n",
              "      <td>Le Petit Souffle</td>\n",
              "      <td>162</td>\n",
              "      <td>Makati City</td>\n",
              "      <td>Third Floor, Century City Mall, Kalayaan Avenu...</td>\n",
              "      <td>Century City Mall, Poblacion, Makati City</td>\n",
              "      <td>Century City Mall, Poblacion, Makati City, Mak...</td>\n",
              "      <td>121.027535</td>\n",
              "      <td>14.565443</td>\n",
              "      <td>French, Japanese, Desserts</td>\n",
              "      <td>...</td>\n",
              "      <td>Botswana Pula(P)</td>\n",
              "      <td>Yes</td>\n",
              "      <td>No</td>\n",
              "      <td>No</td>\n",
              "      <td>No</td>\n",
              "      <td>3</td>\n",
              "      <td>4.8</td>\n",
              "      <td>Dark Green</td>\n",
              "      <td>Excellent</td>\n",
              "      <td>314</td>\n",
              "    </tr>\n",
              "    <tr>\n",
              "      <th>1</th>\n",
              "      <td>6304287</td>\n",
              "      <td>Izakaya Kikufuji</td>\n",
              "      <td>162</td>\n",
              "      <td>Makati City</td>\n",
              "      <td>Little Tokyo, 2277 Chino Roces Avenue, Legaspi...</td>\n",
              "      <td>Little Tokyo, Legaspi Village, Makati City</td>\n",
              "      <td>Little Tokyo, Legaspi Village, Makati City, Ma...</td>\n",
              "      <td>121.014101</td>\n",
              "      <td>14.553708</td>\n",
              "      <td>Japanese</td>\n",
              "      <td>...</td>\n",
              "      <td>Botswana Pula(P)</td>\n",
              "      <td>Yes</td>\n",
              "      <td>No</td>\n",
              "      <td>No</td>\n",
              "      <td>No</td>\n",
              "      <td>3</td>\n",
              "      <td>4.5</td>\n",
              "      <td>Dark Green</td>\n",
              "      <td>Excellent</td>\n",
              "      <td>591</td>\n",
              "    </tr>\n",
              "    <tr>\n",
              "      <th>2</th>\n",
              "      <td>6300002</td>\n",
              "      <td>Heat - Edsa Shangri-La</td>\n",
              "      <td>162</td>\n",
              "      <td>Mandaluyong City</td>\n",
              "      <td>Edsa Shangri-La, 1 Garden Way, Ortigas, Mandal...</td>\n",
              "      <td>Edsa Shangri-La, Ortigas, Mandaluyong City</td>\n",
              "      <td>Edsa Shangri-La, Ortigas, Mandaluyong City, Ma...</td>\n",
              "      <td>121.056831</td>\n",
              "      <td>14.581404</td>\n",
              "      <td>Seafood, Asian, Filipino, Indian</td>\n",
              "      <td>...</td>\n",
              "      <td>Botswana Pula(P)</td>\n",
              "      <td>Yes</td>\n",
              "      <td>No</td>\n",
              "      <td>No</td>\n",
              "      <td>No</td>\n",
              "      <td>4</td>\n",
              "      <td>4.4</td>\n",
              "      <td>Green</td>\n",
              "      <td>Very Good</td>\n",
              "      <td>270</td>\n",
              "    </tr>\n",
              "    <tr>\n",
              "      <th>3</th>\n",
              "      <td>6318506</td>\n",
              "      <td>Ooma</td>\n",
              "      <td>162</td>\n",
              "      <td>Mandaluyong City</td>\n",
              "      <td>Third Floor, Mega Fashion Hall, SM Megamall, O...</td>\n",
              "      <td>SM Megamall, Ortigas, Mandaluyong City</td>\n",
              "      <td>SM Megamall, Ortigas, Mandaluyong City, Mandal...</td>\n",
              "      <td>121.056475</td>\n",
              "      <td>14.585318</td>\n",
              "      <td>Japanese, Sushi</td>\n",
              "      <td>...</td>\n",
              "      <td>Botswana Pula(P)</td>\n",
              "      <td>No</td>\n",
              "      <td>No</td>\n",
              "      <td>No</td>\n",
              "      <td>No</td>\n",
              "      <td>4</td>\n",
              "      <td>4.9</td>\n",
              "      <td>Dark Green</td>\n",
              "      <td>Excellent</td>\n",
              "      <td>365</td>\n",
              "    </tr>\n",
              "    <tr>\n",
              "      <th>4</th>\n",
              "      <td>6314302</td>\n",
              "      <td>Sambo Kojin</td>\n",
              "      <td>162</td>\n",
              "      <td>Mandaluyong City</td>\n",
              "      <td>Third Floor, Mega Atrium, SM Megamall, Ortigas...</td>\n",
              "      <td>SM Megamall, Ortigas, Mandaluyong City</td>\n",
              "      <td>SM Megamall, Ortigas, Mandaluyong City, Mandal...</td>\n",
              "      <td>121.057508</td>\n",
              "      <td>14.584450</td>\n",
              "      <td>Japanese, Korean</td>\n",
              "      <td>...</td>\n",
              "      <td>Botswana Pula(P)</td>\n",
              "      <td>Yes</td>\n",
              "      <td>No</td>\n",
              "      <td>No</td>\n",
              "      <td>No</td>\n",
              "      <td>4</td>\n",
              "      <td>4.8</td>\n",
              "      <td>Dark Green</td>\n",
              "      <td>Excellent</td>\n",
              "      <td>229</td>\n",
              "    </tr>\n",
              "  </tbody>\n",
              "</table>\n",
              "<p>5 rows × 21 columns</p>\n",
              "</div>"
            ],
            "text/plain": [
              "   Restaurant ID         Restaurant Name  Country Code              City  \\\n",
              "0        6317637        Le Petit Souffle           162       Makati City   \n",
              "1        6304287        Izakaya Kikufuji           162       Makati City   \n",
              "2        6300002  Heat - Edsa Shangri-La           162  Mandaluyong City   \n",
              "3        6318506                    Ooma           162  Mandaluyong City   \n",
              "4        6314302             Sambo Kojin           162  Mandaluyong City   \n",
              "\n",
              "                                             Address  \\\n",
              "0  Third Floor, Century City Mall, Kalayaan Avenu...   \n",
              "1  Little Tokyo, 2277 Chino Roces Avenue, Legaspi...   \n",
              "2  Edsa Shangri-La, 1 Garden Way, Ortigas, Mandal...   \n",
              "3  Third Floor, Mega Fashion Hall, SM Megamall, O...   \n",
              "4  Third Floor, Mega Atrium, SM Megamall, Ortigas...   \n",
              "\n",
              "                                     Locality  \\\n",
              "0   Century City Mall, Poblacion, Makati City   \n",
              "1  Little Tokyo, Legaspi Village, Makati City   \n",
              "2  Edsa Shangri-La, Ortigas, Mandaluyong City   \n",
              "3      SM Megamall, Ortigas, Mandaluyong City   \n",
              "4      SM Megamall, Ortigas, Mandaluyong City   \n",
              "\n",
              "                                    Locality Verbose   Longitude   Latitude  \\\n",
              "0  Century City Mall, Poblacion, Makati City, Mak...  121.027535  14.565443   \n",
              "1  Little Tokyo, Legaspi Village, Makati City, Ma...  121.014101  14.553708   \n",
              "2  Edsa Shangri-La, Ortigas, Mandaluyong City, Ma...  121.056831  14.581404   \n",
              "3  SM Megamall, Ortigas, Mandaluyong City, Mandal...  121.056475  14.585318   \n",
              "4  SM Megamall, Ortigas, Mandaluyong City, Mandal...  121.057508  14.584450   \n",
              "\n",
              "                           Cuisines  ...          Currency Has Table booking  \\\n",
              "0        French, Japanese, Desserts  ...  Botswana Pula(P)               Yes   \n",
              "1                          Japanese  ...  Botswana Pula(P)               Yes   \n",
              "2  Seafood, Asian, Filipino, Indian  ...  Botswana Pula(P)               Yes   \n",
              "3                   Japanese, Sushi  ...  Botswana Pula(P)                No   \n",
              "4                  Japanese, Korean  ...  Botswana Pula(P)               Yes   \n",
              "\n",
              "  Has Online delivery Is delivering now Switch to order menu Price range  \\\n",
              "0                  No                No                   No           3   \n",
              "1                  No                No                   No           3   \n",
              "2                  No                No                   No           4   \n",
              "3                  No                No                   No           4   \n",
              "4                  No                No                   No           4   \n",
              "\n",
              "   Aggregate rating  Rating color Rating text Votes  \n",
              "0               4.8    Dark Green   Excellent   314  \n",
              "1               4.5    Dark Green   Excellent   591  \n",
              "2               4.4         Green   Very Good   270  \n",
              "3               4.9    Dark Green   Excellent   365  \n",
              "4               4.8    Dark Green   Excellent   229  \n",
              "\n",
              "[5 rows x 21 columns]"
            ]
          },
          "metadata": {
            "tags": []
          },
          "execution_count": 18
        }
      ]
    },
    {
      "metadata": {
        "id": "U0qdXlF2hi1T",
        "colab_type": "code",
        "colab": {}
      },
      "cell_type": "code",
      "source": [
        "#restaurants having online delivery option\n",
        "import numpy as np\n",
        "import matplotlib.pyplot as plt\n",
        "import seaborn as sns\n",
        "%matplotlib inline"
      ],
      "execution_count": 0,
      "outputs": []
    },
    {
      "metadata": {
        "id": "lcfsDZywhivy",
        "colab_type": "code",
        "outputId": "9cf899a7-f976-4969-e32b-ea04b018bd29",
        "colab": {
          "base_uri": "https://localhost:8080/",
          "height": 439
        }
      },
      "cell_type": "code",
      "source": [
        "\n",
        "sns.factorplot('Has Online delivery',data=ZOMATO_df,kind='count') "
      ],
      "execution_count": 0,
      "outputs": [
        {
          "output_type": "stream",
          "text": [
            "/usr/local/lib/python3.6/dist-packages/seaborn/categorical.py:3666: UserWarning: The `factorplot` function has been renamed to `catplot`. The original name will be removed in a future release. Please update your code. Note that the default `kind` in `factorplot` (`'point'`) has changed `'strip'` in `catplot`.\n",
            "  warnings.warn(msg)\n"
          ],
          "name": "stderr"
        },
        {
          "output_type": "execute_result",
          "data": {
            "text/plain": [
              "<seaborn.axisgrid.FacetGrid at 0x7f6888155a58>"
            ]
          },
          "metadata": {
            "tags": []
          },
          "execution_count": 21
        },
        {
          "output_type": "display_data",
          "data": {
            "image/png": "[encoded data removed]",
            "text/plain": [
              "<Figure size 360x360 with 1 Axes>"
            ]
          },
          "metadata": {
            "tags": []
          }
        }
      ]
    },
    {
      "metadata": {
        "id": "sXEscaiKhirO",
        "colab_type": "code",
        "outputId": "dc38d525-0fac-4e98-a879-64357ed8e38e",
        "colab": {
          "base_uri": "https://localhost:8080/",
          "height": 439
        }
      },
      "cell_type": "code",
      "source": [
        "sns.factorplot('Is delivering now',data=ZOMATO_df,kind='count') "
      ],
      "execution_count": 0,
      "outputs": [
        {
          "output_type": "stream",
          "text": [
            "/usr/local/lib/python3.6/dist-packages/seaborn/categorical.py:3666: UserWarning: The `factorplot` function has been renamed to `catplot`. The original name will be removed in a future release. Please update your code. Note that the default `kind` in `factorplot` (`'point'`) has changed `'strip'` in `catplot`.\n",
            "  warnings.warn(msg)\n"
          ],
          "name": "stderr"
        },
        {
          "output_type": "execute_result",
          "data": {
            "text/plain": [
              "<seaborn.axisgrid.FacetGrid at 0x7f6888155ac8>"
            ]
          },
          "metadata": {
            "tags": []
          },
          "execution_count": 22
        },
        {
          "output_type": "display_data",
          "data": {
            "image/png": "[encoded data removed]",
            "text/plain": [
              "<Figure size 360x360 with 1 Axes>"
            ]
          },
          "metadata": {
            "tags": []
          }
        }
      ]
    },
    {
      "metadata": {
        "id": "K1mT2bGZhimf",
        "colab_type": "code",
        "outputId": "0b3c0646-eb73-41fb-9867-7227b7a35405",
        "colab": {
          "base_uri": "https://localhost:8080/",
          "height": 439
        }
      },
      "cell_type": "code",
      "source": [
        "sns.factorplot('Aggregate rating',data=ZOMATO_df,kind='count') "
      ],
      "execution_count": 0,
      "outputs": [
        {
          "output_type": "stream",
          "text": [
            "/usr/local/lib/python3.6/dist-packages/seaborn/categorical.py:3666: UserWarning: The `factorplot` function has been renamed to `catplot`. The original name will be removed in a future release. Please update your code. Note that the default `kind` in `factorplot` (`'point'`) has changed `'strip'` in `catplot`.\n",
            "  warnings.warn(msg)\n"
          ],
          "name": "stderr"
        },
        {
          "output_type": "execute_result",
          "data": {
            "text/plain": [
              "<seaborn.axisgrid.FacetGrid at 0x7f687749de10>"
            ]
          },
          "metadata": {
            "tags": []
          },
          "execution_count": 26
        },
        {
          "output_type": "display_data",
          "data": {
            "image/png": "[encoded data removed]",
            "text/plain": [
              "<Figure size 360x360 with 1 Axes>"
            ]
          },
          "metadata": {
            "tags": []
          }
        }
      ]
    },
    {
      "metadata": {
        "id": "CNs0yBn0szJi",
        "colab_type": "code",
        "outputId": "ea6a02ad-aa6d-4673-b7e1-6b91865d8a72",
        "colab": {
          "base_uri": "https://localhost:8080/",
          "height": 439
        }
      },
      "cell_type": "code",
      "source": [
        "sns.factorplot('Has Table booking',data=ZOMATO_df,kind='count') "
      ],
      "execution_count": 0,
      "outputs": [
        {
          "output_type": "stream",
          "text": [
            "/usr/local/lib/python3.6/dist-packages/seaborn/categorical.py:3666: UserWarning: The `factorplot` function has been renamed to `catplot`. The original name will be removed in a future release. Please update your code. Note that the default `kind` in `factorplot` (`'point'`) has changed `'strip'` in `catplot`.\n",
            "  warnings.warn(msg)\n"
          ],
          "name": "stderr"
        },
        {
          "output_type": "execute_result",
          "data": {
            "text/plain": [
              "<seaborn.axisgrid.FacetGrid at 0x7f68789f95f8>"
            ]
          },
          "metadata": {
            "tags": []
          },
          "execution_count": 27
        },
        {
          "output_type": "display_data",
          "data": {
            "image/png": "[encoded data removed]",
            "text/plain": [
              "<Figure size 360x360 with 1 Axes>"
            ]
          },
          "metadata": {
            "tags": []
          }
        }
      ]
    },
    {
      "metadata": {
        "id": "w2q8jzTzszNO",
        "colab_type": "code",
        "outputId": "e335af73-5d5c-4ed6-95db-e03baa78a0c1",
        "colab": {
          "base_uri": "https://localhost:8080/",
          "height": 614
        }
      },
      "cell_type": "code",
      "source": [
        "sns.factorplot('Has Online delivery',data=ZOMATO_df,hue='Aggregate rating',kind='count')\n"
      ],
      "execution_count": 0,
      "outputs": [
        {
          "output_type": "stream",
          "text": [
            "/usr/local/lib/python3.6/dist-packages/seaborn/categorical.py:3666: UserWarning: The `factorplot` function has been renamed to `catplot`. The original name will be removed in a future release. Please update your code. Note that the default `kind` in `factorplot` (`'point'`) has changed `'strip'` in `catplot`.\n",
            "  warnings.warn(msg)\n"
          ],
          "name": "stderr"
        },
        {
          "output_type": "execute_result",
          "data": {
            "text/plain": [
              "<seaborn.axisgrid.FacetGrid at 0x7f6878b8a5c0>"
            ]
          },
          "metadata": {
            "tags": []
          },
          "execution_count": 28
        },
        {
          "output_type": "display_data",
          "data": {
            "image/png": "[encoded data removed]",
            "text/plain": [
              "<Figure size 453.25x360 with 1 Axes>"
            ]
          },
          "metadata": {
            "tags": []
          }
        }
      ]
    },
    {
      "metadata": {
        "id": "NBVwoSG4vYMl",
        "colab_type": "code",
        "outputId": "1e87f151-725d-4c0f-b143-6f61d64e8bb7",
        "colab": {
          "base_uri": "https://localhost:8080/",
          "height": 439
        }
      },
      "cell_type": "code",
      "source": [
        "sns.factorplot('Has Online delivery',data=ZOMATO_df,hue='Rating text',kind='count')\n"
      ],
      "execution_count": 0,
      "outputs": [
        {
          "output_type": "stream",
          "text": [
            "/usr/local/lib/python3.6/dist-packages/seaborn/categorical.py:3666: UserWarning: The `factorplot` function has been renamed to `catplot`. The original name will be removed in a future release. Please update your code. Note that the default `kind` in `factorplot` (`'point'`) has changed `'strip'` in `catplot`.\n",
            "  warnings.warn(msg)\n"
          ],
          "name": "stderr"
        },
        {
          "output_type": "execute_result",
          "data": {
            "text/plain": [
              "<seaborn.axisgrid.FacetGrid at 0x7f687760d8d0>"
            ]
          },
          "metadata": {
            "tags": []
          },
          "execution_count": 29
        },
        {
          "output_type": "display_data",
          "data": {
            "image/png": "[encoded data removed]",
            "text/plain": [
              "<Figure size 448.25x360 with 1 Axes>"
            ]
          },
          "metadata": {
            "tags": []
          }
        }
      ]
    },
    {
      "metadata": {
        "id": "_rq5ypOFvYRI",
        "colab_type": "code",
        "outputId": "7f6ee927-8f9c-4030-8a2d-dd583e0d01c8",
        "colab": {
          "base_uri": "https://localhost:8080/",
          "height": 439
        }
      },
      "cell_type": "code",
      "source": [
        "sns.factorplot('Price range',data=ZOMATO_df,hue='Rating text',kind='count')\n"
      ],
      "execution_count": 0,
      "outputs": [
        {
          "output_type": "stream",
          "text": [
            "/usr/local/lib/python3.6/dist-packages/seaborn/categorical.py:3666: UserWarning: The `factorplot` function has been renamed to `catplot`. The original name will be removed in a future release. Please update your code. Note that the default `kind` in `factorplot` (`'point'`) has changed `'strip'` in `catplot`.\n",
            "  warnings.warn(msg)\n"
          ],
          "name": "stderr"
        },
        {
          "output_type": "execute_result",
          "data": {
            "text/plain": [
              "<seaborn.axisgrid.FacetGrid at 0x7f6877a24668>"
            ]
          },
          "metadata": {
            "tags": []
          },
          "execution_count": 30
        },
        {
          "output_type": "display_data",
          "data": {
            "image/png": "[encoded data removed]",
            "text/plain": [
              "<Figure size 448.25x360 with 1 Axes>"
            ]
          },
          "metadata": {
            "tags": []
          }
        }
      ]
    },
    {
      "metadata": {
        "id": "io5IzqfpwHqb",
        "colab_type": "code",
        "outputId": "ccf7666f-305f-4eaf-fc29-a2aa69140e41",
        "colab": {
          "base_uri": "https://localhost:8080/",
          "height": 439
        }
      },
      "cell_type": "code",
      "source": [
        "sns.factorplot('Rating text',data=ZOMATO_df,hue='Price range',kind='count')\n"
      ],
      "execution_count": 0,
      "outputs": [
        {
          "output_type": "stream",
          "text": [
            "/usr/local/lib/python3.6/dist-packages/seaborn/categorical.py:3666: UserWarning: The `factorplot` function has been renamed to `catplot`. The original name will be removed in a future release. Please update your code. Note that the default `kind` in `factorplot` (`'point'`) has changed `'strip'` in `catplot`.\n",
            "  warnings.warn(msg)\n"
          ],
          "name": "stderr"
        },
        {
          "output_type": "execute_result",
          "data": {
            "text/plain": [
              "<seaborn.axisgrid.FacetGrid at 0x7f687731b6d8>"
            ]
          },
          "metadata": {
            "tags": []
          },
          "execution_count": 31
        },
        {
          "output_type": "display_data",
          "data": {
            "image/png": "[encoded data removed]",
            "text/plain": [
              "<Figure size 424.875x360 with 1 Axes>"
            ]
          },
          "metadata": {
            "tags": []
          }
        }
      ]
    },
    {
      "metadata": {
        "id": "Q8apxSfxzWC0",
        "colab_type": "code",
        "colab": {}
      },
      "cell_type": "code",
      "source": [
        "ZOMATO_df.sort_values('Price range',ascending=False,inplace=True)"
      ],
      "execution_count": 0,
      "outputs": []
    },
    {
      "metadata": {
        "id": "llMpBCK9zWLz",
        "colab_type": "code",
        "colab": {}
      },
      "cell_type": "code",
      "source": [
        "ZOMATO_df=ZOMATO_df.groupby('Rating text')#.apply(ranker)"
      ],
      "execution_count": 0,
      "outputs": []
    },
    {
      "metadata": {
        "id": "0ngcRBMgzWOz",
        "colab_type": "code",
        "outputId": "eb572d74-00cf-4373-fb00-11417b1ad058",
        "colab": {
          "base_uri": "https://localhost:8080/",
          "height": 2933
        }
      },
      "cell_type": "code",
      "source": [
        "ZOMATO_df.head()"
      ],
      "execution_count": 0,
      "outputs": [
        {
          "output_type": "execute_result",
          "data": {
            "text/html": [
              "<div>\n",
              "<style scoped>\n",
              "    .dataframe tbody tr th:only-of-type {\n",
              "        vertical-align: middle;\n",
              "    }\n",
              "\n",
              "    .dataframe tbody tr th {\n",
              "        vertical-align: top;\n",
              "    }\n",
              "\n",
              "    .dataframe thead th {\n",
              "        text-align: right;\n",
              "    }\n",
              "</style>\n",
              "<table border=\"1\" class=\"dataframe\">\n",
              "  <thead>\n",
              "    <tr style=\"text-align: right;\">\n",
              "      <th></th>\n",
              "      <th>Restaurant ID</th>\n",
              "      <th>Restaurant Name</th>\n",
              "      <th>Country Code</th>\n",
              "      <th>City</th>\n",
              "      <th>Address</th>\n",
              "      <th>Locality</th>\n",
              "      <th>Locality Verbose</th>\n",
              "      <th>Longitude</th>\n",
              "      <th>Latitude</th>\n",
              "      <th>Cuisines</th>\n",
              "      <th>...</th>\n",
              "      <th>Currency</th>\n",
              "      <th>Has Table booking</th>\n",
              "      <th>Has Online delivery</th>\n",
              "      <th>Is delivering now</th>\n",
              "      <th>Switch to order menu</th>\n",
              "      <th>Price range</th>\n",
              "      <th>Aggregate rating</th>\n",
              "      <th>Rating color</th>\n",
              "      <th>Rating text</th>\n",
              "      <th>Votes</th>\n",
              "    </tr>\n",
              "  </thead>\n",
              "  <tbody>\n",
              "    <tr>\n",
              "      <th>9151</th>\n",
              "      <td>3700019</td>\n",
              "      <td>Rendezvous Cafe Restaurant</td>\n",
              "      <td>1</td>\n",
              "      <td>Puducherry</td>\n",
              "      <td>30, Rue Suffren, White Town, Puducherry</td>\n",
              "      <td>White Town</td>\n",
              "      <td>White Town, Puducherry</td>\n",
              "      <td>79.832581</td>\n",
              "      <td>11.928592</td>\n",
              "      <td>Goan, Mangalorean, Continental, French</td>\n",
              "      <td>...</td>\n",
              "      <td>Indian Rupees(Rs.)</td>\n",
              "      <td>No</td>\n",
              "      <td>No</td>\n",
              "      <td>No</td>\n",
              "      <td>No</td>\n",
              "      <td>4</td>\n",
              "      <td>3.5</td>\n",
              "      <td>Yellow</td>\n",
              "      <td>Good</td>\n",
              "      <td>225</td>\n",
              "    </tr>\n",
              "    <tr>\n",
              "      <th>472</th>\n",
              "      <td>18482938</td>\n",
              "      <td>Super Loco</td>\n",
              "      <td>184</td>\n",
              "      <td>Singapore</td>\n",
              "      <td>The Quayside\\r60 Roberston Quay #01-13 238252</td>\n",
              "      <td>Robertson Quay, Singapore River</td>\n",
              "      <td>Robertson Quay, Singapore River, Singapore</td>\n",
              "      <td>103.839165</td>\n",
              "      <td>1.290084</td>\n",
              "      <td>American, Mexican</td>\n",
              "      <td>...</td>\n",
              "      <td>Dollar($)</td>\n",
              "      <td>No</td>\n",
              "      <td>No</td>\n",
              "      <td>No</td>\n",
              "      <td>No</td>\n",
              "      <td>4</td>\n",
              "      <td>3.2</td>\n",
              "      <td>Orange</td>\n",
              "      <td>Average</td>\n",
              "      <td>30</td>\n",
              "    </tr>\n",
              "    <tr>\n",
              "      <th>461</th>\n",
              "      <td>18483085</td>\n",
              "      <td>Rhubarb Le Restaurant</td>\n",
              "      <td>184</td>\n",
              "      <td>Singapore</td>\n",
              "      <td>3 Duxton Hill, Duxton 089589</td>\n",
              "      <td>Duxton Hill, Outram</td>\n",
              "      <td>Duxton Hill, Outram, Singapore</td>\n",
              "      <td>103.843022</td>\n",
              "      <td>1.279444</td>\n",
              "      <td>French</td>\n",
              "      <td>...</td>\n",
              "      <td>Dollar($)</td>\n",
              "      <td>No</td>\n",
              "      <td>No</td>\n",
              "      <td>No</td>\n",
              "      <td>No</td>\n",
              "      <td>4</td>\n",
              "      <td>3.9</td>\n",
              "      <td>Yellow</td>\n",
              "      <td>Good</td>\n",
              "      <td>33</td>\n",
              "    </tr>\n",
              "    <tr>\n",
              "      <th>463</th>\n",
              "      <td>18483714</td>\n",
              "      <td>Fratini La Trattoria</td>\n",
              "      <td>184</td>\n",
              "      <td>Singapore</td>\n",
              "      <td>10 Greenwood Avenue, Hillcrest Park 289201</td>\n",
              "      <td>Hillcrest, Bukit Timah</td>\n",
              "      <td>Hillcrest, Bukit Timah, Singapore</td>\n",
              "      <td>103.807081</td>\n",
              "      <td>1.331128</td>\n",
              "      <td>Italian</td>\n",
              "      <td>...</td>\n",
              "      <td>Dollar($)</td>\n",
              "      <td>No</td>\n",
              "      <td>No</td>\n",
              "      <td>No</td>\n",
              "      <td>No</td>\n",
              "      <td>4</td>\n",
              "      <td>4.1</td>\n",
              "      <td>Green</td>\n",
              "      <td>Very Good</td>\n",
              "      <td>35</td>\n",
              "    </tr>\n",
              "    <tr>\n",
              "      <th>7427</th>\n",
              "      <td>3403</td>\n",
              "      <td>Basil &amp; Thyme</td>\n",
              "      <td>1</td>\n",
              "      <td>New Delhi</td>\n",
              "      <td>28, Sunder Nagar Market, Sunder Nagar, New Delhi</td>\n",
              "      <td>Sunder Nagar</td>\n",
              "      <td>Sunder Nagar, New Delhi</td>\n",
              "      <td>77.241099</td>\n",
              "      <td>28.601476</td>\n",
              "      <td>Continental, European</td>\n",
              "      <td>...</td>\n",
              "      <td>Indian Rupees(Rs.)</td>\n",
              "      <td>Yes</td>\n",
              "      <td>No</td>\n",
              "      <td>No</td>\n",
              "      <td>No</td>\n",
              "      <td>4</td>\n",
              "      <td>3.6</td>\n",
              "      <td>Yellow</td>\n",
              "      <td>Good</td>\n",
              "      <td>127</td>\n",
              "    </tr>\n",
              "    <tr>\n",
              "      <th>465</th>\n",
              "      <td>18479690</td>\n",
              "      <td>The Refinery Singapore</td>\n",
              "      <td>184</td>\n",
              "      <td>Singapore</td>\n",
              "      <td>115 King George Avenue, #01-02 Ann Chuan Indus...</td>\n",
              "      <td>Lavender, Kallang</td>\n",
              "      <td>Lavender, Kallang, Singapore</td>\n",
              "      <td>103.862119</td>\n",
              "      <td>1.310668</td>\n",
              "      <td>American, Japanese, Singaporean</td>\n",
              "      <td>...</td>\n",
              "      <td>Dollar($)</td>\n",
              "      <td>No</td>\n",
              "      <td>No</td>\n",
              "      <td>No</td>\n",
              "      <td>No</td>\n",
              "      <td>4</td>\n",
              "      <td>3.2</td>\n",
              "      <td>Orange</td>\n",
              "      <td>Average</td>\n",
              "      <td>30</td>\n",
              "    </tr>\n",
              "    <tr>\n",
              "      <th>468</th>\n",
              "      <td>18484464</td>\n",
              "      <td>Colony</td>\n",
              "      <td>184</td>\n",
              "      <td>Singapore</td>\n",
              "      <td>7 Raffles Avenue, Ritz-carlton Millenia Singap...</td>\n",
              "      <td>Marina Centre, Downtown Core</td>\n",
              "      <td>Marina Centre, Downtown Core, Singapore</td>\n",
              "      <td>103.859955</td>\n",
              "      <td>1.290581</td>\n",
              "      <td>Asian, Continental, Seafood</td>\n",
              "      <td>...</td>\n",
              "      <td>Dollar($)</td>\n",
              "      <td>No</td>\n",
              "      <td>No</td>\n",
              "      <td>No</td>\n",
              "      <td>No</td>\n",
              "      <td>4</td>\n",
              "      <td>3.8</td>\n",
              "      <td>Yellow</td>\n",
              "      <td>Good</td>\n",
              "      <td>30</td>\n",
              "    </tr>\n",
              "    <tr>\n",
              "      <th>469</th>\n",
              "      <td>18483051</td>\n",
              "      <td>Summer Pavilion</td>\n",
              "      <td>184</td>\n",
              "      <td>Singapore</td>\n",
              "      <td>The Ritz-Carlton, 7 Raffles Avenue,  Millenia ...</td>\n",
              "      <td>Marina Centre, Downtown Core</td>\n",
              "      <td>Marina Centre, Downtown Core, Singapore</td>\n",
              "      <td>103.860177</td>\n",
              "      <td>1.290801</td>\n",
              "      <td>Chinese, Seafood, Cantonese, Dim Sum</td>\n",
              "      <td>...</td>\n",
              "      <td>Dollar($)</td>\n",
              "      <td>No</td>\n",
              "      <td>No</td>\n",
              "      <td>No</td>\n",
              "      <td>No</td>\n",
              "      <td>4</td>\n",
              "      <td>3.9</td>\n",
              "      <td>Yellow</td>\n",
              "      <td>Good</td>\n",
              "      <td>34</td>\n",
              "    </tr>\n",
              "    <tr>\n",
              "      <th>470</th>\n",
              "      <td>18482983</td>\n",
              "      <td>The Lokal</td>\n",
              "      <td>184</td>\n",
              "      <td>Singapore</td>\n",
              "      <td>136 Neil Road 088865</td>\n",
              "      <td>Neil Road, Outram</td>\n",
              "      <td>Neil Road, Outram, Singapore</td>\n",
              "      <td>103.840921</td>\n",
              "      <td>1.278373</td>\n",
              "      <td>Singaporean, Australian, German</td>\n",
              "      <td>...</td>\n",
              "      <td>Dollar($)</td>\n",
              "      <td>No</td>\n",
              "      <td>No</td>\n",
              "      <td>No</td>\n",
              "      <td>No</td>\n",
              "      <td>4</td>\n",
              "      <td>3.1</td>\n",
              "      <td>Orange</td>\n",
              "      <td>Average</td>\n",
              "      <td>33</td>\n",
              "    </tr>\n",
              "    <tr>\n",
              "      <th>471</th>\n",
              "      <td>18479742</td>\n",
              "      <td>I Am</td>\n",
              "      <td>184</td>\n",
              "      <td>Singapore</td>\n",
              "      <td>674 North Bridge Road, #01-01 Haji Lane 188804</td>\n",
              "      <td>North Bridge Road, Rochor</td>\n",
              "      <td>North Bridge Road, Rochor, Singapore</td>\n",
              "      <td>103.858430</td>\n",
              "      <td>1.301707</td>\n",
              "      <td>Western, Fusion, Fast Food</td>\n",
              "      <td>...</td>\n",
              "      <td>Dollar($)</td>\n",
              "      <td>No</td>\n",
              "      <td>No</td>\n",
              "      <td>No</td>\n",
              "      <td>No</td>\n",
              "      <td>4</td>\n",
              "      <td>3.2</td>\n",
              "      <td>Orange</td>\n",
              "      <td>Average</td>\n",
              "      <td>32</td>\n",
              "    </tr>\n",
              "    <tr>\n",
              "      <th>475</th>\n",
              "      <td>18483252</td>\n",
              "      <td>Artichoke Cafe</td>\n",
              "      <td>184</td>\n",
              "      <td>Singapore</td>\n",
              "      <td>161 Middle Road, Sculpture Square 188978</td>\n",
              "      <td>Victoria, Rochor</td>\n",
              "      <td>Victoria, Rochor, Singapore</td>\n",
              "      <td>103.851994</td>\n",
              "      <td>1.299708</td>\n",
              "      <td>Cafe, Spanish, Turkish, Greek</td>\n",
              "      <td>...</td>\n",
              "      <td>Dollar($)</td>\n",
              "      <td>No</td>\n",
              "      <td>No</td>\n",
              "      <td>No</td>\n",
              "      <td>No</td>\n",
              "      <td>4</td>\n",
              "      <td>3.2</td>\n",
              "      <td>Orange</td>\n",
              "      <td>Average</td>\n",
              "      <td>33</td>\n",
              "    </tr>\n",
              "    <tr>\n",
              "      <th>432</th>\n",
              "      <td>17141990</td>\n",
              "      <td>Duke's Waikiki</td>\n",
              "      <td>216</td>\n",
              "      <td>Rest of Hawaii</td>\n",
              "      <td>2335 Kalakaua Ave, Honolulu, HI 96815</td>\n",
              "      <td>Waikiki</td>\n",
              "      <td>Waikiki, Rest of Hawaii</td>\n",
              "      <td>-157.827196</td>\n",
              "      <td>21.277583</td>\n",
              "      <td>Hawaiian, Seafood, Steak</td>\n",
              "      <td>...</td>\n",
              "      <td>Dollar($)</td>\n",
              "      <td>No</td>\n",
              "      <td>No</td>\n",
              "      <td>No</td>\n",
              "      <td>No</td>\n",
              "      <td>4</td>\n",
              "      <td>4.4</td>\n",
              "      <td>Green</td>\n",
              "      <td>Very Good</td>\n",
              "      <td>1492</td>\n",
              "    </tr>\n",
              "    <tr>\n",
              "      <th>3102</th>\n",
              "      <td>310123</td>\n",
              "      <td>Fuji Japanese Restaurant</td>\n",
              "      <td>1</td>\n",
              "      <td>New Delhi</td>\n",
              "      <td>M-41/2, Speedbird House, Middle Circle, Connau...</td>\n",
              "      <td>Connaught Place</td>\n",
              "      <td>Connaught Place, New Delhi</td>\n",
              "      <td>77.221930</td>\n",
              "      <td>28.632984</td>\n",
              "      <td>Japanese</td>\n",
              "      <td>...</td>\n",
              "      <td>Indian Rupees(Rs.)</td>\n",
              "      <td>Yes</td>\n",
              "      <td>Yes</td>\n",
              "      <td>No</td>\n",
              "      <td>No</td>\n",
              "      <td>4</td>\n",
              "      <td>4.0</td>\n",
              "      <td>Green</td>\n",
              "      <td>Very Good</td>\n",
              "      <td>312</td>\n",
              "    </tr>\n",
              "    <tr>\n",
              "      <th>3101</th>\n",
              "      <td>18233593</td>\n",
              "      <td>Farzi Cafe</td>\n",
              "      <td>1</td>\n",
              "      <td>New Delhi</td>\n",
              "      <td>38/39, Level 1, Block E , Inner Circle, Connau...</td>\n",
              "      <td>Connaught Place</td>\n",
              "      <td>Connaught Place, New Delhi</td>\n",
              "      <td>77.221430</td>\n",
              "      <td>28.632398</td>\n",
              "      <td>Modern Indian</td>\n",
              "      <td>...</td>\n",
              "      <td>Indian Rupees(Rs.)</td>\n",
              "      <td>No</td>\n",
              "      <td>No</td>\n",
              "      <td>No</td>\n",
              "      <td>No</td>\n",
              "      <td>4</td>\n",
              "      <td>4.4</td>\n",
              "      <td>Green</td>\n",
              "      <td>Very Good</td>\n",
              "      <td>1942</td>\n",
              "    </tr>\n",
              "    <tr>\n",
              "      <th>3098</th>\n",
              "      <td>306913</td>\n",
              "      <td>Caffe 9</td>\n",
              "      <td>1</td>\n",
              "      <td>New Delhi</td>\n",
              "      <td>P-15, Connaught Place, New Delhi</td>\n",
              "      <td>Connaught Place</td>\n",
              "      <td>Connaught Place, New Delhi</td>\n",
              "      <td>77.216220</td>\n",
              "      <td>28.632439</td>\n",
              "      <td>North Indian, Chinese, Italian, American, Midd...</td>\n",
              "      <td>...</td>\n",
              "      <td>Indian Rupees(Rs.)</td>\n",
              "      <td>Yes</td>\n",
              "      <td>Yes</td>\n",
              "      <td>No</td>\n",
              "      <td>No</td>\n",
              "      <td>4</td>\n",
              "      <td>4.2</td>\n",
              "      <td>Green</td>\n",
              "      <td>Very Good</td>\n",
              "      <td>961</td>\n",
              "    </tr>\n",
              "    <tr>\n",
              "      <th>9262</th>\n",
              "      <td>2800856</td>\n",
              "      <td>Barbeque Nation</td>\n",
              "      <td>1</td>\n",
              "      <td>Vizag</td>\n",
              "      <td>1st Floor, ATR Towers, Harbour Park Road,  Pan...</td>\n",
              "      <td>Kirlampudi Layout</td>\n",
              "      <td>Kirlampudi Layout, Vizag</td>\n",
              "      <td>0.000000</td>\n",
              "      <td>0.000000</td>\n",
              "      <td>North Indian, Chinese, Mediterranean</td>\n",
              "      <td>...</td>\n",
              "      <td>Indian Rupees(Rs.)</td>\n",
              "      <td>No</td>\n",
              "      <td>No</td>\n",
              "      <td>No</td>\n",
              "      <td>No</td>\n",
              "      <td>4</td>\n",
              "      <td>4.9</td>\n",
              "      <td>Dark Green</td>\n",
              "      <td>Excellent</td>\n",
              "      <td>345</td>\n",
              "    </tr>\n",
              "    <tr>\n",
              "      <th>7356</th>\n",
              "      <td>18427201</td>\n",
              "      <td>F Marquee</td>\n",
              "      <td>1</td>\n",
              "      <td>New Delhi</td>\n",
              "      <td>M 4, South Extension 2, New Delhi</td>\n",
              "      <td>South Extension 2</td>\n",
              "      <td>South Extension 2, New Delhi</td>\n",
              "      <td>77.219860</td>\n",
              "      <td>28.568470</td>\n",
              "      <td>North Indian, Chinese, Continental</td>\n",
              "      <td>...</td>\n",
              "      <td>Indian Rupees(Rs.)</td>\n",
              "      <td>Yes</td>\n",
              "      <td>No</td>\n",
              "      <td>No</td>\n",
              "      <td>No</td>\n",
              "      <td>4</td>\n",
              "      <td>0.0</td>\n",
              "      <td>White</td>\n",
              "      <td>Not rated</td>\n",
              "      <td>3</td>\n",
              "    </tr>\n",
              "    <tr>\n",
              "      <th>1142</th>\n",
              "      <td>130275</td>\n",
              "      <td>Burger Factory</td>\n",
              "      <td>1</td>\n",
              "      <td>Goa</td>\n",
              "      <td>Anjuna Main Road, Opposite Paradise Guest Hous...</td>\n",
              "      <td>Anjuna</td>\n",
              "      <td>Anjuna, Goa</td>\n",
              "      <td>73.743606</td>\n",
              "      <td>15.585658</td>\n",
              "      <td>Fast Food</td>\n",
              "      <td>...</td>\n",
              "      <td>Indian Rupees(Rs.)</td>\n",
              "      <td>No</td>\n",
              "      <td>No</td>\n",
              "      <td>No</td>\n",
              "      <td>No</td>\n",
              "      <td>4</td>\n",
              "      <td>4.8</td>\n",
              "      <td>Dark Green</td>\n",
              "      <td>Excellent</td>\n",
              "      <td>415</td>\n",
              "    </tr>\n",
              "    <tr>\n",
              "      <th>1157</th>\n",
              "      <td>130888</td>\n",
              "      <td>The Black Sheep Bistro</td>\n",
              "      <td>1</td>\n",
              "      <td>Goa</td>\n",
              "      <td>Swami Vivekanand Road, Near ICICI Bank, Panaji...</td>\n",
              "      <td>Panaji</td>\n",
              "      <td>Panaji, Goa</td>\n",
              "      <td>73.825364</td>\n",
              "      <td>15.496162</td>\n",
              "      <td>Seafood, Continental, European, German</td>\n",
              "      <td>...</td>\n",
              "      <td>Indian Rupees(Rs.)</td>\n",
              "      <td>No</td>\n",
              "      <td>No</td>\n",
              "      <td>No</td>\n",
              "      <td>No</td>\n",
              "      <td>4</td>\n",
              "      <td>4.7</td>\n",
              "      <td>Dark Green</td>\n",
              "      <td>Excellent</td>\n",
              "      <td>681</td>\n",
              "    </tr>\n",
              "    <tr>\n",
              "      <th>501</th>\n",
              "      <td>17092293</td>\n",
              "      <td>Bern's Steak House</td>\n",
              "      <td>216</td>\n",
              "      <td>Tampa Bay</td>\n",
              "      <td>1208 S Howard Ave, Tampa, FL 33606</td>\n",
              "      <td>Hyde Park</td>\n",
              "      <td>Hyde Park, Tampa Bay</td>\n",
              "      <td>-82.482962</td>\n",
              "      <td>27.931516</td>\n",
              "      <td>American, Desserts, Steak</td>\n",
              "      <td>...</td>\n",
              "      <td>Dollar($)</td>\n",
              "      <td>No</td>\n",
              "      <td>No</td>\n",
              "      <td>No</td>\n",
              "      <td>No</td>\n",
              "      <td>4</td>\n",
              "      <td>4.7</td>\n",
              "      <td>Dark Green</td>\n",
              "      <td>Excellent</td>\n",
              "      <td>3157</td>\n",
              "    </tr>\n",
              "    <tr>\n",
              "      <th>1154</th>\n",
              "      <td>130535</td>\n",
              "      <td>The Fisherman's Wharf</td>\n",
              "      <td>1</td>\n",
              "      <td>Goa</td>\n",
              "      <td>Before The Leela, Mobor, Cavelossim, Goa</td>\n",
              "      <td>Cavelossim</td>\n",
              "      <td>Cavelossim, Goa</td>\n",
              "      <td>73.950889</td>\n",
              "      <td>15.157944</td>\n",
              "      <td>Continental, Goan, Seafood, North Indian</td>\n",
              "      <td>...</td>\n",
              "      <td>Indian Rupees(Rs.)</td>\n",
              "      <td>No</td>\n",
              "      <td>No</td>\n",
              "      <td>No</td>\n",
              "      <td>No</td>\n",
              "      <td>4</td>\n",
              "      <td>4.6</td>\n",
              "      <td>Dark Green</td>\n",
              "      <td>Excellent</td>\n",
              "      <td>555</td>\n",
              "    </tr>\n",
              "    <tr>\n",
              "      <th>9306</th>\n",
              "      <td>7001208</td>\n",
              "      <td>De Fontein Belgian Beer Cafe</td>\n",
              "      <td>148</td>\n",
              "      <td>Auckland</td>\n",
              "      <td>75-79 Tamaki Drive, Mission Bay, Auckland</td>\n",
              "      <td>Mission Bay</td>\n",
              "      <td>Mission Bay, Auckland</td>\n",
              "      <td>174.832089</td>\n",
              "      <td>-36.848315</td>\n",
              "      <td>European</td>\n",
              "      <td>...</td>\n",
              "      <td>NewZealand($)</td>\n",
              "      <td>No</td>\n",
              "      <td>No</td>\n",
              "      <td>No</td>\n",
              "      <td>No</td>\n",
              "      <td>4</td>\n",
              "      <td>2.3</td>\n",
              "      <td>Red</td>\n",
              "      <td>Poor</td>\n",
              "      <td>402</td>\n",
              "    </tr>\n",
              "    <tr>\n",
              "      <th>1207</th>\n",
              "      <td>18441707</td>\n",
              "      <td>Courtyard Grill - Courtyard by Marriott</td>\n",
              "      <td>1</td>\n",
              "      <td>Gurgaon</td>\n",
              "      <td>Courtyard by Marriott, Plot 27 B, Sushant Lok ...</td>\n",
              "      <td>Courtyard by Marriott, Sushant Lok</td>\n",
              "      <td>Courtyard by Marriott, Sushant Lok, Gurgaon</td>\n",
              "      <td>77.080367</td>\n",
              "      <td>28.460925</td>\n",
              "      <td>Chinese, North Indian, Italian</td>\n",
              "      <td>...</td>\n",
              "      <td>Indian Rupees(Rs.)</td>\n",
              "      <td>No</td>\n",
              "      <td>No</td>\n",
              "      <td>No</td>\n",
              "      <td>No</td>\n",
              "      <td>4</td>\n",
              "      <td>0.0</td>\n",
              "      <td>White</td>\n",
              "      <td>Not rated</td>\n",
              "      <td>3</td>\n",
              "    </tr>\n",
              "    <tr>\n",
              "      <th>9105</th>\n",
              "      <td>3237</td>\n",
              "      <td>Club Ice Cube</td>\n",
              "      <td>1</td>\n",
              "      <td>Noida</td>\n",
              "      <td>313, 3rd Floor, The Great India Place Mall, Se...</td>\n",
              "      <td>The Great India Place, Sector 38</td>\n",
              "      <td>The Great India Place, Sector 38, Noida</td>\n",
              "      <td>77.326475</td>\n",
              "      <td>28.568067</td>\n",
              "      <td>North Indian, Continental, Chinese</td>\n",
              "      <td>...</td>\n",
              "      <td>Indian Rupees(Rs.)</td>\n",
              "      <td>Yes</td>\n",
              "      <td>No</td>\n",
              "      <td>No</td>\n",
              "      <td>No</td>\n",
              "      <td>4</td>\n",
              "      <td>2.0</td>\n",
              "      <td>Red</td>\n",
              "      <td>Poor</td>\n",
              "      <td>230</td>\n",
              "    </tr>\n",
              "    <tr>\n",
              "      <th>6387</th>\n",
              "      <td>18415386</td>\n",
              "      <td>Aqua Grill - Pride Plaza Hotel</td>\n",
              "      <td>1</td>\n",
              "      <td>New Delhi</td>\n",
              "      <td>Pride Plaza Hotel, 5A, Hospitality District, A...</td>\n",
              "      <td>Pride Plaza Hotel, Aerocity</td>\n",
              "      <td>Pride Plaza Hotel, Aerocity, New Delhi</td>\n",
              "      <td>77.122890</td>\n",
              "      <td>28.552732</td>\n",
              "      <td>Continental, North Indian</td>\n",
              "      <td>...</td>\n",
              "      <td>Indian Rupees(Rs.)</td>\n",
              "      <td>No</td>\n",
              "      <td>No</td>\n",
              "      <td>No</td>\n",
              "      <td>No</td>\n",
              "      <td>4</td>\n",
              "      <td>0.0</td>\n",
              "      <td>White</td>\n",
              "      <td>Not rated</td>\n",
              "      <td>0</td>\n",
              "    </tr>\n",
              "    <tr>\n",
              "      <th>9050</th>\n",
              "      <td>3212</td>\n",
              "      <td>Chicane</td>\n",
              "      <td>1</td>\n",
              "      <td>Noida</td>\n",
              "      <td>205-A, 1st Floor, Spice World Mall, Sector 25-...</td>\n",
              "      <td>Spice World Mall, Sector 25</td>\n",
              "      <td>Spice World Mall, Sector 25, Noida</td>\n",
              "      <td>77.341021</td>\n",
              "      <td>28.585493</td>\n",
              "      <td>European, North Indian, Chinese</td>\n",
              "      <td>...</td>\n",
              "      <td>Indian Rupees(Rs.)</td>\n",
              "      <td>Yes</td>\n",
              "      <td>No</td>\n",
              "      <td>No</td>\n",
              "      <td>No</td>\n",
              "      <td>4</td>\n",
              "      <td>2.2</td>\n",
              "      <td>Red</td>\n",
              "      <td>Poor</td>\n",
              "      <td>116</td>\n",
              "    </tr>\n",
              "    <tr>\n",
              "      <th>8467</th>\n",
              "      <td>4717</td>\n",
              "      <td>RPM - Zanzi Bar</td>\n",
              "      <td>1</td>\n",
              "      <td>Noida</td>\n",
              "      <td>B-110, Gautam Budh Nagar, Sector 18, Noida</td>\n",
              "      <td>Sector 18</td>\n",
              "      <td>Sector 18, Noida</td>\n",
              "      <td>77.325299</td>\n",
              "      <td>28.570669</td>\n",
              "      <td>Chinese, North Indian</td>\n",
              "      <td>...</td>\n",
              "      <td>Indian Rupees(Rs.)</td>\n",
              "      <td>Yes</td>\n",
              "      <td>No</td>\n",
              "      <td>No</td>\n",
              "      <td>No</td>\n",
              "      <td>4</td>\n",
              "      <td>2.4</td>\n",
              "      <td>Red</td>\n",
              "      <td>Poor</td>\n",
              "      <td>103</td>\n",
              "    </tr>\n",
              "    <tr>\n",
              "      <th>5441</th>\n",
              "      <td>18317476</td>\n",
              "      <td>Lord's - The Sports Lounge</td>\n",
              "      <td>1</td>\n",
              "      <td>New Delhi</td>\n",
              "      <td>19, Ansari Road, Ring Road, MGM Club, Daryagan...</td>\n",
              "      <td>MGM Club, Daryaganj</td>\n",
              "      <td>MGM Club, Daryaganj, New Delhi</td>\n",
              "      <td>77.243120</td>\n",
              "      <td>28.646337</td>\n",
              "      <td>Finger Food</td>\n",
              "      <td>...</td>\n",
              "      <td>Indian Rupees(Rs.)</td>\n",
              "      <td>Yes</td>\n",
              "      <td>No</td>\n",
              "      <td>No</td>\n",
              "      <td>No</td>\n",
              "      <td>4</td>\n",
              "      <td>0.0</td>\n",
              "      <td>White</td>\n",
              "      <td>Not rated</td>\n",
              "      <td>1</td>\n",
              "    </tr>\n",
              "    <tr>\n",
              "      <th>5440</th>\n",
              "      <td>18317479</td>\n",
              "      <td>London Eye - The Open Lounge</td>\n",
              "      <td>1</td>\n",
              "      <td>New Delhi</td>\n",
              "      <td>19, Ansari Road, Ring Road, MGM Club, Daryagan...</td>\n",
              "      <td>MGM Club, Daryaganj</td>\n",
              "      <td>MGM Club, Daryaganj, New Delhi</td>\n",
              "      <td>77.243075</td>\n",
              "      <td>28.646467</td>\n",
              "      <td>Finger Food</td>\n",
              "      <td>...</td>\n",
              "      <td>Indian Rupees(Rs.)</td>\n",
              "      <td>Yes</td>\n",
              "      <td>No</td>\n",
              "      <td>No</td>\n",
              "      <td>No</td>\n",
              "      <td>4</td>\n",
              "      <td>0.0</td>\n",
              "      <td>White</td>\n",
              "      <td>Not rated</td>\n",
              "      <td>0</td>\n",
              "    </tr>\n",
              "    <tr>\n",
              "      <th>8045</th>\n",
              "      <td>718</td>\n",
              "      <td>Americana Kitchen and Bar</td>\n",
              "      <td>1</td>\n",
              "      <td>Noida</td>\n",
              "      <td>Ist Floor, 1-6, Centre Stage Mall, Sector 18, ...</td>\n",
              "      <td>Centre Stage Mall, Sector 18</td>\n",
              "      <td>Centre Stage Mall, Sector 18, Noida</td>\n",
              "      <td>77.322828</td>\n",
              "      <td>28.568343</td>\n",
              "      <td>American, Tex-Mex, Italian, Mexican, North Indian</td>\n",
              "      <td>...</td>\n",
              "      <td>Indian Rupees(Rs.)</td>\n",
              "      <td>Yes</td>\n",
              "      <td>No</td>\n",
              "      <td>No</td>\n",
              "      <td>No</td>\n",
              "      <td>4</td>\n",
              "      <td>2.4</td>\n",
              "      <td>Red</td>\n",
              "      <td>Poor</td>\n",
              "      <td>221</td>\n",
              "    </tr>\n",
              "  </tbody>\n",
              "</table>\n",
              "<p>30 rows × 21 columns</p>\n",
              "</div>"
            ],
            "text/plain": [
              "      Restaurant ID                          Restaurant Name  Country Code  \\\n",
              "9151        3700019               Rendezvous Cafe Restaurant             1   \n",
              "472        18482938                               Super Loco           184   \n",
              "461        18483085                    Rhubarb Le Restaurant           184   \n",
              "463        18483714                     Fratini La Trattoria           184   \n",
              "7427           3403                            Basil & Thyme             1   \n",
              "465        18479690                   The Refinery Singapore           184   \n",
              "468        18484464                                   Colony           184   \n",
              "469        18483051                          Summer Pavilion           184   \n",
              "470        18482983                                The Lokal           184   \n",
              "471        18479742                                     I Am           184   \n",
              "475        18483252                           Artichoke Cafe           184   \n",
              "432        17141990                           Duke's Waikiki           216   \n",
              "3102         310123                 Fuji Japanese Restaurant             1   \n",
              "3101       18233593                               Farzi Cafe             1   \n",
              "3098         306913                                  Caffe 9             1   \n",
              "9262        2800856                          Barbeque Nation             1   \n",
              "7356       18427201                                F Marquee             1   \n",
              "1142         130275                           Burger Factory             1   \n",
              "1157         130888                   The Black Sheep Bistro             1   \n",
              "501        17092293                       Bern's Steak House           216   \n",
              "1154         130535                    The Fisherman's Wharf             1   \n",
              "9306        7001208             De Fontein Belgian Beer Cafe           148   \n",
              "1207       18441707  Courtyard Grill - Courtyard by Marriott             1   \n",
              "9105           3237                            Club Ice Cube             1   \n",
              "6387       18415386           Aqua Grill - Pride Plaza Hotel             1   \n",
              "9050           3212                                  Chicane             1   \n",
              "8467           4717                          RPM - Zanzi Bar             1   \n",
              "5441       18317476               Lord's - The Sports Lounge             1   \n",
              "5440       18317479             London Eye - The Open Lounge             1   \n",
              "8045            718                Americana Kitchen and Bar             1   \n",
              "\n",
              "                City                                            Address  \\\n",
              "9151      Puducherry            30, Rue Suffren, White Town, Puducherry   \n",
              "472        Singapore      The Quayside\\r60 Roberston Quay #01-13 238252   \n",
              "461        Singapore                       3 Duxton Hill, Duxton 089589   \n",
              "463        Singapore         10 Greenwood Avenue, Hillcrest Park 289201   \n",
              "7427       New Delhi   28, Sunder Nagar Market, Sunder Nagar, New Delhi   \n",
              "465        Singapore  115 King George Avenue, #01-02 Ann Chuan Indus...   \n",
              "468        Singapore  7 Raffles Avenue, Ritz-carlton Millenia Singap...   \n",
              "469        Singapore  The Ritz-Carlton, 7 Raffles Avenue,  Millenia ...   \n",
              "470        Singapore                               136 Neil Road 088865   \n",
              "471        Singapore     674 North Bridge Road, #01-01 Haji Lane 188804   \n",
              "475        Singapore           161 Middle Road, Sculpture Square 188978   \n",
              "432   Rest of Hawaii              2335 Kalakaua Ave, Honolulu, HI 96815   \n",
              "3102       New Delhi  M-41/2, Speedbird House, Middle Circle, Connau...   \n",
              "3101       New Delhi  38/39, Level 1, Block E , Inner Circle, Connau...   \n",
              "3098       New Delhi                   P-15, Connaught Place, New Delhi   \n",
              "9262           Vizag  1st Floor, ATR Towers, Harbour Park Road,  Pan...   \n",
              "7356       New Delhi                  M 4, South Extension 2, New Delhi   \n",
              "1142             Goa  Anjuna Main Road, Opposite Paradise Guest Hous...   \n",
              "1157             Goa  Swami Vivekanand Road, Near ICICI Bank, Panaji...   \n",
              "501        Tampa Bay                 1208 S Howard Ave, Tampa, FL 33606   \n",
              "1154             Goa           Before The Leela, Mobor, Cavelossim, Goa   \n",
              "9306        Auckland          75-79 Tamaki Drive, Mission Bay, Auckland   \n",
              "1207         Gurgaon  Courtyard by Marriott, Plot 27 B, Sushant Lok ...   \n",
              "9105           Noida  313, 3rd Floor, The Great India Place Mall, Se...   \n",
              "6387       New Delhi  Pride Plaza Hotel, 5A, Hospitality District, A...   \n",
              "9050           Noida  205-A, 1st Floor, Spice World Mall, Sector 25-...   \n",
              "8467           Noida         B-110, Gautam Budh Nagar, Sector 18, Noida   \n",
              "5441       New Delhi  19, Ansari Road, Ring Road, MGM Club, Daryagan...   \n",
              "5440       New Delhi  19, Ansari Road, Ring Road, MGM Club, Daryagan...   \n",
              "8045           Noida  Ist Floor, 1-6, Centre Stage Mall, Sector 18, ...   \n",
              "\n",
              "                                Locality  \\\n",
              "9151                          White Town   \n",
              "472      Robertson Quay, Singapore River   \n",
              "461                  Duxton Hill, Outram   \n",
              "463               Hillcrest, Bukit Timah   \n",
              "7427                        Sunder Nagar   \n",
              "465                    Lavender, Kallang   \n",
              "468         Marina Centre, Downtown Core   \n",
              "469         Marina Centre, Downtown Core   \n",
              "470                    Neil Road, Outram   \n",
              "471            North Bridge Road, Rochor   \n",
              "475                     Victoria, Rochor   \n",
              "432                              Waikiki   \n",
              "3102                     Connaught Place   \n",
              "3101                     Connaught Place   \n",
              "3098                     Connaught Place   \n",
              "9262                   Kirlampudi Layout   \n",
              "7356                   South Extension 2   \n",
              "1142                              Anjuna   \n",
              "1157                              Panaji   \n",
              "501                            Hyde Park   \n",
              "1154                          Cavelossim   \n",
              "9306                         Mission Bay   \n",
              "1207  Courtyard by Marriott, Sushant Lok   \n",
              "9105    The Great India Place, Sector 38   \n",
              "6387         Pride Plaza Hotel, Aerocity   \n",
              "9050         Spice World Mall, Sector 25   \n",
              "8467                           Sector 18   \n",
              "5441                 MGM Club, Daryaganj   \n",
              "5440                 MGM Club, Daryaganj   \n",
              "8045        Centre Stage Mall, Sector 18   \n",
              "\n",
              "                                 Locality Verbose   Longitude   Latitude  \\\n",
              "9151                       White Town, Puducherry   79.832581  11.928592   \n",
              "472    Robertson Quay, Singapore River, Singapore  103.839165   1.290084   \n",
              "461                Duxton Hill, Outram, Singapore  103.843022   1.279444   \n",
              "463             Hillcrest, Bukit Timah, Singapore  103.807081   1.331128   \n",
              "7427                      Sunder Nagar, New Delhi   77.241099  28.601476   \n",
              "465                  Lavender, Kallang, Singapore  103.862119   1.310668   \n",
              "468       Marina Centre, Downtown Core, Singapore  103.859955   1.290581   \n",
              "469       Marina Centre, Downtown Core, Singapore  103.860177   1.290801   \n",
              "470                  Neil Road, Outram, Singapore  103.840921   1.278373   \n",
              "471          North Bridge Road, Rochor, Singapore  103.858430   1.301707   \n",
              "475                   Victoria, Rochor, Singapore  103.851994   1.299708   \n",
              "432                       Waikiki, Rest of Hawaii -157.827196  21.277583   \n",
              "3102                   Connaught Place, New Delhi   77.221930  28.632984   \n",
              "3101                   Connaught Place, New Delhi   77.221430  28.632398   \n",
              "3098                   Connaught Place, New Delhi   77.216220  28.632439   \n",
              "9262                     Kirlampudi Layout, Vizag    0.000000   0.000000   \n",
              "7356                 South Extension 2, New Delhi   77.219860  28.568470   \n",
              "1142                                  Anjuna, Goa   73.743606  15.585658   \n",
              "1157                                  Panaji, Goa   73.825364  15.496162   \n",
              "501                          Hyde Park, Tampa Bay  -82.482962  27.931516   \n",
              "1154                              Cavelossim, Goa   73.950889  15.157944   \n",
              "9306                        Mission Bay, Auckland  174.832089 -36.848315   \n",
              "1207  Courtyard by Marriott, Sushant Lok, Gurgaon   77.080367  28.460925   \n",
              "9105      The Great India Place, Sector 38, Noida   77.326475  28.568067   \n",
              "6387       Pride Plaza Hotel, Aerocity, New Delhi   77.122890  28.552732   \n",
              "9050           Spice World Mall, Sector 25, Noida   77.341021  28.585493   \n",
              "8467                             Sector 18, Noida   77.325299  28.570669   \n",
              "5441               MGM Club, Daryaganj, New Delhi   77.243120  28.646337   \n",
              "5440               MGM Club, Daryaganj, New Delhi   77.243075  28.646467   \n",
              "8045          Centre Stage Mall, Sector 18, Noida   77.322828  28.568343   \n",
              "\n",
              "                                               Cuisines  ...  \\\n",
              "9151             Goan, Mangalorean, Continental, French  ...   \n",
              "472                                   American, Mexican  ...   \n",
              "461                                              French  ...   \n",
              "463                                             Italian  ...   \n",
              "7427                              Continental, European  ...   \n",
              "465                     American, Japanese, Singaporean  ...   \n",
              "468                         Asian, Continental, Seafood  ...   \n",
              "469                Chinese, Seafood, Cantonese, Dim Sum  ...   \n",
              "470                     Singaporean, Australian, German  ...   \n",
              "471                          Western, Fusion, Fast Food  ...   \n",
              "475                       Cafe, Spanish, Turkish, Greek  ...   \n",
              "432                            Hawaiian, Seafood, Steak  ...   \n",
              "3102                                           Japanese  ...   \n",
              "3101                                      Modern Indian  ...   \n",
              "3098  North Indian, Chinese, Italian, American, Midd...  ...   \n",
              "9262               North Indian, Chinese, Mediterranean  ...   \n",
              "7356                 North Indian, Chinese, Continental  ...   \n",
              "1142                                          Fast Food  ...   \n",
              "1157             Seafood, Continental, European, German  ...   \n",
              "501                           American, Desserts, Steak  ...   \n",
              "1154           Continental, Goan, Seafood, North Indian  ...   \n",
              "9306                                           European  ...   \n",
              "1207                     Chinese, North Indian, Italian  ...   \n",
              "9105                 North Indian, Continental, Chinese  ...   \n",
              "6387                          Continental, North Indian  ...   \n",
              "9050                    European, North Indian, Chinese  ...   \n",
              "8467                              Chinese, North Indian  ...   \n",
              "5441                                        Finger Food  ...   \n",
              "5440                                        Finger Food  ...   \n",
              "8045  American, Tex-Mex, Italian, Mexican, North Indian  ...   \n",
              "\n",
              "                Currency Has Table booking Has Online delivery  \\\n",
              "9151  Indian Rupees(Rs.)                No                  No   \n",
              "472            Dollar($)                No                  No   \n",
              "461            Dollar($)                No                  No   \n",
              "463            Dollar($)                No                  No   \n",
              "7427  Indian Rupees(Rs.)               Yes                  No   \n",
              "465            Dollar($)                No                  No   \n",
              "468            Dollar($)                No                  No   \n",
              "469            Dollar($)                No                  No   \n",
              "470            Dollar($)                No                  No   \n",
              "471            Dollar($)                No                  No   \n",
              "475            Dollar($)                No                  No   \n",
              "432            Dollar($)                No                  No   \n",
              "3102  Indian Rupees(Rs.)               Yes                 Yes   \n",
              "3101  Indian Rupees(Rs.)                No                  No   \n",
              "3098  Indian Rupees(Rs.)               Yes                 Yes   \n",
              "9262  Indian Rupees(Rs.)                No                  No   \n",
              "7356  Indian Rupees(Rs.)               Yes                  No   \n",
              "1142  Indian Rupees(Rs.)                No                  No   \n",
              "1157  Indian Rupees(Rs.)                No                  No   \n",
              "501            Dollar($)                No                  No   \n",
              "1154  Indian Rupees(Rs.)                No                  No   \n",
              "9306       NewZealand($)                No                  No   \n",
              "1207  Indian Rupees(Rs.)                No                  No   \n",
              "9105  Indian Rupees(Rs.)               Yes                  No   \n",
              "6387  Indian Rupees(Rs.)                No                  No   \n",
              "9050  Indian Rupees(Rs.)               Yes                  No   \n",
              "8467  Indian Rupees(Rs.)               Yes                  No   \n",
              "5441  Indian Rupees(Rs.)               Yes                  No   \n",
              "5440  Indian Rupees(Rs.)               Yes                  No   \n",
              "8045  Indian Rupees(Rs.)               Yes                  No   \n",
              "\n",
              "     Is delivering now Switch to order menu Price range  Aggregate rating  \\\n",
              "9151                No                   No           4               3.5   \n",
              "472                 No                   No           4               3.2   \n",
              "461                 No                   No           4               3.9   \n",
              "463                 No                   No           4               4.1   \n",
              "7427                No                   No           4               3.6   \n",
              "465                 No                   No           4               3.2   \n",
              "468                 No                   No           4               3.8   \n",
              "469                 No                   No           4               3.9   \n",
              "470                 No                   No           4               3.1   \n",
              "471                 No                   No           4               3.2   \n",
              "475                 No                   No           4               3.2   \n",
              "432                 No                   No           4               4.4   \n",
              "3102                No                   No           4               4.0   \n",
              "3101                No                   No           4               4.4   \n",
              "3098                No                   No           4               4.2   \n",
              "9262                No                   No           4               4.9   \n",
              "7356                No                   No           4               0.0   \n",
              "1142                No                   No           4               4.8   \n",
              "1157                No                   No           4               4.7   \n",
              "501                 No                   No           4               4.7   \n",
              "1154                No                   No           4               4.6   \n",
              "9306                No                   No           4               2.3   \n",
              "1207                No                   No           4               0.0   \n",
              "9105                No                   No           4               2.0   \n",
              "6387                No                   No           4               0.0   \n",
              "9050                No                   No           4               2.2   \n",
              "8467                No                   No           4               2.4   \n",
              "5441                No                   No           4               0.0   \n",
              "5440                No                   No           4               0.0   \n",
              "8045                No                   No           4               2.4   \n",
              "\n",
              "      Rating color Rating text Votes  \n",
              "9151        Yellow        Good   225  \n",
              "472         Orange     Average    30  \n",
              "461         Yellow        Good    33  \n",
              "463          Green   Very Good    35  \n",
              "7427        Yellow        Good   127  \n",
              "465         Orange     Average    30  \n",
              "468         Yellow        Good    30  \n",
              "469         Yellow        Good    34  \n",
              "470         Orange     Average    33  \n",
              "471         Orange     Average    32  \n",
              "475         Orange     Average    33  \n",
              "432          Green   Very Good  1492  \n",
              "3102         Green   Very Good   312  \n",
              "3101         Green   Very Good  1942  \n",
              "3098         Green   Very Good   961  \n",
              "9262    Dark Green   Excellent   345  \n",
              "7356         White   Not rated     3  \n",
              "1142    Dark Green   Excellent   415  \n",
              "1157    Dark Green   Excellent   681  \n",
              "501     Dark Green   Excellent  3157  \n",
              "1154    Dark Green   Excellent   555  \n",
              "9306           Red        Poor   402  \n",
              "1207         White   Not rated     3  \n",
              "9105           Red        Poor   230  \n",
              "6387         White   Not rated     0  \n",
              "9050           Red        Poor   116  \n",
              "8467           Red        Poor   103  \n",
              "5441         White   Not rated     1  \n",
              "5440         White   Not rated     0  \n",
              "8045           Red        Poor   221  \n",
              "\n",
              "[30 rows x 21 columns]"
            ]
          },
          "metadata": {
            "tags": []
          },
          "execution_count": 35
        }
      ]
    },
    {
      "metadata": {
        "id": "-Oa7XsEKzWR9",
        "colab_type": "code",
        "outputId": "29468b26-d088-4ca4-f5d7-31099228f3ce",
        "colab": {
          "base_uri": "https://localhost:8080/",
          "height": 454
        }
      },
      "cell_type": "code",
      "source": [
        "prirange=ZOMATO_df['Price range'].value_counts()\n",
        "print(prirange)"
      ],
      "execution_count": 0,
      "outputs": [
        {
          "output_type": "stream",
          "text": [
            "Rating text  Price range\n",
            "Average      1              1898\n",
            "             2              1425\n",
            "             3               313\n",
            "             4               101\n",
            "Excellent    3               126\n",
            "             4                74\n",
            "             2                69\n",
            "             1                32\n",
            "Good         2               794\n",
            "             1               608\n",
            "             3               498\n",
            "             4               200\n",
            "Not rated    1              1700\n",
            "             2               402\n",
            "             3                35\n",
            "             4                11\n",
            "Poor         2                98\n",
            "             1                62\n",
            "             3                20\n",
            "             4                 6\n",
            "Very Good    3               416\n",
            "             2               325\n",
            "             4               194\n",
            "             1               144\n",
            "Name: Price range, dtype: int64\n"
          ],
          "name": "stdout"
        }
      ]
    },
    {
      "metadata": {
        "id": "Y6XFhjCHzWUe",
        "colab_type": "code",
        "outputId": "25dae3e6-be3f-4060-b7aa-46e86f05b672",
        "colab": {
          "base_uri": "https://localhost:8080/",
          "height": 1075
        }
      },
      "cell_type": "code",
      "source": [
        "cuisine=ZOMATO_df['Cuisines'].value_counts()\n",
        "print(cuisine)"
      ],
      "execution_count": 0,
      "outputs": [
        {
          "output_type": "stream",
          "text": [
            "Rating text  Cuisines                                                                          \n",
            "Average      North Indian                                                                          366\n",
            "             North Indian, Chinese                                                                 303\n",
            "             North Indian, Mughlai                                                                 185\n",
            "             Chinese                                                                               151\n",
            "             Fast Food                                                                             151\n",
            "             Cafe                                                                                  132\n",
            "             North Indian, Mughlai, Chinese                                                        122\n",
            "             Bakery                                                                                 96\n",
            "             Pizza, Fast Food                                                                       78\n",
            "             Bakery, Desserts                                                                       72\n",
            "             Chinese, Fast Food                                                                     65\n",
            "             Mithai, Street Food                                                                    53\n",
            "             South Indian                                                                           53\n",
            "             Chinese, North Indian                                                                  51\n",
            "             North Indian, Chinese, Fast Food                                                       51\n",
            "             Street Food                                                                            50\n",
            "             Bakery, Fast Food                                                                      48\n",
            "             North Indian, Chinese, Mughlai                                                         48\n",
            "             American, Fast Food, Salad, Healthy Food                                               42\n",
            "             Ice Cream, Desserts                                                                    41\n",
            "             North Indian, Fast Food                                                                40\n",
            "             Raw Meats, North Indian, Fast Food                                                     38\n",
            "             North Indian, Chinese, Continental                                                     33\n",
            "             Mithai                                                                                 30\n",
            "             Mughlai                                                                                30\n",
            "             Fast Food, Burger                                                                      29\n",
            "             Fast Food, North Indian                                                                29\n",
            "             Raw Meats, Fast Food                                                                   27\n",
            "             Finger Food                                                                            26\n",
            "             Bakery, Desserts, Fast Food                                                            25\n",
            "                                                                                                  ... \n",
            "Very Good    South Indian, Chinese, Continental, Italian, North Indian                               1\n",
            "             South Indian, Desserts                                                                  1\n",
            "             South Indian, North Indian                                                              1\n",
            "             South Indian, Seafood, Kerala                                                           1\n",
            "             Southern                                                                                1\n",
            "             Spanish, Italian                                                                        1\n",
            "             Sri Lankan                                                                              1\n",
            "             Steak, American                                                                         1\n",
            "             Steak, BBQ                                                                              1\n",
            "             Steak, Scottish, British                                                                1\n",
            "             Steak, Seafood, Grill                                                                   1\n",
            "             Street Food, Burger, American, Finger Food, German                                      1\n",
            "             Street Food, Burger, Desserts, Italian, Pizza, North Indian, European, Finger Food      1\n",
            "             Street Food, South Indian                                                               1\n",
            "             Sushi                                                                                   1\n",
            "             Sushi, Japanese, Healthy Food                                                           1\n",
            "             Sushi, Thai                                                                             1\n",
            "             Taiwanese, Street Food                                                                  1\n",
            "             Tea, Cafe                                                                               1\n",
            "             Tex-Mex, American                                                                       1\n",
            "             Thai, Chinese                                                                           1\n",
            "             Thai, Japanese, Chinese, Indonesian, Vietnamese                                         1\n",
            "             Turkish                                                                                 1\n",
            "             Turkish Pizza                                                                           1\n",
            "             Turkish, Arabian, Middle Eastern                                                        1\n",
            "             Turkish, Mediterranean, Middle Eastern                                                  1\n",
            "             Vietnamese, Fish and Chips                                                              1\n",
            "             Western, Asian, Cafe                                                                    1\n",
            "             World Cuisine, Mexican, Italian                                                         1\n",
            "             World Cuisine, Patisserie, Cafe                                                         1\n",
            "Name: Cuisines, Length: 2616, dtype: int64\n"
          ],
          "name": "stdout"
        }
      ]
    },
    {
      "metadata": {
        "id": "6lIIGJEB1_ad",
        "colab_type": "code",
        "outputId": "a24970f9-d5a9-437c-ee36-d3396bb39e87",
        "colab": {
          "base_uri": "https://localhost:8080/",
          "height": 974
        }
      },
      "cell_type": "code",
      "source": [
        "curr=ZOMATO_df['Currency'].value_counts()\n",
        "print(curr)"
      ],
      "execution_count": 0,
      "outputs": [
        {
          "output_type": "stream",
          "text": [
            "Rating text  Currency              \n",
            "Average      Indian Rupees(Rs.)        3678\n",
            "             Dollar($)                   38\n",
            "             Brazilian Real(R$)           8\n",
            "             Pounds(£)                   5\n",
            "             Qatari Rial(QR)              2\n",
            "             Sri Lankan Rupee(LKR)        2\n",
            "             Emirati Diram(AED)           1\n",
            "             Indonesian Rupiah(IDR)       1\n",
            "             Rand(R)                      1\n",
            "             Turkish Lira(TL)             1\n",
            "Excellent    Indian Rupees(Rs.)         116\n",
            "             Dollar($)                   69\n",
            "             Pounds(£)                  23\n",
            "             Emirati Diram(AED)          18\n",
            "             Brazilian Real(R$)          16\n",
            "             Botswana Pula(P)            12\n",
            "             NewZealand($)               12\n",
            "             Rand(R)                     12\n",
            "             Turkish Lira(TL)            10\n",
            "             Indonesian Rupiah(IDR)       7\n",
            "             Qatari Rial(QR)              4\n",
            "             Sri Lankan Rupee(LKR)        2\n",
            "Good         Indian Rupees(Rs.)        1847\n",
            "             Dollar($)                  181\n",
            "             Pounds(£)                  20\n",
            "             Rand(R)                     12\n",
            "             Brazilian Real(R$)          11\n",
            "             Emirati Diram(AED)           9\n",
            "             Qatari Rial(QR)              7\n",
            "             Sri Lankan Rupee(LKR)        4\n",
            "             Indonesian Rupiah(IDR)       3\n",
            "             Turkish Lira(TL)             3\n",
            "             NewZealand($)                2\n",
            "             Botswana Pula(P)             1\n",
            "Not rated    Indian Rupees(Rs.)        2139\n",
            "             Brazilian Real(R$)           5\n",
            "             Dollar($)                    3\n",
            "             Pounds(£)                   1\n",
            "Poor         Indian Rupees(Rs.)         180\n",
            "             Dollar($)                    3\n",
            "             Emirati Diram(AED)           1\n",
            "             NewZealand($)                1\n",
            "             Sri Lankan Rupee(LKR)        1\n",
            "Very Good    Indian Rupees(Rs.)         692\n",
            "             Dollar($)                  188\n",
            "             Rand(R)                     35\n",
            "             Emirati Diram(AED)          31\n",
            "             Pounds(£)                  31\n",
            "             NewZealand($)               25\n",
            "             Brazilian Real(R$)          20\n",
            "             Turkish Lira(TL)            20\n",
            "             Sri Lankan Rupee(LKR)       11\n",
            "             Indonesian Rupiah(IDR)      10\n",
            "             Botswana Pula(P)             9\n",
            "             Qatari Rial(QR)              7\n",
            "Name: Currency, dtype: int64\n"
          ],
          "name": "stdout"
        }
      ]
    },
    {
      "metadata": {
        "id": "74QTil0f1_eY",
        "colab_type": "code",
        "outputId": "263b71bc-f47a-4505-d824-eff573e5efd2",
        "colab": {
          "base_uri": "https://localhost:8080/",
          "height": 151
        }
      },
      "cell_type": "code",
      "source": [
        "ZOMATO_df['Price range'].mean()"
      ],
      "execution_count": 0,
      "outputs": [
        {
          "output_type": "execute_result",
          "data": {
            "text/plain": [
              "Rating text\n",
              "Average      1.629917\n",
              "Excellent    2.803987\n",
              "Good         2.138095\n",
              "Not rated    1.235102\n",
              "Poor         1.838710\n",
              "Very Good    2.611677\n",
              "Name: Price range, dtype: float64"
            ]
          },
          "metadata": {
            "tags": []
          },
          "execution_count": 41
        }
      ]
    },
    {
      "metadata": {
        "id": "9bhsUWL-1_sU",
        "colab_type": "code",
        "outputId": "464eb870-8844-4827-9e66-0ae01d6a9c92",
        "colab": {
          "base_uri": "https://localhost:8080/",
          "height": 1075
        }
      },
      "cell_type": "code",
      "source": [
        "city=ZOMATO_df['City'].value_counts()\n",
        "print(city)"
      ],
      "execution_count": 0,
      "outputs": [
        {
          "output_type": "stream",
          "text": [
            "Rating text  City            \n",
            "Average      New Delhi           2495\n",
            "             Gurgaon              504\n",
            "             Noida                449\n",
            "             Faridabad            123\n",
            "             Ghaziabad             18\n",
            "             Aurangabad            16\n",
            "             Allahabad             15\n",
            "             Ranchi                11\n",
            "             Patna                  9\n",
            "             Singapore              9\n",
            "             Nashik                 8\n",
            "             Varanasi               8\n",
            "             Albany                 7\n",
            "             Brasí_lia              6\n",
            "             Amritsar               5\n",
            "             Dubuque                5\n",
            "             Kanpur                 3\n",
            "             Manchester             3\n",
            "             Bhopal                 2\n",
            "             Birmingham             2\n",
            "             Chandigarh             2\n",
            "             Colombo                2\n",
            "             Doha                   2\n",
            "             Mysore                 2\n",
            "             Puducherry             2\n",
            "             Sí£o Paulo             2\n",
            "             Valdosta               2\n",
            "             Agra                   1\n",
            "             Ankara                 1\n",
            "             Balingup               1\n",
            "                                 ... \n",
            "Very Good    Mysore                 3\n",
            "             Puducherry             3\n",
            "             Singapore              3\n",
            "             Sioux City             3\n",
            "             Mandaluyong City       2\n",
            "             Mangalore              2\n",
            "             Pasay City             2\n",
            "             San Juan City          2\n",
            "             Bandung                1\n",
            "             Bogor                  1\n",
            "             Clatskanie             1\n",
            "             East Ballina           1\n",
            "             Huskisson              1\n",
            "             Mohali                 1\n",
            "             Palm Cove              1\n",
            "             Panchkula              1\n",
            "             Pasig City             1\n",
            "             Pocatello              1\n",
            "             Princeton              1\n",
            "             Ranchi                 1\n",
            "             Randburg               1\n",
            "             Santa Rosa             1\n",
            "             Secunderabad           1\n",
            "             Taguig City            1\n",
            "             Tanunda                1\n",
            "             Trentham East          1\n",
            "             Valdosta               1\n",
            "             Varanasi               1\n",
            "             Vernonia               1\n",
            "             Vineland Station       1\n",
            "Name: City, Length: 347, dtype: int64\n"
          ],
          "name": "stdout"
        }
      ]
    },
    {
      "metadata": {
        "id": "x9on3Lng5VBb",
        "colab_type": "code",
        "outputId": "7373c009-4782-4eab-f9ae-e35578748c87",
        "colab": {
          "base_uri": "https://localhost:8080/",
          "height": 151
        }
      },
      "cell_type": "code",
      "source": [
        "ZOMATO_df['Votes'].mean()"
      ],
      "execution_count": 0,
      "outputs": [
        {
          "output_type": "execute_result",
          "data": {
            "text/plain": [
              "Rating text\n",
              "Average       48.249130\n",
              "Excellent    851.770764\n",
              "Good         229.351429\n",
              "Not rated      0.870112\n",
              "Poor          90.715054\n",
              "Very Good    520.458758\n",
              "Name: Votes, dtype: float64"
            ]
          },
          "metadata": {
            "tags": []
          },
          "execution_count": 43
        }
      ]
    },
    {
      "metadata": {
        "id": "dnlmTwVS54hX",
        "colab_type": "code",
        "colab": {}
      },
      "cell_type": "code",
      "source": [
        "%matplotlib inline"
      ],
      "execution_count": 0,
      "outputs": []
    },
    {
      "metadata": {
        "id": "7c-4TeCj5VH-",
        "colab_type": "code",
        "outputId": "f4099725-ab32-48ee-abf0-4f8203605c67",
        "colab": {
          "base_uri": "https://localhost:8080/",
          "height": 1750
        }
      },
      "cell_type": "code",
      "source": [
        "ZOMATO_df.plot(kind='line',x='Price range',y='Aggregate rating')"
      ],
      "execution_count": 0,
      "outputs": [
        {
          "output_type": "execute_result",
          "data": {
            "text/plain": [
              "Rating text\n",
              "Average      AxesSubplot(0.125,0.125;0.775x0.755)\n",
              "Excellent    AxesSubplot(0.125,0.125;0.775x0.755)\n",
              "Good         AxesSubplot(0.125,0.125;0.775x0.755)\n",
              "Not rated    AxesSubplot(0.125,0.125;0.775x0.755)\n",
              "Poor         AxesSubplot(0.125,0.125;0.775x0.755)\n",
              "Very Good    AxesSubplot(0.125,0.125;0.775x0.755)\n",
              "dtype: object"
            ]
          },
          "metadata": {
            "tags": []
          },
          "execution_count": 50
        },
        {
          "output_type": "display_data",
          "data": {
            "image/png": "[encoded data removed]",
            "text/plain": [
              "<Figure size 432x288 with 1 Axes>"
            ]
          },
          "metadata": {
            "tags": []
          }
        },
        {
          "output_type": "display_data",
          "data": {
            "image/png": "[encoded data removed]",
            "text/plain": [
              "<Figure size 432x288 with 1 Axes>"
            ]
          },
          "metadata": {
            "tags": []
          }
        },
        {
          "output_type": "display_data",
          "data": {
            "image/png": "[encoded data removed]",
            "text/plain": [
              "<Figure size 432x288 with 1 Axes>"
            ]
          },
          "metadata": {
            "tags": []
          }
        },
        {
          "output_type": "display_data",
          "data": {
            "image/png": "[encoded data removed]",
            "text/plain": [
              "<Figure size 432x288 with 1 Axes>"
            ]
          },
          "metadata": {
            "tags": []
          }
        },
        {
          "output_type": "display_data",
          "data": {
            "image/png": "[encoded data removed]",
            "text/plain": [
              "<Figure size 432x288 with 1 Axes>"
            ]
          },
          "metadata": {
            "tags": []
          }
        },
        {
          "output_type": "display_data",
          "data": {
            "image/png": "[encoded data removed]",
            "text/plain": [
              "<Figure size 432x288 with 1 Axes>"
            ]
          },
          "metadata": {
            "tags": []
          }
        }
      ]
    },
    {
      "metadata": {
        "id": "jLM0Qf3LE8KL",
        "colab_type": "code",
        "colab": {}
      },
      "cell_type": "code",
      "source": [
        ""
      ],
      "execution_count": 0,
      "outputs": []
    }
  ]
}