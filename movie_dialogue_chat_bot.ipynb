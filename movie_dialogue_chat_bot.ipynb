{
  "nbformat": 4,
  "nbformat_minor": 0,
  "metadata": {
    "colab": {
      "name": "movie dialogue chat bot.ipynb",
      "version": "0.3.2",
      "provenance": []
    },
    "kernelspec": {
      "name": "python3",
      "display_name": "Python 3"
    }
  },
  "cells": [
    {
      "cell_type": "code",
      "metadata": {
        "id": "C5E1fPgQjQci",
        "colab_type": "code",
        "colab": {
          "base_uri": "https://localhost:8080/",
          "height": 385
        },
        "outputId": "f56b2a8d-0f66-4ec4-855d-f99abc9a0c32"
      },
      "source": [
        "!pip install spacy"
      ],
      "execution_count": 6,
      "outputs": [
        {
          "output_type": "stream",
          "text": [
            "Requirement already satisfied: spacy in /usr/local/lib/python3.6/dist-packages (2.0.18)\n",
            "Requirement already satisfied: murmurhash<1.1.0,>=0.28.0 in /usr/local/lib/python3.6/dist-packages (from spacy) (1.0.2)\n",
            "Requirement already satisfied: numpy>=1.15.0 in /usr/local/lib/python3.6/dist-packages (from spacy) (1.16.1)\n",
            "Requirement already satisfied: ujson>=1.35 in /usr/local/lib/python3.6/dist-packages (from spacy) (1.35)\n",
            "Requirement already satisfied: dill<0.3,>=0.2 in /usr/local/lib/python3.6/dist-packages (from spacy) (0.2.9)\n",
            "Requirement already satisfied: thinc<6.13.0,>=6.12.1 in /usr/local/lib/python3.6/dist-packages (from spacy) (6.12.1)\n",
            "Requirement already satisfied: regex==2018.01.10 in /usr/local/lib/python3.6/dist-packages (from spacy) (2018.1.10)\n",
            "Requirement already satisfied: requests<3.0.0,>=2.13.0 in /usr/local/lib/python3.6/dist-packages (from spacy) (2.21.0)\n",
            "Requirement already satisfied: cymem<2.1.0,>=2.0.2 in /usr/local/lib/python3.6/dist-packages (from spacy) (2.0.2)\n",
            "Requirement already satisfied: preshed<2.1.0,>=2.0.1 in /usr/local/lib/python3.6/dist-packages (from spacy) (2.0.1)\n",
            "Requirement already satisfied: plac<1.0.0,>=0.9.6 in /usr/local/lib/python3.6/dist-packages (from spacy) (0.9.6)\n",
            "Requirement already satisfied: cytoolz<0.10,>=0.9.0 in /usr/local/lib/python3.6/dist-packages (from thinc<6.13.0,>=6.12.1->spacy) (0.9.0.1)\n",
            "Requirement already satisfied: wrapt<1.11.0,>=1.10.0 in /usr/local/lib/python3.6/dist-packages (from thinc<6.13.0,>=6.12.1->spacy) (1.10.11)\n",
            "Requirement already satisfied: msgpack-numpy<0.4.4 in /usr/local/lib/python3.6/dist-packages (from thinc<6.13.0,>=6.12.1->spacy) (0.4.3.2)\n",
            "Requirement already satisfied: six<2.0.0,>=1.10.0 in /usr/local/lib/python3.6/dist-packages (from thinc<6.13.0,>=6.12.1->spacy) (1.12.0)\n",
            "Requirement already satisfied: msgpack<0.6.0,>=0.5.6 in /usr/local/lib/python3.6/dist-packages (from thinc<6.13.0,>=6.12.1->spacy) (0.5.6)\n",
            "Requirement already satisfied: tqdm<5.0.0,>=4.10.0 in /usr/local/lib/python3.6/dist-packages (from thinc<6.13.0,>=6.12.1->spacy) (4.28.1)\n",
            "Requirement already satisfied: certifi>=2017.4.17 in /usr/local/lib/python3.6/dist-packages (from requests<3.0.0,>=2.13.0->spacy) (2019.3.9)\n",
            "Requirement already satisfied: idna<2.9,>=2.5 in /usr/local/lib/python3.6/dist-packages (from requests<3.0.0,>=2.13.0->spacy) (2.8)\n",
            "Requirement already satisfied: urllib3<1.25,>=1.21.1 in /usr/local/lib/python3.6/dist-packages (from requests<3.0.0,>=2.13.0->spacy) (1.24.2)\n",
            "Requirement already satisfied: chardet<3.1.0,>=3.0.2 in /usr/local/lib/python3.6/dist-packages (from requests<3.0.0,>=2.13.0->spacy) (3.0.4)\n",
            "Requirement already satisfied: toolz>=0.8.0 in /usr/local/lib/python3.6/dist-packages (from cytoolz<0.10,>=0.9.0->thinc<6.13.0,>=6.12.1->spacy) (0.9.0)\n"
          ],
          "name": "stdout"
        }
      ]
    },
    {
      "cell_type": "markdown",
      "metadata": {
        "id": "EHhBXkc2qIgf",
        "colab_type": "text"
      },
      "source": [
        "use spaCy, a  Python library for natural language processing, both to tokenize text (i.e., turn text into a list of words) and for its database of word vectors"
      ]
    },
    {
      "cell_type": "code",
      "metadata": {
        "id": "ljcFid5IkpnQ",
        "colab_type": "code",
        "colab": {
          "base_uri": "https://localhost:8080/",
          "height": 304
        },
        "outputId": "748619c1-b3ca-4382-d28c-d888848fcd40"
      },
      "source": [
        "!python -m spacy download en_core_web_lg"
      ],
      "execution_count": 7,
      "outputs": [
        {
          "output_type": "stream",
          "text": [
            "Collecting en_core_web_lg==2.0.0 from https://github.com/explosion/spacy-models/releases/download/en_core_web_lg-2.0.0/en_core_web_lg-2.0.0.tar.gz#egg=en_core_web_lg==2.0.0\n",
            "\u001b[?25l  Downloading https://github.com/explosion/spacy-models/releases/download/en_core_web_lg-2.0.0/en_core_web_lg-2.0.0.tar.gz (852.3MB)\n",
            "\u001b[K     |████████████████████████████████| 852.3MB 1.2MB/s \n",
            "\u001b[?25hBuilding wheels for collected packages: en-core-web-lg\n",
            "  Building wheel for en-core-web-lg (setup.py) ... \u001b[?25l\u001b[?25hdone\n",
            "  Stored in directory: /tmp/pip-ephem-wheel-cache-vjgtvxud/wheels/0d/bc/67/e6a9108ab86cd076703af19ad4e0f02f57381ac6583df16249\n",
            "Successfully built en-core-web-lg\n",
            "Installing collected packages: en-core-web-lg\n",
            "Successfully installed en-core-web-lg-2.0.0\n",
            "\n",
            "\u001b[93m    Linking successful\u001b[0m\n",
            "    /usr/local/lib/python3.6/dist-packages/en_core_web_lg -->\n",
            "    /usr/local/lib/python3.6/dist-packages/spacy/data/en_core_web_lg\n",
            "\n",
            "    You can now load the model via spacy.load('en_core_web_lg')\n",
            "\n"
          ],
          "name": "stdout"
        }
      ]
    },
    {
      "cell_type": "code",
      "metadata": {
        "id": "kngeSU8Hkpqv",
        "colab_type": "code",
        "colab": {}
      },
      "source": [
        "import spacy\n",
        "nlp = spacy.load('en_core_web_lg')"
      ],
      "execution_count": 0,
      "outputs": []
    },
    {
      "cell_type": "code",
      "metadata": {
        "id": "id-ux2oHkpt5",
        "colab_type": "code",
        "colab": {
          "base_uri": "https://localhost:8080/",
          "height": 1037
        },
        "outputId": "bafafe87-9033-47f4-9721-f673d7afc350"
      },
      "source": [
        "nlp.vocab['namaste'].vector # replace cheese with whatever word you want!"
      ],
      "execution_count": 9,
      "outputs": [
        {
          "output_type": "execute_result",
          "data": {
            "text/plain": [
              "array([ 1.6712e-01, -1.2405e-01, -6.6796e-01,  4.7600e-01,  5.9755e-01,\n",
              "        5.1452e-01, -2.3764e-01, -8.0116e-02, -3.6755e-02, -8.4024e-01,\n",
              "        5.6909e-02, -3.1647e-02,  2.7034e-01, -5.1196e-01, -4.5864e-01,\n",
              "        1.3465e-01,  1.0157e-01, -6.7575e-01, -4.3799e-02, -1.2819e-01,\n",
              "       -2.3192e-01,  3.6284e-01,  1.9340e-01,  5.0953e-01,  5.9551e-02,\n",
              "       -7.5207e-01, -2.3583e-02,  1.6140e-01, -5.2897e-02,  1.0111e+00,\n",
              "        2.3660e-01,  1.7796e-01, -3.8463e-01,  6.7698e-02, -1.3832e-01,\n",
              "        2.6871e-01, -8.1885e-02, -1.1268e-01, -3.4461e-01, -5.8820e-01,\n",
              "       -2.1476e-02, -2.1207e-01,  4.0075e-01, -3.1574e-01,  5.8029e-01,\n",
              "       -1.2500e-01,  8.0864e-02,  3.2958e-01, -1.4880e-01,  1.1263e-01,\n",
              "        2.8775e-01,  1.9306e-01,  5.8157e-02, -5.7205e-01,  3.3520e-01,\n",
              "        2.5792e-01,  4.6802e-01,  6.6447e-01, -1.8832e-01, -5.3755e-01,\n",
              "       -5.3893e-01, -5.7998e-01,  1.1152e-01, -2.6772e-01, -2.0913e-01,\n",
              "       -9.9323e-01, -7.1427e-01,  9.4896e-01, -5.1612e-01, -1.3620e-01,\n",
              "       -2.7939e-01, -5.5197e-01,  2.2602e-01,  5.9310e-02,  3.3488e-01,\n",
              "       -1.8813e-01,  3.2020e-02, -1.2641e-01,  1.6308e-01, -2.4421e-01,\n",
              "       -1.3585e-01,  4.5097e-01,  1.3122e-03,  3.4011e-01, -6.0975e-01,\n",
              "       -3.7672e-01,  8.2519e-01, -4.9276e-01,  2.8354e-04, -5.6693e-01,\n",
              "        5.9832e-01, -1.5176e-01, -6.4744e-01,  6.2942e-01, -2.2264e-01,\n",
              "        7.3349e-01, -1.9416e-01, -4.6287e-01, -5.4610e-01,  3.0399e-01,\n",
              "       -2.6364e-01, -4.5745e-01, -1.5266e-01,  1.3083e-01, -3.3994e-02,\n",
              "       -1.0109e+00,  4.6382e-01,  3.7430e-01, -2.9717e-01,  3.2902e-01,\n",
              "       -1.8332e-01,  1.2700e-01,  1.3426e-01, -1.5738e-01, -4.5797e-02,\n",
              "       -1.8001e-01,  5.6969e-01,  6.7818e-01,  3.3631e-02, -3.5574e-01,\n",
              "        3.4245e-01, -7.2989e-01,  4.2791e-03,  3.3777e-01, -3.7535e-01,\n",
              "       -4.6761e-02,  5.2762e-01,  5.3317e-01,  9.4864e-02,  5.1470e-01,\n",
              "        4.2650e-01, -1.0746e+00, -3.0905e-02, -1.3137e-01, -7.2766e-01,\n",
              "       -4.1701e-01,  5.2466e-01, -6.9948e-02,  1.2954e-01,  5.0101e-01,\n",
              "       -6.9651e-01, -3.8756e-01, -8.0727e-01, -3.5743e-01, -5.3603e-01,\n",
              "       -2.0143e-01,  3.0776e-02,  1.4267e-01, -6.1674e-01,  2.1532e-01,\n",
              "       -1.1582e-01, -4.6043e-02, -3.0577e-01,  5.1217e-01,  3.2136e-01,\n",
              "        8.4491e-02,  3.8107e-01,  6.6564e-02,  1.7419e-01, -1.6317e-01,\n",
              "        4.4954e-01,  4.4896e-01,  2.6072e-01,  1.1849e-01,  1.8851e-01,\n",
              "        4.7602e-02, -6.8566e-01,  2.7286e-01, -6.6425e-01, -2.8832e-01,\n",
              "        2.4484e-01, -2.3394e-01,  4.5839e-01, -1.9246e-01,  1.5475e-02,\n",
              "       -2.5409e-01,  1.1415e-01, -1.4032e-01, -6.1042e-01, -6.0045e-01,\n",
              "       -6.2238e-01, -2.4057e-01, -7.1254e-02,  6.1851e-02, -1.7172e-01,\n",
              "        8.7551e-02, -2.0438e-01, -9.6471e-02, -4.5950e-02, -4.4983e-01,\n",
              "       -3.3509e-01, -4.2500e-01,  6.5445e-02, -9.4233e-01,  3.5530e-01,\n",
              "        9.2445e-02,  2.6931e-01, -3.0067e-01,  5.4749e-01,  4.9693e-01,\n",
              "        1.1341e-01,  4.0027e-01,  3.2377e-01, -9.3033e-02,  1.8588e-01,\n",
              "       -6.1249e-01,  5.3078e-01, -4.6195e-01, -7.5270e-02, -6.2472e-01,\n",
              "       -4.6730e-01, -3.6272e-01,  5.3988e-01,  1.4067e-01, -6.8873e-02,\n",
              "       -6.4409e-02,  8.1597e-01, -1.7207e-01,  3.4413e-01,  4.1218e-01,\n",
              "       -3.0454e-01,  4.5034e-01, -6.2458e-03,  2.1990e-02, -4.0742e-01,\n",
              "       -3.2754e-01, -4.2181e-01,  4.2516e-01, -5.5897e-01, -4.7292e-01,\n",
              "       -3.4684e-03, -5.3805e-01, -3.6466e-01,  1.4894e-01, -1.5022e-01,\n",
              "       -1.7527e-01, -3.7641e-01,  1.3904e-01,  5.1320e-02, -4.4009e-01,\n",
              "       -1.7597e-01,  4.9398e-01,  7.9362e-01, -5.2425e-02,  4.3611e-01,\n",
              "        9.4512e-02, -4.2263e-01, -2.9904e-01,  8.3718e-02,  3.6021e-01,\n",
              "        3.1335e-02, -1.6539e-01, -4.1257e-01, -7.0974e-01, -1.1792e-01,\n",
              "       -2.1035e-01,  5.8441e-01,  1.8591e-01, -8.8822e-01, -2.6443e-01,\n",
              "       -1.1686e-01, -3.9073e-01, -2.4197e-02,  5.8270e-01, -5.3865e-01,\n",
              "       -3.7997e-03,  2.0332e-01,  3.8449e-01, -6.5356e-01,  3.6188e-01,\n",
              "       -8.6666e-01,  1.6599e-02, -2.6472e-01,  4.3821e-01, -3.5138e-02,\n",
              "        1.5845e-02,  1.7143e-01,  3.6358e-02,  1.7754e-01,  1.5765e-01,\n",
              "       -2.9995e-01, -7.0443e-01,  8.8318e-02, -3.7498e-01,  4.2631e-01,\n",
              "        6.5286e-01, -5.4279e-01,  3.6114e-01,  4.2281e-01,  3.4662e-01,\n",
              "        9.0155e-01, -2.7560e-02, -2.3328e-01, -8.3484e-02,  7.2306e-01,\n",
              "       -2.9128e-01, -1.7962e-01,  1.8974e-01, -6.4624e-01,  3.2316e-01],\n",
              "      dtype=float32)"
            ]
          },
          "metadata": {
            "tags": []
          },
          "execution_count": 9
        }
      ]
    },
    {
      "cell_type": "code",
      "metadata": {
        "id": "VsVdF6R7jQb_",
        "colab_type": "code",
        "colab": {
          "base_uri": "https://localhost:8080/",
          "height": 67
        },
        "outputId": "7525a66b-f1fe-4ff2-d6d8-d7cdafe7c5d5"
      },
      "source": [
        "!curl -L -O http://www.cs.cornell.edu/~cristian/data/cornell_movie_dialogs_corpus.zip"
      ],
      "execution_count": 10,
      "outputs": [
        {
          "output_type": "stream",
          "text": [
            "  % Total    % Received % Xferd  Average Speed   Time    Time     Time  Current\n",
            "                                 Dload  Upload   Total   Spent    Left  Speed\n",
            "100 9684k  100 9684k    0     0  1925k      0  0:00:05  0:00:05 --:--:-- 2278k\n"
          ],
          "name": "stdout"
        }
      ]
    },
    {
      "cell_type": "code",
      "metadata": {
        "id": "hz1Hm3mLjQWc",
        "colab_type": "code",
        "colab": {
          "base_uri": "https://localhost:8080/",
          "height": 268
        },
        "outputId": "0e5750b9-c004-4aa9-e32a-b4934052b738"
      },
      "source": [
        "!unzip cornell_movie_dialogs_corpus.zip"
      ],
      "execution_count": 11,
      "outputs": [
        {
          "output_type": "stream",
          "text": [
            "Archive:  cornell_movie_dialogs_corpus.zip\n",
            "   creating: cornell movie-dialogs corpus/\n",
            "  inflating: cornell movie-dialogs corpus/.DS_Store  \n",
            "   creating: __MACOSX/\n",
            "   creating: __MACOSX/cornell movie-dialogs corpus/\n",
            "  inflating: __MACOSX/cornell movie-dialogs corpus/._.DS_Store  \n",
            "  inflating: cornell movie-dialogs corpus/chameleons.pdf  \n",
            "  inflating: __MACOSX/cornell movie-dialogs corpus/._chameleons.pdf  \n",
            "  inflating: cornell movie-dialogs corpus/movie_characters_metadata.txt  \n",
            "  inflating: cornell movie-dialogs corpus/movie_conversations.txt  \n",
            "  inflating: cornell movie-dialogs corpus/movie_lines.txt  \n",
            "  inflating: cornell movie-dialogs corpus/movie_titles_metadata.txt  \n",
            "  inflating: cornell movie-dialogs corpus/raw_script_urls.txt  \n",
            "  inflating: cornell movie-dialogs corpus/README.txt  \n",
            "  inflating: __MACOSX/cornell movie-dialogs corpus/._README.txt  \n"
          ],
          "name": "stdout"
        }
      ]
    },
    {
      "cell_type": "code",
      "metadata": {
        "id": "RRySxjyOjQRn",
        "colab_type": "code",
        "colab": {}
      },
      "source": [
        "movie_lines = {}\n",
        "for line in open(\"./cornell movie-dialogs corpus/movie_lines.txt\",\n",
        "                 encoding=\"latin1\"):\n",
        "    line = line.strip()\n",
        "    parts = line.split(\" +++$+++ \")\n",
        "    if len(parts) == 5:\n",
        "        movie_lines[parts[0]] = parts[4]\n",
        "    else:\n",
        "        movie_lines[parts[0]] = \"\""
      ],
      "execution_count": 0,
      "outputs": []
    },
    {
      "cell_type": "code",
      "metadata": {
        "id": "yy3tRxfTmG6A",
        "colab_type": "code",
        "colab": {}
      },
      "source": [
        "import json\n",
        "responses = {}\n",
        "for line in open(\"./cornell movie-dialogs corpus/movie_conversations.txt\",\n",
        "                 encoding=\"latin1\"):\n",
        "    line = line.strip()\n",
        "    parts = line.split(\" +++$+++ \")\n",
        "    line_ids = json.loads(parts[3].replace(\"'\", '\"'))\n",
        "    for first, second in zip(line_ids[:-1], line_ids[1:]):\n",
        "        responses[first] = second"
      ],
      "execution_count": 0,
      "outputs": []
    },
    {
      "cell_type": "code",
      "metadata": {
        "id": "FLtiSIgDmHoV",
        "colab_type": "code",
        "colab": {
          "base_uri": "https://localhost:8080/",
          "height": 268
        },
        "outputId": "7a67967e-69b0-4c05-89b3-8895e2b2f945"
      },
      "source": [
        "import random\n",
        "for pair in random.sample(responses.items(), 5):\n",
        "    print(\"A:\", movie_lines[pair[0]])\n",
        "    print(\"B:\", movie_lines[pair[1]])\n",
        "    print()"
      ],
      "execution_count": 14,
      "outputs": [
        {
          "output_type": "stream",
          "text": [
            "A: Well -- nice to know life exists outside the office.\n",
            "B: Yes.\n",
            "\n",
            "A: I'm sorry if I caught you at a bad time.\n",
            "B: We're just a little tense right now...  It's okay.\n",
            "\n",
            "A: I really don't have much of an appetite.\n",
            "B: Just wait.\n",
            "\n",
            "A: I want my man back.\n",
            "B: Just a moment, how did you get in here?\n",
            "\n",
            "A: I do, she's real funny.\n",
            "B: He likes her better than me.\n",
            "\n"
          ],
          "name": "stdout"
        }
      ]
    },
    {
      "cell_type": "code",
      "metadata": {
        "id": "MNqRtpJWmHtx",
        "colab_type": "code",
        "colab": {
          "base_uri": "https://localhost:8080/",
          "height": 33
        },
        "outputId": "64128e82-4623-483f-bff2-916ea6c049f6"
      },
      "source": [
        "import numpy as np\n",
        "def sentence_mean(nlp, s):\n",
        "    if s == \"\":\n",
        "        s = \" \"\n",
        "    doc = nlp(s, disable=['tagger', 'parser'])\n",
        "    return np.mean(np.array([w.vector for w in doc]), axis=0)\n",
        "sentence_mean(nlp, \"This... is a test.\").shape"
      ],
      "execution_count": 15,
      "outputs": [
        {
          "output_type": "execute_result",
          "data": {
            "text/plain": [
              "(300,)"
            ]
          },
          "metadata": {
            "tags": []
          },
          "execution_count": 15
        }
      ]
    },
    {
      "cell_type": "code",
      "metadata": {
        "id": "UKg7dcmJmHzY",
        "colab_type": "code",
        "colab": {
          "base_uri": "https://localhost:8080/",
          "height": 221
        },
        "outputId": "1cf73804-7d6a-4d9a-8c9b-13f97628f08c"
      },
      "source": [
        "!pip install simpleneighbors"
      ],
      "execution_count": 16,
      "outputs": [
        {
          "output_type": "stream",
          "text": [
            "Collecting simpleneighbors\n",
            "  Downloading https://files.pythonhosted.org/packages/a2/8e/b8ca38e4305bdf5c4cac5d9bf4b65022a2d3641a978b28ce92f9e4063c7b/simpleneighbors-0.0.1-py2.py3-none-any.whl\n",
            "Collecting annoy (from simpleneighbors)\n",
            "\u001b[?25l  Downloading https://files.pythonhosted.org/packages/cc/b2/37c2e81952bc2ea7db909b5a698079a432197dc722ac68d61d218878499f/annoy-1.15.2.tar.gz (636kB)\n",
            "\u001b[K     |████████████████████████████████| 645kB 7.1MB/s \n",
            "\u001b[?25hBuilding wheels for collected packages: annoy\n",
            "  Building wheel for annoy (setup.py) ... \u001b[?25l\u001b[?25hdone\n",
            "  Stored in directory: /root/.cache/pip/wheels/d4/78/3a/1c913a402f4d84f68eb0ea4f7c0de0d392725415c8ebe51068\n",
            "Successfully built annoy\n",
            "Installing collected packages: annoy, simpleneighbors\n",
            "Successfully installed annoy-1.15.2 simpleneighbors-0.0.1\n"
          ],
          "name": "stdout"
        }
      ]
    },
    {
      "cell_type": "code",
      "metadata": {
        "id": "Z4QGSqPAmHtI",
        "colab_type": "code",
        "colab": {
          "base_uri": "https://localhost:8080/",
          "height": 204
        },
        "outputId": "e761a30a-7a5b-482d-b8e2-e37a0e9c2148"
      },
      "source": [
        "from simpleneighbors import SimpleNeighbors\n",
        "\n",
        "nns = SimpleNeighbors(300)\n",
        "for i, line_id in enumerate(random.sample(list(responses.keys()), 10000)):\n",
        "    # show progress\n",
        "    if i % 1000 == 0: print(i, line_id, movie_lines[line_id])\n",
        "    line_text = movie_lines[line_id]\n",
        "    summary_vector = sentence_mean(nlp, line_text)\n",
        "    if np.any(summary_vector):\n",
        "        nns.add_one(line_id, summary_vector)\n",
        "nns.build()"
      ],
      "execution_count": 17,
      "outputs": [
        {
          "output_type": "stream",
          "text": [
            "0 L151893 Maybe you should go out with him. If you keep avoiding him he'll get suspicious. Besides, what better way to not get busted than to date the cop who's investigating you.\n",
            "1000 L10285 I saw something!  I'm not going to go back there and say I didn't see it when I did.  I'm sorry.\n",
            "2000 L552232 Well, what about the Positive Control, the safety catch?  Don't the planes automatically come back unless they get a second order?\n",
            "3000 L104104 My walkie talkie's busted. I can't tell what's going on.\n",
            "4000 L162670 Yeah, right. She wishes. Look at that big ass.\n",
            "5000 L422966 I'm a difficult but brilliant junior officer who in about twenty minutes will save the world from nuclear disaster.\n",
            "6000 L482346 This has nothing to do with him.\n",
            "7000 L189589 You want my number?\n",
            "8000 L100886 Yeah right, and which ever of us is still alive at the end of the week inherits all Vincent Price's cash.\n",
            "9000 L356235 Sit down a minute.\n"
          ],
          "name": "stdout"
        }
      ]
    },
    {
      "cell_type": "code",
      "metadata": {
        "id": "pu1Wl2UqmHnR",
        "colab_type": "code",
        "colab": {
          "base_uri": "https://localhost:8080/",
          "height": 117
        },
        "outputId": "d94085eb-75ae-4aba-b010-02c5568eac41"
      },
      "source": [
        "sentence = \"I like making bots.\"\n",
        "picked = nns.nearest(sentence_mean(nlp, sentence), 5)[0]\n",
        "response_line_id = responses[picked]\n",
        "\n",
        "print(\"Your line:\\n\\t\", sentence)\n",
        "print(\"Most similar turn:\\n\\t\", movie_lines[picked])\n",
        "print(\"Response to most similar turn:\\n\\t\", movie_lines[response_line_id])"
      ],
      "execution_count": 18,
      "outputs": [
        {
          "output_type": "stream",
          "text": [
            "Your line:\n",
            "\t I like making bots.\n",
            "Most similar turn:\n",
            "\t I like you.\n",
            "Response to most similar turn:\n",
            "\t Do you?\n"
          ],
          "name": "stdout"
        }
      ]
    },
    {
      "cell_type": "code",
      "metadata": {
        "id": "FtGNCpZqmweZ",
        "colab_type": "code",
        "colab": {
          "base_uri": "https://localhost:8080/",
          "height": 589
        },
        "outputId": "76a314f0-04a5-4047-ef75-30130adc6c7f"
      },
      "source": [
        "!pip install https://github.com/aparrish/semanticsimilaritychatbot/archive/master.zip"
      ],
      "execution_count": 19,
      "outputs": [
        {
          "output_type": "stream",
          "text": [
            "Collecting https://github.com/aparrish/semanticsimilaritychatbot/archive/master.zip\n",
            "\u001b[?25l  Downloading https://github.com/aparrish/semanticsimilaritychatbot/archive/master.zip\n",
            "\u001b[K     | 153kB 1.6MB/s\n",
            "\u001b[?25hRequirement already satisfied: simpleneighbors in /usr/local/lib/python3.6/dist-packages (from semanticsimilaritychatbot==0.0.1) (0.0.1)\n",
            "Requirement already satisfied: spacy in /usr/local/lib/python3.6/dist-packages (from semanticsimilaritychatbot==0.0.1) (2.0.18)\n",
            "Requirement already satisfied: numpy in /usr/local/lib/python3.6/dist-packages (from semanticsimilaritychatbot==0.0.1) (1.16.1)\n",
            "Requirement already satisfied: annoy in /usr/local/lib/python3.6/dist-packages (from simpleneighbors->semanticsimilaritychatbot==0.0.1) (1.15.2)\n",
            "Requirement already satisfied: dill<0.3,>=0.2 in /usr/local/lib/python3.6/dist-packages (from spacy->semanticsimilaritychatbot==0.0.1) (0.2.9)\n",
            "Requirement already satisfied: regex==2018.01.10 in /usr/local/lib/python3.6/dist-packages (from spacy->semanticsimilaritychatbot==0.0.1) (2018.1.10)\n",
            "Requirement already satisfied: thinc<6.13.0,>=6.12.1 in /usr/local/lib/python3.6/dist-packages (from spacy->semanticsimilaritychatbot==0.0.1) (6.12.1)\n",
            "Requirement already satisfied: cymem<2.1.0,>=2.0.2 in /usr/local/lib/python3.6/dist-packages (from spacy->semanticsimilaritychatbot==0.0.1) (2.0.2)\n",
            "Requirement already satisfied: plac<1.0.0,>=0.9.6 in /usr/local/lib/python3.6/dist-packages (from spacy->semanticsimilaritychatbot==0.0.1) (0.9.6)\n",
            "Requirement already satisfied: murmurhash<1.1.0,>=0.28.0 in /usr/local/lib/python3.6/dist-packages (from spacy->semanticsimilaritychatbot==0.0.1) (1.0.2)\n",
            "Requirement already satisfied: preshed<2.1.0,>=2.0.1 in /usr/local/lib/python3.6/dist-packages (from spacy->semanticsimilaritychatbot==0.0.1) (2.0.1)\n",
            "Requirement already satisfied: ujson>=1.35 in /usr/local/lib/python3.6/dist-packages (from spacy->semanticsimilaritychatbot==0.0.1) (1.35)\n",
            "Requirement already satisfied: requests<3.0.0,>=2.13.0 in /usr/local/lib/python3.6/dist-packages (from spacy->semanticsimilaritychatbot==0.0.1) (2.21.0)\n",
            "Requirement already satisfied: tqdm<5.0.0,>=4.10.0 in /usr/local/lib/python3.6/dist-packages (from thinc<6.13.0,>=6.12.1->spacy->semanticsimilaritychatbot==0.0.1) (4.28.1)\n",
            "Requirement already satisfied: msgpack<0.6.0,>=0.5.6 in /usr/local/lib/python3.6/dist-packages (from thinc<6.13.0,>=6.12.1->spacy->semanticsimilaritychatbot==0.0.1) (0.5.6)\n",
            "Requirement already satisfied: cytoolz<0.10,>=0.9.0 in /usr/local/lib/python3.6/dist-packages (from thinc<6.13.0,>=6.12.1->spacy->semanticsimilaritychatbot==0.0.1) (0.9.0.1)\n",
            "Requirement already satisfied: wrapt<1.11.0,>=1.10.0 in /usr/local/lib/python3.6/dist-packages (from thinc<6.13.0,>=6.12.1->spacy->semanticsimilaritychatbot==0.0.1) (1.10.11)\n",
            "Requirement already satisfied: six<2.0.0,>=1.10.0 in /usr/local/lib/python3.6/dist-packages (from thinc<6.13.0,>=6.12.1->spacy->semanticsimilaritychatbot==0.0.1) (1.12.0)\n",
            "Requirement already satisfied: msgpack-numpy<0.4.4 in /usr/local/lib/python3.6/dist-packages (from thinc<6.13.0,>=6.12.1->spacy->semanticsimilaritychatbot==0.0.1) (0.4.3.2)\n",
            "Requirement already satisfied: urllib3<1.25,>=1.21.1 in /usr/local/lib/python3.6/dist-packages (from requests<3.0.0,>=2.13.0->spacy->semanticsimilaritychatbot==0.0.1) (1.24.2)\n",
            "Requirement already satisfied: certifi>=2017.4.17 in /usr/local/lib/python3.6/dist-packages (from requests<3.0.0,>=2.13.0->spacy->semanticsimilaritychatbot==0.0.1) (2019.3.9)\n",
            "Requirement already satisfied: idna<2.9,>=2.5 in /usr/local/lib/python3.6/dist-packages (from requests<3.0.0,>=2.13.0->spacy->semanticsimilaritychatbot==0.0.1) (2.8)\n",
            "Requirement already satisfied: chardet<3.1.0,>=3.0.2 in /usr/local/lib/python3.6/dist-packages (from requests<3.0.0,>=2.13.0->spacy->semanticsimilaritychatbot==0.0.1) (3.0.4)\n",
            "Requirement already satisfied: toolz>=0.8.0 in /usr/local/lib/python3.6/dist-packages (from cytoolz<0.10,>=0.9.0->thinc<6.13.0,>=6.12.1->spacy->semanticsimilaritychatbot==0.0.1) (0.9.0)\n",
            "Building wheels for collected packages: semanticsimilaritychatbot\n",
            "  Building wheel for semanticsimilaritychatbot (setup.py) ... \u001b[?25l\u001b[?25hdone\n",
            "  Stored in directory: /tmp/pip-ephem-wheel-cache-jjyll47y/wheels/f7/af/8e/8a8fbef31bfbfc3b935425efa03db03825795d85f4e23f8255\n",
            "Successfully built semanticsimilaritychatbot\n",
            "Installing collected packages: semanticsimilaritychatbot\n",
            "Successfully installed semanticsimilaritychatbot-0.0.1\n"
          ],
          "name": "stdout"
        }
      ]
    },
    {
      "cell_type": "code",
      "metadata": {
        "id": "-x6fnhx3nGlT",
        "colab_type": "code",
        "colab": {}
      },
      "source": [
        "from semanticsimilaritychatbot import SemanticSimilarityChatbot\n",
        "chatbot = SemanticSimilarityChatbot(nlp, 300)"
      ],
      "execution_count": 0,
      "outputs": []
    },
    {
      "cell_type": "code",
      "metadata": {
        "id": "3Z0FcKfdnY7n",
        "colab_type": "code",
        "colab": {}
      },
      "source": [
        "sample_n = 10000\n",
        "for first_id, second_id in random.sample(list(responses.items()), sample_n):\n",
        "    chatbot.add_pair(movie_lines[first_id], movie_lines[second_id])\n",
        "chatbot.build()"
      ],
      "execution_count": 0,
      "outputs": []
    },
    {
      "cell_type": "code",
      "metadata": {
        "id": "kRUSHwXOnZDD",
        "colab_type": "code",
        "colab": {
          "base_uri": "https://localhost:8080/",
          "height": 33
        },
        "outputId": "3cddfc32-c154-4cc3-da78-68ad0b92a168"
      },
      "source": [
        "print(chatbot.response_for(\"Hello computer!\"))"
      ],
      "execution_count": 22,
      "outputs": [
        {
          "output_type": "stream",
          "text": [
            "Show's over unless I get to see what you've been working on after hours.\n"
          ],
          "name": "stdout"
        }
      ]
    },
    {
      "cell_type": "code",
      "metadata": {
        "id": "KyX0mnFgnZMH",
        "colab_type": "code",
        "colab": {
          "base_uri": "https://localhost:8080/",
          "height": 518
        },
        "outputId": "51c72222-7ecf-45ce-86c6-069008b35ccc"
      },
      "source": [
        "my_turn = \"The weather's nice today, don't you think?\"\n",
        "for i in range(5, 51, 5):\n",
        "    print(\"picking from\", i, \"possible responses:\")\n",
        "    print(chatbot.response_for(my_turn, i))\n",
        "    print()"
      ],
      "execution_count": 23,
      "outputs": [
        {
          "output_type": "stream",
          "text": [
            "picking from 5 possible responses:\n",
            "Dan, are you really that paranoid?  Let's face it, Eddie Blake was no Mother Teresa.\n",
            "\n",
            "picking from 10 possible responses:\n",
            "Don't bother.\n",
            "\n",
            "picking from 15 possible responses:\n",
            "Dan, are you really that paranoid?  Let's face it, Eddie Blake was no Mother Teresa.\n",
            "\n",
            "picking from 20 possible responses:\n",
            "What?\n",
            "\n",
            "picking from 25 possible responses:\n",
            "What'll it do if they pull the plug?\n",
            "\n",
            "picking from 30 possible responses:\n",
            "Don't bother.\n",
            "\n",
            "picking from 35 possible responses:\n",
            "Speak.\n",
            "\n",
            "picking from 40 possible responses:\n",
            "No, I had a dream about daddy.  Do you think I'll ever meet anyone like him?\n",
            "\n",
            "picking from 45 possible responses:\n",
            "It's not that easy.\n",
            "\n",
            "picking from 50 possible responses:\n",
            "Jeez, Mom, stop trippin'.\n",
            "\n"
          ],
          "name": "stdout"
        }
      ]
    },
    {
      "cell_type": "code",
      "metadata": {
        "id": "-EuPtNzDn3dg",
        "colab_type": "code",
        "colab": {}
      },
      "source": [
        "chatbot.save(\"movielines-10k-sample\")"
      ],
      "execution_count": 0,
      "outputs": []
    },
    {
      "cell_type": "code",
      "metadata": {
        "id": "FWLepa3qn_jk",
        "colab_type": "code",
        "colab": {}
      },
      "source": [
        "chatbot = SemanticSimilarityChatbot.load(\"movielines-10k-sample\", nlp)"
      ],
      "execution_count": 0,
      "outputs": []
    },
    {
      "cell_type": "code",
      "metadata": {
        "id": "SB__ilYTn_m6",
        "colab_type": "code",
        "colab": {
          "base_uri": "https://localhost:8080/",
          "height": 33
        },
        "outputId": "cf69b461-d85d-4164-a1cb-a79ccfa7f91d"
      },
      "source": [
        "print(chatbot.response_for(\"I'm going to eat something.\"))"
      ],
      "execution_count": 26,
      "outputs": [
        {
          "output_type": "stream",
          "text": [
            "Oh. Well, wasn't it Shakespeare who said: \"When strangers do meet they should erelong see one another again\"?\n"
          ],
          "name": "stdout"
        }
      ]
    },
    {
      "cell_type": "code",
      "metadata": {
        "id": "0ewawSQbn_qV",
        "colab_type": "code",
        "colab": {}
      },
      "source": [
        "from google.colab import files\n",
        "files.download('movielines-10k-sample.annoy')\n",
        "files.download('movielines-10k-sample-data.pkl')\n",
        "files.download('movielines-10k-sample-chatbot.pkl')"
      ],
      "execution_count": 0,
      "outputs": []
    },
    {
      "cell_type": "code",
      "metadata": {
        "id": "eTLjtRGdokx8",
        "colab_type": "code",
        "colab": {}
      },
      "source": [
        "chatbot_html = \"\"\"\n",
        "<style type=\"text/css\">#log p { margin: 5px; font-family: sans-serif; }</style>\n",
        "<div id=\"log\"\n",
        "     style=\"box-sizing: border-box;\n",
        "            width: 600px;\n",
        "            height: 32em;\n",
        "            border: 1px grey solid;\n",
        "            padding: 2px;\n",
        "            overflow: scroll;\">\n",
        "</div>\n",
        "<input type=\"text\" id=\"typehere\" placeholder=\"type here!\"\n",
        "       style=\"box-sizing: border-box;\n",
        "              width: 600px;\n",
        "              margin-top: 5px;\">\n",
        "<script>\n",
        "function paraWithText(t) {\n",
        "    let tn = document.createTextNode(t);\n",
        "    let ptag = document.createElement('p');\n",
        "    ptag.appendChild(tn);\n",
        "    return ptag;\n",
        "}\n",
        "document.querySelector('#typehere').onchange = async function() {\n",
        "    let inputField = document.querySelector('#typehere');\n",
        "    let val = inputField.value;\n",
        "    inputField.value = \"\";\n",
        "    let resp = await getResp(val);\n",
        "    let objDiv = document.getElementById(\"log\");\n",
        "    objDiv.appendChild(paraWithText('😀: ' + val));\n",
        "    objDiv.appendChild(paraWithText('🤖: ' + resp));\n",
        "    objDiv.scrollTop = objDiv.scrollHeight;\n",
        "};\n",
        "async function colabGetResp(val) {\n",
        "    let resp = await google.colab.kernel.invokeFunction(\n",
        "        'notebook.get_response', [val], {});\n",
        "    return resp.data['application/json']['result'];\n",
        "}\n",
        "async function webGetResp(val) {\n",
        "    let resp = await fetch(\"/response.json?sentence=\" + \n",
        "        encodeURIComponent(val));\n",
        "    let data = await resp.json();\n",
        "    return data['result'];\n",
        "}\n",
        "</script>\n",
        "\"\"\""
      ],
      "execution_count": 0,
      "outputs": []
    },
    {
      "cell_type": "code",
      "metadata": {
        "id": "ct8P0RWvok2V",
        "colab_type": "code",
        "colab": {
          "base_uri": "https://localhost:8080/",
          "height": 490
        },
        "outputId": "c5ab3aed-5377-4306-b34d-3d9236f20698"
      },
      "source": [
        "import IPython\n",
        "from google.colab import output\n",
        "\n",
        "display(IPython.display.HTML(chatbot_html + \\\n",
        "                             \"<script>let getResp = colabGetResp;</script>\"))\n",
        "\n",
        "def get_response(val):\n",
        "    resp = chatbot.response_for(val)\n",
        "    return IPython.display.JSON({'result': resp})\n",
        "\n",
        "output.register_callback('notebook.get_response', get_response)"
      ],
      "execution_count": 31,
      "outputs": [
        {
          "output_type": "display_data",
          "data": {
            "text/html": [
              "\n",
              "<style type=\"text/css\">#log p { margin: 5px; font-family: sans-serif; }</style>\n",
              "<div id=\"log\"\n",
              "     style=\"box-sizing: border-box;\n",
              "            width: 600px;\n",
              "            height: 32em;\n",
              "            border: 1px grey solid;\n",
              "            padding: 2px;\n",
              "            overflow: scroll;\">\n",
              "</div>\n",
              "<input type=\"text\" id=\"typehere\" placeholder=\"type here!\"\n",
              "       style=\"box-sizing: border-box;\n",
              "              width: 600px;\n",
              "              margin-top: 5px;\">\n",
              "<script>\n",
              "function paraWithText(t) {\n",
              "    let tn = document.createTextNode(t);\n",
              "    let ptag = document.createElement('p');\n",
              "    ptag.appendChild(tn);\n",
              "    return ptag;\n",
              "}\n",
              "document.querySelector('#typehere').onchange = async function() {\n",
              "    let inputField = document.querySelector('#typehere');\n",
              "    let val = inputField.value;\n",
              "    inputField.value = \"\";\n",
              "    let resp = await getResp(val);\n",
              "    let objDiv = document.getElementById(\"log\");\n",
              "    objDiv.appendChild(paraWithText('😀: ' + val));\n",
              "    objDiv.appendChild(paraWithText('🤖: ' + resp));\n",
              "    objDiv.scrollTop = objDiv.scrollHeight;\n",
              "};\n",
              "async function colabGetResp(val) {\n",
              "    let resp = await google.colab.kernel.invokeFunction(\n",
              "        'notebook.get_response', [val], {});\n",
              "    return resp.data['application/json']['result'];\n",
              "}\n",
              "async function webGetResp(val) {\n",
              "    let resp = await fetch(\"/response.json?sentence=\" + \n",
              "        encodeURIComponent(val));\n",
              "    let data = await resp.json();\n",
              "    return data['result'];\n",
              "}\n",
              "</script>\n",
              "<script>let getResp = colabGetResp;</script>"
            ],
            "text/plain": [
              "<IPython.core.display.HTML object>"
            ]
          },
          "metadata": {
            "tags": []
          }
        }
      ]
    },
    {
      "cell_type": "code",
      "metadata": {
        "id": "BL2XnFszok6C",
        "colab_type": "code",
        "colab": {}
      },
      "source": [
        ""
      ],
      "execution_count": 0,
      "outputs": []
    }
  ]
}