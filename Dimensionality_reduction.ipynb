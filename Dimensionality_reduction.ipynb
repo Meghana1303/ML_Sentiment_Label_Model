{
  "nbformat": 4,
  "nbformat_minor": 0,
  "metadata": {
    "colab": {
      "name": "Dimensionality reduction.ipynb",
      "version": "0.3.2",
      "provenance": [],
      "collapsed_sections": [],
      "include_colab_link": true
    },
    "kernelspec": {
      "name": "python3",
      "display_name": "Python 3"
    }
  },
  "cells": [
    {
      "cell_type": "markdown",
      "metadata": {
        "id": "view-in-github",
        "colab_type": "text"
      },
      "source": [
        "<a href=\"https://colab.research.google.com/github/Meghana1303/ML_Sentiment_Label_Model/blob/master/Dimensionality_reduction.ipynb\" target=\"_parent\"><img src=\"https://colab.research.google.com/assets/colab-badge.svg\" alt=\"Open In Colab\"/></a>"
      ]
    },
    {
      "cell_type": "code",
      "metadata": {
        "id": "mBROl7fWlWu0",
        "colab_type": "code",
        "colab": {}
      },
      "source": [
        "import pandas as pd\n",
        "import sklearn.model_selection as ms\n",
        "from sklearn import linear_model\n",
        "import sklearn.metrics as sklm\n",
        "import sklearn.decomposition as skde\n",
        "import numpy as np\n",
        "import numpy.random as nr\n",
        "import matplotlib.pyplot as plt\n",
        "import math\n",
        "\n",
        "%matplotlib inline"
      ],
      "execution_count": 0,
      "outputs": []
    },
    {
      "cell_type": "code",
      "metadata": {
        "id": "OhTZRAlfl5Cu",
        "colab_type": "code",
        "colab": {
          "base_uri": "https://localhost:8080/",
          "height": 33
        },
        "outputId": "d3e10555-a628-4a4e-dbaf-a3e3c766e560"
      },
      "source": [
        "nr.seed(124)\n",
        "cov = np.array([[1.0, 0.6], [0.6, 1.0]])\n",
        "mean = np.array([0.0, 0.0])\n",
        "\n",
        "sample = nr.multivariate_normal(mean, cov, 100)\n",
        "sample.shape"
      ],
      "execution_count": 2,
      "outputs": [
        {
          "output_type": "execute_result",
          "data": {
            "text/plain": [
              "(100, 2)"
            ]
          },
          "metadata": {
            "tags": []
          },
          "execution_count": 2
        }
      ]
    },
    {
      "cell_type": "code",
      "metadata": {
        "id": "7w_7YVvjl6Zs",
        "colab_type": "code",
        "colab": {
          "base_uri": "https://localhost:8080/",
          "height": 311
        },
        "outputId": "eea5763d-aa29-4b82-9b0b-938d41101822"
      },
      "source": [
        "plt.scatter(sample[:,0], sample[:,1])\n",
        "plt.xlabel('Dimension 1')\n",
        "plt.ylabel('Dimension 2')\n",
        "plt.title('Sample data')"
      ],
      "execution_count": 3,
      "outputs": [
        {
          "output_type": "execute_result",
          "data": {
            "text/plain": [
              "Text(0.5, 1.0, 'Sample data')"
            ]
          },
          "metadata": {
            "tags": []
          },
          "execution_count": 3
        },
        {
          "output_type": "display_data",
          "data": {
            "image/png": "[encoded data removed]",
            "text/plain": [
              "<Figure size 432x288 with 1 Axes>"
            ]
          },
          "metadata": {
            "tags": []
          }
        }
      ]
    },
    {
      "cell_type": "code",
      "metadata": {
        "id": "ClqLGJ24l6fg",
        "colab_type": "code",
        "colab": {
          "base_uri": "https://localhost:8080/",
          "height": 33
        },
        "outputId": "e8a010d7-b068-4864-fa9f-2a77909f78e2"
      },
      "source": [
        "pca_model = skde.PCA()\n",
        "pca_fit = pca_model.fit(sample)\n",
        "print(pca_fit.explained_variance_ratio_)"
      ],
      "execution_count": 4,
      "outputs": [
        {
          "output_type": "stream",
          "text": [
            "[0.84530942 0.15469058]\n"
          ],
          "name": "stdout"
        }
      ]
    },
    {
      "cell_type": "code",
      "metadata": {
        "id": "XCh1CUDWl6eZ",
        "colab_type": "code",
        "colab": {
          "base_uri": "https://localhost:8080/",
          "height": 50
        },
        "outputId": "0a5a3395-4d87-4d2e-e034-e7a771a2c77a"
      },
      "source": [
        "comps = pca_fit.components_\n",
        "for i in range(2):\n",
        "    comps[:,i] = comps[:,i] * pca_fit.explained_variance_ratio_\n",
        "print(comps)"
      ],
      "execution_count": 5,
      "outputs": [
        {
          "output_type": "stream",
          "text": [
            "[[ 0.51185182  0.67272262]\n",
            " [-0.12310741  0.09366825]]\n"
          ],
          "name": "stdout"
        }
      ]
    },
    {
      "cell_type": "code",
      "metadata": {
        "id": "dMUFwL7Al6Yu",
        "colab_type": "code",
        "colab": {
          "base_uri": "https://localhost:8080/",
          "height": 311
        },
        "outputId": "7ee707ae-9db2-4d61-d0b6-cc7da003c530"
      },
      "source": [
        "plt.scatter(sample[:,0], sample[:,1])\n",
        "# plt.plot([0.0, comps[0,0]], [0.0,comps[0,1]], color = 'red', linewidth = 5)\n",
        "# plt.plot([0.0, comps[1,0]], [0.0,comps[1,1]], color = 'red', linewidth = 5)\n",
        "plt.plot([0.0, comps[0,0]], [0.0,comps[0,1]], color = 'red', linewidth = 5)\n",
        "plt.plot([0.0, comps[1,0]], [0.0,comps[1,1]], color = 'red', linewidth = 5)\n",
        "\n",
        "plt.xlabel('Dimension 1')\n",
        "plt.ylabel('Dimension 2')\n",
        "plt.title('Sample data')"
      ],
      "execution_count": 6,
      "outputs": [
        {
          "output_type": "execute_result",
          "data": {
            "text/plain": [
              "Text(0.5, 1.0, 'Sample data')"
            ]
          },
          "metadata": {
            "tags": []
          },
          "execution_count": 6
        },
        {
          "output_type": "display_data",
          "data": {
            "image/png": "[encoded data removed]",
            "text/plain": [
              "<Figure size 432x288 with 1 Axes>"
            ]
          },
          "metadata": {
            "tags": []
          }
        }
      ]
    },
    {
      "cell_type": "code",
      "metadata": {
        "id": "vk9d_E_nmNu-",
        "colab_type": "code",
        "colab": {
          "base_uri": "https://localhost:8080/",
          "height": 311
        },
        "outputId": "fcac328a-c089-4871-f751-18cb9a115175"
      },
      "source": [
        "trans = pca_fit.transform(sample)\n",
        "plt.scatter(trans[:,0], trans[:,1])\n",
        "plt.xlabel('Dimension 1')\n",
        "plt.ylabel('Dimension 2')\n",
        "plt.title('Sample data')"
      ],
      "execution_count": 7,
      "outputs": [
        {
          "output_type": "execute_result",
          "data": {
            "text/plain": [
              "Text(0.5, 1.0, 'Sample data')"
            ]
          },
          "metadata": {
            "tags": []
          },
          "execution_count": 7
        },
        {
          "output_type": "display_data",
          "data": {
            "image/png": "[encoded data removed]",
            "text/plain": [
              "<Figure size 432x288 with 1 Axes>"
            ]
          },
          "metadata": {
            "tags": []
          }
        }
      ]
    },
    {
      "cell_type": "code",
      "metadata": {
        "id": "nhgLNIvfmQnW",
        "colab_type": "code",
        "colab": {
          "base_uri": "https://localhost:8080/",
          "height": 50
        },
        "outputId": "6eca70d7-4911-4771-de8f-d2a58d5ed68c"
      },
      "source": [
        "Features = np.array(pd.read_csv('Credit_Features.csv'))\n",
        "Labels = np.array(pd.read_csv('Credit_Labels.csv'))\n",
        "print(Features.shape)\n",
        "print(Labels.shape)"
      ],
      "execution_count": 8,
      "outputs": [
        {
          "output_type": "stream",
          "text": [
            "(1000, 35)\n",
            "(1000, 1)\n"
          ],
          "name": "stdout"
        }
      ]
    },
    {
      "cell_type": "code",
      "metadata": {
        "id": "pisistz4mUu2",
        "colab_type": "code",
        "colab": {}
      },
      "source": [
        "## Randomly sample cases to create independent training and test data\n",
        "nr.seed(1115)\n",
        "indx = range(Features.shape[0])\n",
        "indx = ms.train_test_split(indx, test_size = 300)\n",
        "X_train = Features[indx[0],:]\n",
        "y_train = np.ravel(Labels[indx[0]])\n",
        "X_test = Features[indx[1],:]\n",
        "y_test = np.ravel(Labels[indx[1]])"
      ],
      "execution_count": 0,
      "outputs": []
    },
    {
      "cell_type": "code",
      "metadata": {
        "id": "3JGUojV2mXcA",
        "colab_type": "code",
        "colab": {
          "base_uri": "https://localhost:8080/",
          "height": 50
        },
        "outputId": "acb10342-6e36-430a-b564-1057dc2d439c"
      },
      "source": [
        "pca_mod = skde.PCA()\n",
        "pca_comps = pca_mod.fit(X_train)\n",
        "pca_comps"
      ],
      "execution_count": 10,
      "outputs": [
        {
          "output_type": "execute_result",
          "data": {
            "text/plain": [
              "PCA(copy=True, iterated_power='auto', n_components=None, random_state=None,\n",
              "  svd_solver='auto', tol=0.0, whiten=False)"
            ]
          },
          "metadata": {
            "tags": []
          },
          "execution_count": 10
        }
      ]
    },
    {
      "cell_type": "code",
      "metadata": {
        "id": "HpZlXfiWma1b",
        "colab_type": "code",
        "colab": {
          "base_uri": "https://localhost:8080/",
          "height": 184
        },
        "outputId": "470906e8-a21f-4f1a-f505-780bc93f04c6"
      },
      "source": [
        "print(pca_comps.explained_variance_ratio_)\n",
        "print(np.sum(pca_comps.explained_variance_ratio_))"
      ],
      "execution_count": 11,
      "outputs": [
        {
          "output_type": "stream",
          "text": [
            "[2.14454905e-01 1.45271147e-01 1.28532553e-01 5.55554330e-02\n",
            " 4.91723911e-02 4.27625372e-02 3.78015441e-02 3.52905162e-02\n",
            " 3.40935676e-02 2.98736044e-02 2.82623202e-02 2.63144677e-02\n",
            " 2.40299754e-02 2.20162922e-02 1.72330465e-02 1.70031525e-02\n",
            " 1.60567422e-02 1.37503175e-02 1.27040327e-02 1.02826434e-02\n",
            " 9.12460219e-03 7.13807162e-03 6.43465948e-03 6.29150307e-03\n",
            " 3.93792720e-03 2.95950712e-03 1.54556112e-03 1.20102653e-03\n",
            " 9.05952167e-04 4.22937727e-32 1.90063325e-33 1.72237212e-33\n",
            " 1.34619377e-33 1.22248933e-33 1.22248933e-33]\n",
            "1.0\n"
          ],
          "name": "stdout"
        }
      ]
    },
    {
      "cell_type": "code",
      "metadata": {
        "id": "qG0Er5iKmeKZ",
        "colab_type": "code",
        "colab": {
          "base_uri": "https://localhost:8080/",
          "height": 269
        },
        "outputId": "437a31f6-86fd-4be9-e880-ce97a2e0f592"
      },
      "source": [
        "def plot_explained(mod):\n",
        "    comps = mod.explained_variance_ratio_\n",
        "    x = range(len(comps))\n",
        "    x = [y + 1 for y in x]          \n",
        "    plt.plot(x,comps)\n",
        "\n",
        "plot_explained(pca_comps)"
      ],
      "execution_count": 12,
      "outputs": [
        {
          "output_type": "display_data",
          "data": {
            "image/png": "[encoded data removed]",
            "text/plain": [
              "<Figure size 432x288 with 1 Axes>"
            ]
          },
          "metadata": {
            "tags": []
          }
        }
      ]
    },
    {
      "cell_type": "code",
      "metadata": {
        "id": "JjKw77UTmhCG",
        "colab_type": "code",
        "colab": {
          "base_uri": "https://localhost:8080/",
          "height": 33
        },
        "outputId": "2c106adf-9346-4008-9147-46cbbbe83bbe"
      },
      "source": [
        "pca_mod_5 = skde.PCA(n_components = 5)\n",
        "pca_mod_5.fit(X_train)\n",
        "Comps = pca_mod_5.transform(X_train)\n",
        "Comps.shape"
      ],
      "execution_count": 13,
      "outputs": [
        {
          "output_type": "execute_result",
          "data": {
            "text/plain": [
              "(700, 5)"
            ]
          },
          "metadata": {
            "tags": []
          },
          "execution_count": 13
        }
      ]
    },
    {
      "cell_type": "code",
      "metadata": {
        "id": "xalB0Xi6mklO",
        "colab_type": "code",
        "colab": {
          "base_uri": "https://localhost:8080/",
          "height": 104
        },
        "outputId": "687d7244-8081-48c5-b7f4-c107c21b71f7"
      },
      "source": [
        "## Define and fit the logistic regression model\n",
        "log_mod_5 = linear_model.LogisticRegression(C = 10.0, class_weight = {0:0.45, 1:0.55}) \n",
        "log_mod_5.fit(Comps, y_train)\n",
        "print(log_mod_5.intercept_)\n",
        "print(log_mod_5.coef_)"
      ],
      "execution_count": 14,
      "outputs": [
        {
          "output_type": "stream",
          "text": [
            "[-0.7970545]\n",
            "[[ 0.351739   -0.03068638 -0.41888098  0.87147247 -0.65315369]]\n"
          ],
          "name": "stdout"
        },
        {
          "output_type": "stream",
          "text": [
            "/usr/local/lib/python3.6/dist-packages/sklearn/linear_model/logistic.py:433: FutureWarning: Default solver will be changed to 'lbfgs' in 0.22. Specify a solver to silence this warning.\n",
            "  FutureWarning)\n"
          ],
          "name": "stderr"
        }
      ]
    },
    {
      "cell_type": "code",
      "metadata": {
        "id": "yDt1sd0ymoxl",
        "colab_type": "code",
        "colab": {
          "base_uri": "https://localhost:8080/",
          "height": 545
        },
        "outputId": "0c1f8785-cbdf-4043-9cdb-f6cfe5b3aec4"
      },
      "source": [
        "def score_model(probs, threshold):\n",
        "    return np.array([1 if x > threshold else 0 for x in probs[:,1]])\n",
        "\n",
        "def print_metrics(labels, probs, threshold):\n",
        "    scores = score_model(probs, threshold)\n",
        "    metrics = sklm.precision_recall_fscore_support(labels, scores)\n",
        "    conf = sklm.confusion_matrix(labels, scores)\n",
        "    print('                 Confusion matrix')\n",
        "    print('                 Score positive    Score negative')\n",
        "    print('Actual positive    %6d' % conf[0,0] + '             %5d' % conf[0,1])\n",
        "    print('Actual negative    %6d' % conf[1,0] + '             %5d' % conf[1,1])\n",
        "    print('')\n",
        "    print('Accuracy        %0.2f' % sklm.accuracy_score(labels, scores))\n",
        "    print('AUC             %0.2f' % sklm.roc_auc_score(labels, probs[:,1]))\n",
        "    print('Macro precision %0.2f' % float((float(metrics[0][0]) + float(metrics[0][1]))/2.0))\n",
        "    print('Macro recall    %0.2f' % float((float(metrics[1][0]) + float(metrics[1][1]))/2.0))\n",
        "    print(' ')\n",
        "    print('           Positive      Negative')\n",
        "    print('Num case   %6d' % metrics[3][0] + '        %6d' % metrics[3][1])\n",
        "    print('Precision  %6.2f' % metrics[0][0] + '        %6.2f' % metrics[0][1])\n",
        "    print('Recall     %6.2f' % metrics[1][0] + '        %6.2f' % metrics[1][1])\n",
        "    print('F1         %6.2f' % metrics[2][0] + '        %6.2f' % metrics[2][1])\n",
        "\n",
        "def plot_auc(labels, probs):\n",
        "    ## Compute the false positive rate, true positive rate\n",
        "    ## and threshold along with the AUC\n",
        "    fpr, tpr, threshold = sklm.roc_curve(labels, probs[:,1])\n",
        "    auc = sklm.auc(fpr, tpr)\n",
        "    \n",
        "    ## Plot the result\n",
        "    plt.title('Receiver Operating Characteristic')\n",
        "    plt.plot(fpr, tpr, color = 'orange', label = 'AUC = %0.2f' % auc)\n",
        "    plt.legend(loc = 'lower right')\n",
        "    plt.plot([0, 1], [0, 1],'r--')\n",
        "    plt.xlim([0, 1])\n",
        "    plt.ylim([0, 1])\n",
        "    plt.ylabel('True Positive Rate')\n",
        "    plt.xlabel('False Positive Rate')\n",
        "    plt.show()    \n",
        "\n",
        "probabilities = log_mod_5.predict_proba(pca_mod_5.transform(X_test))\n",
        "print_metrics(y_test, probabilities, 0.3)    \n",
        "plot_auc(y_test, probabilities)"
      ],
      "execution_count": 15,
      "outputs": [
        {
          "output_type": "stream",
          "text": [
            "                 Confusion matrix\n",
            "                 Score positive    Score negative\n",
            "Actual positive       122                90\n",
            "Actual negative        17                71\n",
            "\n",
            "Accuracy        0.64\n",
            "AUC             0.76\n",
            "Macro precision 0.66\n",
            "Macro recall    0.69\n",
            " \n",
            "           Positive      Negative\n",
            "Num case      212            88\n",
            "Precision    0.88          0.44\n",
            "Recall       0.58          0.81\n",
            "F1           0.70          0.57\n"
          ],
          "name": "stdout"
        },
        {
          "output_type": "display_data",
          "data": {
            "image/png": "[encoded data removed]",
            "text/plain": [
              "<Figure size 432x288 with 1 Axes>"
            ]
          },
          "metadata": {
            "tags": []
          }
        }
      ]
    },
    {
      "cell_type": "code",
      "metadata": {
        "id": "AfmSyOakmtym",
        "colab_type": "code",
        "colab": {
          "base_uri": "https://localhost:8080/",
          "height": 33
        },
        "outputId": "ddd257f9-62de-4f25-834a-c820ad86066d"
      },
      "source": [
        "pca_mod_10 = skde.PCA(n_components = 10)\n",
        "pca_mod_10.fit(X_train)\n",
        "Comps_10 = pca_mod_10.transform(X_train)\n",
        "Comps_10.shape"
      ],
      "execution_count": 16,
      "outputs": [
        {
          "output_type": "execute_result",
          "data": {
            "text/plain": [
              "(700, 10)"
            ]
          },
          "metadata": {
            "tags": []
          },
          "execution_count": 16
        }
      ]
    },
    {
      "cell_type": "code",
      "metadata": {
        "id": "Wo7cXcgsm_Ej",
        "colab_type": "code",
        "colab": {
          "base_uri": "https://localhost:8080/",
          "height": 137
        },
        "outputId": "8adb4835-81c5-424a-8b78-3ab4a92f030c"
      },
      "source": [
        "## define and fit the linear regression model\n",
        "log_mod_10 = linear_model.LogisticRegression(C = 10.0, class_weight = {0:0.45, 1:0.55}) \n",
        "log_mod_10.fit(Comps_10, y_train)"
      ],
      "execution_count": 17,
      "outputs": [
        {
          "output_type": "stream",
          "text": [
            "/usr/local/lib/python3.6/dist-packages/sklearn/linear_model/logistic.py:433: FutureWarning: Default solver will be changed to 'lbfgs' in 0.22. Specify a solver to silence this warning.\n",
            "  FutureWarning)\n"
          ],
          "name": "stderr"
        },
        {
          "output_type": "execute_result",
          "data": {
            "text/plain": [
              "LogisticRegression(C=10.0, class_weight={0: 0.45, 1: 0.55}, dual=False,\n",
              "          fit_intercept=True, intercept_scaling=1, max_iter=100,\n",
              "          multi_class='warn', n_jobs=None, penalty='l2', random_state=None,\n",
              "          solver='warn', tol=0.0001, verbose=0, warm_start=False)"
            ]
          },
          "metadata": {
            "tags": []
          },
          "execution_count": 17
        }
      ]
    },
    {
      "cell_type": "code",
      "metadata": {
        "id": "iduw9kGTnCqb",
        "colab_type": "code",
        "colab": {
          "base_uri": "https://localhost:8080/",
          "height": 545
        },
        "outputId": "0a0f5188-ced0-4707-c74b-bcfcfbb759fe"
      },
      "source": [
        "probabilities = log_mod_10.predict_proba(pca_mod_10.transform(X_test))\n",
        "print_metrics(y_test, probabilities, 0.3)  \n",
        "plot_auc(y_test, probabilities)"
      ],
      "execution_count": 18,
      "outputs": [
        {
          "output_type": "stream",
          "text": [
            "                 Confusion matrix\n",
            "                 Score positive    Score negative\n",
            "Actual positive       131                81\n",
            "Actual negative        14                74\n",
            "\n",
            "Accuracy        0.68\n",
            "AUC             0.80\n",
            "Macro precision 0.69\n",
            "Macro recall    0.73\n",
            " \n",
            "           Positive      Negative\n",
            "Num case      212            88\n",
            "Precision    0.90          0.48\n",
            "Recall       0.62          0.84\n",
            "F1           0.73          0.61\n"
          ],
          "name": "stdout"
        },
        {
          "output_type": "display_data",
          "data": {
            "image/png": "[encoded data removed]",
            "text/plain": [
              "<Figure size 432x288 with 1 Axes>"
            ]
          },
          "metadata": {
            "tags": []
          }
        }
      ]
    },
    {
      "cell_type": "code",
      "metadata": {
        "id": "zC9Ojvj8nHM9",
        "colab_type": "code",
        "colab": {}
      },
      "source": [
        "def print_format(f,x,y,z):\n",
        "    print('Fold %2d    %4.3f        %4.3f      %4.3f' % (f, x, y, z))\n",
        "\n",
        "def print_cv(scores):\n",
        "    fold = [x + 1 for x in range(len(scores['test_precision_macro']))]\n",
        "    print('         Precision     Recall       AUC')\n",
        "    [print_format(f,x,y,z) for f,x,y,z in zip(fold, scores['test_precision_macro'], \n",
        "                                          scores['test_recall_macro'],\n",
        "                                          scores['test_roc_auc'])]\n",
        "    print('-' * 40)\n",
        "    print('Mean       %4.3f        %4.3f      %4.3f' % \n",
        "          (np.mean(scores['test_precision_macro']), np.mean(scores['test_recall_macro']), np.mean(scores['test_roc_auc'])))  \n",
        "    print('Std        %4.3f        %4.3f      %4.3f' % \n",
        "          (np.std(scores['test_precision_macro']), np.std(scores['test_recall_macro']), np.std(scores['test_roc_auc'])))\n",
        "  \n",
        "Labels = Labels.reshape(Labels.shape[0],)\n",
        "scoring = ['precision_macro', 'recall_macro', 'roc_auc']"
      ],
      "execution_count": 0,
      "outputs": []
    },
    {
      "cell_type": "code",
      "metadata": {
        "id": "hQe68FVGnR3t",
        "colab_type": "code",
        "colab": {
          "base_uri": "https://localhost:8080/",
          "height": 605
        },
        "outputId": "461f15bd-7927-4722-9779-e8595bfc2b7b"
      },
      "source": [
        "pca_mod = skde.PCA(n_components = 5)\n",
        "pca_mod.fit(Features)\n",
        "Comps = pca_mod.transform(Features)\n",
        "\n",
        "scores = ms.cross_validate(log_mod_5, Comps, Labels, scoring=scoring,\n",
        "                        cv=10, return_train_score=False)\n",
        "print_cv(scores)"
      ],
      "execution_count": 20,
      "outputs": [
        {
          "output_type": "stream",
          "text": [
            "         Precision     Recall       AUC\n",
            "Fold  1    0.690        0.633      0.757\n",
            "Fold  2    0.599        0.581      0.725\n",
            "Fold  3    0.719        0.667      0.790\n",
            "Fold  4    0.633        0.636      0.649\n",
            "Fold  5    0.716        0.631      0.761\n",
            "Fold  6    0.672        0.626      0.736\n",
            "Fold  7    0.604        0.590      0.647\n",
            "Fold  8    0.702        0.660      0.768\n",
            "Fold  9    0.737        0.674      0.760\n",
            "Fold 10    0.609        0.600      0.708\n",
            "----------------------------------------\n",
            "Mean       0.668        0.630      0.730\n",
            "Std        0.050        0.030      0.047\n"
          ],
          "name": "stdout"
        },
        {
          "output_type": "stream",
          "text": [
            "/usr/local/lib/python3.6/dist-packages/sklearn/linear_model/logistic.py:433: FutureWarning: Default solver will be changed to 'lbfgs' in 0.22. Specify a solver to silence this warning.\n",
            "  FutureWarning)\n",
            "/usr/local/lib/python3.6/dist-packages/sklearn/linear_model/logistic.py:433: FutureWarning: Default solver will be changed to 'lbfgs' in 0.22. Specify a solver to silence this warning.\n",
            "  FutureWarning)\n",
            "/usr/local/lib/python3.6/dist-packages/sklearn/linear_model/logistic.py:433: FutureWarning: Default solver will be changed to 'lbfgs' in 0.22. Specify a solver to silence this warning.\n",
            "  FutureWarning)\n",
            "/usr/local/lib/python3.6/dist-packages/sklearn/linear_model/logistic.py:433: FutureWarning: Default solver will be changed to 'lbfgs' in 0.22. Specify a solver to silence this warning.\n",
            "  FutureWarning)\n",
            "/usr/local/lib/python3.6/dist-packages/sklearn/linear_model/logistic.py:433: FutureWarning: Default solver will be changed to 'lbfgs' in 0.22. Specify a solver to silence this warning.\n",
            "  FutureWarning)\n",
            "/usr/local/lib/python3.6/dist-packages/sklearn/linear_model/logistic.py:433: FutureWarning: Default solver will be changed to 'lbfgs' in 0.22. Specify a solver to silence this warning.\n",
            "  FutureWarning)\n",
            "/usr/local/lib/python3.6/dist-packages/sklearn/linear_model/logistic.py:433: FutureWarning: Default solver will be changed to 'lbfgs' in 0.22. Specify a solver to silence this warning.\n",
            "  FutureWarning)\n",
            "/usr/local/lib/python3.6/dist-packages/sklearn/linear_model/logistic.py:433: FutureWarning: Default solver will be changed to 'lbfgs' in 0.22. Specify a solver to silence this warning.\n",
            "  FutureWarning)\n",
            "/usr/local/lib/python3.6/dist-packages/sklearn/linear_model/logistic.py:433: FutureWarning: Default solver will be changed to 'lbfgs' in 0.22. Specify a solver to silence this warning.\n",
            "  FutureWarning)\n",
            "/usr/local/lib/python3.6/dist-packages/sklearn/linear_model/logistic.py:433: FutureWarning: Default solver will be changed to 'lbfgs' in 0.22. Specify a solver to silence this warning.\n",
            "  FutureWarning)\n"
          ],
          "name": "stderr"
        }
      ]
    },
    {
      "cell_type": "code",
      "metadata": {
        "id": "hkCPdZVZnU62",
        "colab_type": "code",
        "colab": {
          "base_uri": "https://localhost:8080/",
          "height": 605
        },
        "outputId": "f86d2ce7-a631-4f5b-9226-f72ac97cd0fc"
      },
      "source": [
        "pca_mod = skde.PCA(n_components = 10)\n",
        "pca_mod.fit(Features)\n",
        "Comps = pca_mod.transform(Features)\n",
        "\n",
        "scores = ms.cross_validate(log_mod_10, Comps, Labels, scoring=scoring,\n",
        "                        cv=10, return_train_score=False)\n",
        "print_cv(scores)"
      ],
      "execution_count": 21,
      "outputs": [
        {
          "output_type": "stream",
          "text": [
            "         Precision     Recall       AUC\n",
            "Fold  1    0.713        0.705      0.768\n",
            "Fold  2    0.738        0.729      0.800\n",
            "Fold  3    0.642        0.612      0.790\n",
            "Fold  4    0.624        0.617      0.703\n",
            "Fold  5    0.716        0.676      0.807\n",
            "Fold  6    0.686        0.662      0.790\n",
            "Fold  7    0.610        0.612      0.674\n",
            "Fold  8    0.726        0.721      0.815\n",
            "Fold  9    0.713        0.705      0.765\n",
            "Fold 10    0.635        0.648      0.722\n",
            "----------------------------------------\n",
            "Mean       0.680        0.669      0.763\n",
            "Std        0.045        0.043      0.045\n"
          ],
          "name": "stdout"
        },
        {
          "output_type": "stream",
          "text": [
            "/usr/local/lib/python3.6/dist-packages/sklearn/linear_model/logistic.py:433: FutureWarning: Default solver will be changed to 'lbfgs' in 0.22. Specify a solver to silence this warning.\n",
            "  FutureWarning)\n",
            "/usr/local/lib/python3.6/dist-packages/sklearn/linear_model/logistic.py:433: FutureWarning: Default solver will be changed to 'lbfgs' in 0.22. Specify a solver to silence this warning.\n",
            "  FutureWarning)\n",
            "/usr/local/lib/python3.6/dist-packages/sklearn/linear_model/logistic.py:433: FutureWarning: Default solver will be changed to 'lbfgs' in 0.22. Specify a solver to silence this warning.\n",
            "  FutureWarning)\n",
            "/usr/local/lib/python3.6/dist-packages/sklearn/linear_model/logistic.py:433: FutureWarning: Default solver will be changed to 'lbfgs' in 0.22. Specify a solver to silence this warning.\n",
            "  FutureWarning)\n",
            "/usr/local/lib/python3.6/dist-packages/sklearn/linear_model/logistic.py:433: FutureWarning: Default solver will be changed to 'lbfgs' in 0.22. Specify a solver to silence this warning.\n",
            "  FutureWarning)\n",
            "/usr/local/lib/python3.6/dist-packages/sklearn/linear_model/logistic.py:433: FutureWarning: Default solver will be changed to 'lbfgs' in 0.22. Specify a solver to silence this warning.\n",
            "  FutureWarning)\n",
            "/usr/local/lib/python3.6/dist-packages/sklearn/linear_model/logistic.py:433: FutureWarning: Default solver will be changed to 'lbfgs' in 0.22. Specify a solver to silence this warning.\n",
            "  FutureWarning)\n",
            "/usr/local/lib/python3.6/dist-packages/sklearn/linear_model/logistic.py:433: FutureWarning: Default solver will be changed to 'lbfgs' in 0.22. Specify a solver to silence this warning.\n",
            "  FutureWarning)\n",
            "/usr/local/lib/python3.6/dist-packages/sklearn/linear_model/logistic.py:433: FutureWarning: Default solver will be changed to 'lbfgs' in 0.22. Specify a solver to silence this warning.\n",
            "  FutureWarning)\n",
            "/usr/local/lib/python3.6/dist-packages/sklearn/linear_model/logistic.py:433: FutureWarning: Default solver will be changed to 'lbfgs' in 0.22. Specify a solver to silence this warning.\n",
            "  FutureWarning)\n"
          ],
          "name": "stderr"
        }
      ]
    },
    {
      "cell_type": "code",
      "metadata": {
        "id": "ZwuAQ03fnX0d",
        "colab_type": "code",
        "colab": {}
      },
      "source": [
        ""
      ],
      "execution_count": 0,
      "outputs": []
    }
  ]
}